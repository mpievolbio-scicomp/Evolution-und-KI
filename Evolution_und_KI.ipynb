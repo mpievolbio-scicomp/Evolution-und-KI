{
 "cells": [
  {
   "cell_type": "markdown",
   "metadata": {
    "slideshow": {
     "slide_type": "slide"
    }
   },
   "source": [
    "# Künstliche Intelligenz und Evolution -- Rent-a-Scientist 2020\n",
    "von Carsten Fortmann-Grote, Max-Planck-Institut für Evolutionsbiologie, 24306 Plön"
   ]
  },
  {
   "cell_type": "markdown",
   "metadata": {
    "slideshow": {
     "slide_type": "slide"
    }
   },
   "source": [
    "## Begrüßung"
   ]
  },
  {
   "cell_type": "markdown",
   "metadata": {
    "slideshow": {
     "slide_type": "subslide"
    }
   },
   "source": [
    "### Wer bin ich?\n",
    "![Carsten Fortmann-Grote](http://micropop.evolbio.mpg.de/wp-content/uploads/2019/07/IMG_4773.jpg)\n",
    "* Abitur 1998 in Eutin (OH)\n",
    "* Physikstudium, Promotion 2008\n",
    "* Postdoc USA\n",
    "* Scientific Software Developer, QuantumWise (Kopenhagen, DK)\n",
    "* Wissenschaftler am Europäischen Röntgen-Freie Electronenlaser (XFEL), Schenefeld bei Hamburg\n",
    "* Seit 2019 am MPI Evolutionsbiologie in Plön (Wissenschaftliches Rechnen)"
   ]
  },
  {
   "cell_type": "markdown",
   "metadata": {
    "slideshow": {
     "slide_type": "subslide"
    }
   },
   "source": [
    "### Woran forsche ich?\n",
    "* Simulation von Evolutionsprozessen (stochastische Prozesse)\n",
    "* Anwendung von Hochleistungsrechnern und Hochdurchsatzrechnern in der biologischen Datenverarbeitung\n",
    "* \"Deep Learning\" im Bereich der Lebenswissenschaften"
   ]
  },
  {
   "cell_type": "markdown",
   "metadata": {
    "slideshow": {
     "slide_type": "slide"
    }
   },
   "source": [
    "## Einleitung"
   ]
  },
  {
   "cell_type": "markdown",
   "metadata": {
    "slideshow": {
     "slide_type": "subslide"
    }
   },
   "source": [
    "### Was ist KI\n",
    "KI umfasst Forschungs- und Technologiebereiche an den Schnittstellen von Computerwissenschaften,\n",
    "Informatik, Kybernetik, Neurowissenschaften, Didaktik und anderen. Im weitesten Sinne bezeichnet KI,\n",
    "die Möglichkeit programmierbaren (Turing) Maschinen, die Rezeption (Erkennung) und anschliessende\n",
    "Verarbeitung von Information mit dem Ziel eines mehr oder minder spezifischen Erkenntnisgewinns im\n",
    "weitesten Sinne beizubringen. Phänologisch ähnelt die Response künstlich intelligenter Systeme\n",
    "intelligentem (menschlichen) Verhalten in Anbetracht derselben oder analoger Daten oder Situationen.\n",
    "\n",
    "Maschinelles Lernen (ML) ist ein Teilbereich der KI und Deep Learning (DL) widerum ein Teilbereich \n",
    "von ML.\n",
    "\n",
    "\n",
    "![https://d25.io/wp-content/uploads/2019/06/Ebenen_KI1-1.jpg](https://d25.io/wp-content/uploads/2019/06/Ebenen_KI1-1.jpg)\n",
    "Quelle: https://d25.io/wp-content/uploads/2019/06/Ebenen_KI1-1.jpg\n",
    "\n",
    "#"
   ]
  },
  {
   "cell_type": "markdown",
   "metadata": {},
   "source": [
    "* Eine kurze Geschichte der KI\n",
    "* Maschinelles Lernen\n",
    "* (Kuenstliche) Neuronale Netze\n",
    "* Supervised/unsupervised ML"
   ]
  },
  {
   "cell_type": "markdown",
   "metadata": {},
   "source": [
    "### Machine Learning Paradigma\n",
    "* \"Finde ein Modell, dass die vorliegenden Daten beschreibt und neue Daten\n",
    "vorhersagen kann.\"\n",
    "-> \"Suche eine Funktion, die Eingangsdaten (X) mit Ausgangsdaten (Y)\n",
    "verknuepft.\"\n",
    "\n",
    "* Beispiele\n",
    "* Probleme, Grenzen der KI, Ethische Gesichtspunkte"
   ]
  },
  {
   "cell_type": "markdown",
   "metadata": {},
   "source": [
    "### Anwendungsbeispiele fuer ML"
   ]
  },
  {
   "cell_type": "markdown",
   "metadata": {},
   "source": [
    "### Wie funktioniert ML\n",
    "* Trainingsdaten\n",
    "* Validierung\n",
    "* Test"
   ]
  },
  {
   "cell_type": "markdown",
   "metadata": {},
   "source": [
    "## Struktur Neuronaler Netze\n",
    "* Analogie zur Biologie\n",
    "* kuenstliche Neuronen: \n",
    "  - Eingaenge\n",
    "  - Gewichte\n",
    "  - Verschiebung/Bias\n",
    "  - Aktivierungsfunktion\n",
    "  - Ausgang\n",
    "* Struktur eines Neuronalen Netzes:\n",
    "  - Eingangsschicht\n",
    "  - Versteckte ('tiefe') Ebenen\n",
    "  - Ausgangsschicht"
   ]
  },
  {
   "cell_type": "markdown",
   "metadata": {},
   "source": [
    "## Training des Models\n",
    "* Training mit Feedback loop.\n",
    "  - Aufgabe: Variiere die Gewichte so, dass die Trainingsdaten \"moeglichst gut\" vorhergesagt werden -> Hochdimensionales Optimierungsproblem.\n",
    "  - Die Gradientenmethode\n",
    "  - Der Backpropagation Algorithmus\n",
    "* Kurzreferat: Vektoren, Matrizen oder  Funktionen und Ableitungen\n",
    "* Anwendung: Lineare Regression mit einem Neuron (Perceptron)\n",
    "  - Daten: X = , Y = \n",
    "  - Analytische Loesung\n",
    "  - ML Loesung"
   ]
  },
  {
   "cell_type": "markdown",
   "metadata": {},
   "source": [
    "### Training tiefer neuronaler Netze\n",
    "* Metriken des Erfolgs\n",
    "* Backpropagation\n",
    "* SGD\n",
    "* Uebertraining\n",
    "* Hyperparameter und deren Optimierung"
   ]
  },
  {
   "cell_type": "markdown",
   "metadata": {},
   "source": [
    "### Der MNIST Datensatz\n",
    "* Groesse des Datensatzes\n",
    "* Beispielbilder\n",
    "* Bestes Netzwerk"
   ]
  },
  {
   "cell_type": "markdown",
   "metadata": {},
   "source": [
    "## Evolutionaere Algorithmen"
   ]
  },
  {
   "cell_type": "markdown",
   "metadata": {},
   "source": [
    "### Beispiele"
   ]
  },
  {
   "cell_type": "markdown",
   "metadata": {},
   "source": [
    "### Genetischer Algorithmus\n",
    "-> Kurzreferat Genetik"
   ]
  },
  {
   "cell_type": "markdown",
   "metadata": {},
   "source": [
    "#### Genotyp und Phaenotyp"
   ]
  },
  {
   "cell_type": "markdown",
   "metadata": {},
   "source": [
    "#### Hyperparameter als Chromosom eines Netzwerks"
   ]
  },
  {
   "cell_type": "markdown",
   "metadata": {},
   "source": [
    "#### Selektion"
   ]
  },
  {
   "cell_type": "markdown",
   "metadata": {},
   "source": [
    "#### Rolle des Zufalls"
   ]
  },
  {
   "cell_type": "markdown",
   "metadata": {},
   "source": [
    "#### Genetischer Algorithmus zur Optimierung der Hyperparameter"
   ]
  },
  {
   "cell_type": "markdown",
   "metadata": {},
   "source": [
    "## Anwendungsbeispiel"
   ]
  },
  {
   "cell_type": "markdown",
   "metadata": {},
   "source": [
    "### Der Code"
   ]
  },
  {
   "cell_type": "markdown",
   "metadata": {},
   "source": [
    "### Einfuehrung jupyter notebook\n",
    "* Anmeldung\n",
    "* Oeffnen des Notebooks\n",
    "* Navigation und Ausfuehren von Zellen\n",
    "* Vorfuehren einer Generation\n",
    "* Austausch und Synchronisation der ausgewaehlten Modelle"
   ]
  },
  {
   "cell_type": "markdown",
   "metadata": {},
   "source": [
    "### Playtime"
   ]
  },
  {
   "cell_type": "markdown",
   "metadata": {},
   "source": [
    "### Analyse der Resultate"
   ]
  },
  {
   "cell_type": "markdown",
   "metadata": {},
   "source": [
    "### Zusammenfassung und Ausblick"
   ]
  }
 ],
 "metadata": {
  "kernelspec": {
   "display_name": "pydl-tf2.2",
   "language": "python",
   "name": "pydl-tf2.2"
  },
  "language_info": {
   "codemirror_mode": {
    "name": "ipython",
    "version": 3
   },
   "file_extension": ".py",
   "mimetype": "text/x-python",
   "name": "python",
   "nbconvert_exporter": "python",
   "pygments_lexer": "ipython3",
   "version": "3.8.5"
  }
 },
 "nbformat": 4,
 "nbformat_minor": 4
}
