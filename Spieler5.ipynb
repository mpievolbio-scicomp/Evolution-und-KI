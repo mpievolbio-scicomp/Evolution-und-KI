{
 "cells": [
  {
   "cell_type": "code",
   "execution_count": 1,
   "metadata": {},
   "outputs": [],
   "source": [
    "%matplotlib inline"
   ]
  },
  {
   "cell_type": "code",
   "execution_count": 2,
   "metadata": {},
   "outputs": [],
   "source": [
    "%load_ext autoreload"
   ]
  },
  {
   "cell_type": "code",
   "execution_count": 3,
   "metadata": {},
   "outputs": [],
   "source": [
    "%autoreload 2"
   ]
  },
  {
   "cell_type": "code",
   "execution_count": 4,
   "metadata": {},
   "outputs": [],
   "source": [
    "import ipywidgets as widgets\n",
    "import os, shutil, shlex\n",
    "import json, io\n",
    "from subprocess import Popen, PIPE, STDOUT\n",
    "from contextlib import redirect_stdout, redirect_stderr\n",
    "from datetime import datetime\n",
    "import tensorflow as tf\n",
    "import pandas\n",
    "from matplotlib import pyplot\n",
    "from ipywidgets.widgets.interaction import show_inline_matplotlib_plots\n",
    "from keras import backend as K\n",
    "\n",
    "import sys"
   ]
  },
  {
   "cell_type": "code",
   "execution_count": 5,
   "metadata": {},
   "outputs": [],
   "source": [
    "os.environ[\"CUDA_VISIBLE_DEVICES\"]=\"4\""
   ]
  },
  {
   "cell_type": "code",
   "execution_count": 6,
   "metadata": {},
   "outputs": [],
   "source": [
    "sys.path.insert(0, 'gahyparopt/')"
   ]
  },
  {
   "cell_type": "code",
   "execution_count": 7,
   "metadata": {},
   "outputs": [],
   "source": [
    "from gahyperopt import GADriver, Chromosome, LayerLayout, evaluate_model, load_mnist"
   ]
  },
  {
   "cell_type": "code",
   "execution_count": 8,
   "metadata": {},
   "outputs": [],
   "source": [
    "from GAUtilities import *"
   ]
  },
  {
   "cell_type": "code",
   "execution_count": 9,
   "metadata": {},
   "outputs": [],
   "source": [
    "from parameters import *"
   ]
  },
  {
   "cell_type": "code",
   "execution_count": 10,
   "metadata": {},
   "outputs": [],
   "source": [
    "POPULATION_SIZE=1"
   ]
  },
  {
   "cell_type": "code",
   "execution_count": 11,
   "metadata": {},
   "outputs": [],
   "source": [
    "# init\n",
    "class game_instance():\n",
    "    def __init__(self, ga):\n",
    "        self.data = None\n",
    "        self.ga = ga\n",
    "        self.individuum = None\n",
    "        self.name = None\n",
    "        self.history = None"
   ]
  },
  {
   "cell_type": "code",
   "execution_count": 12,
   "metadata": {},
   "outputs": [],
   "source": [
    "spiel = game_instance(\n",
    "        ga=GADriver(\n",
    "            layer_counts=HIDDEN_LAYER_COUNT,\n",
    "            no_neurons=HIDDEN_LAYER_NEURONS,\n",
    "            rates=HIDDEN_LAYER_RATE,\n",
    "            activations=HIDDEN_LAYER_ACTIVATIONS,\n",
    "            layer_types=HIDDEN_LAYER_TYPE,\n",
    "            optimizers=MODEL_OPTIMIZER,\n",
    "            population_size=POPULATION_SIZE,\n",
    "            best_candidates_count=BEST_CANDIDATES_COUNT,\n",
    "            random_candidates_count=RANDOM_CANDIDATES_COUNT,\n",
    "            optimizer_mutation_probability=OPTIMIZER_MUTATION_PROBABILITY,\n",
    "            layer_mutation_probability=HIDDEN_LAYER_MUTATION_PROBABILITY,\n",
    "        )\n",
    "    )"
   ]
  },
  {
   "cell_type": "code",
   "execution_count": 13,
   "metadata": {},
   "outputs": [],
   "source": [
    "widget_dict = {'new_game':None,\n",
    "               'load_data':None,\n",
    "               'spieler_name':None,\n",
    "               'create': None,\n",
    "               'load': None,\n",
    "               'train': None,\n",
    "               'evaluate': None,\n",
    "               'submit_evaluation':None,\n",
    "               'log':None,\n",
    "              }"
   ]
  },
  {
   "cell_type": "code",
   "execution_count": 14,
   "metadata": {},
   "outputs": [],
   "source": [
    "log_widget = widgets.Output(layout={'border': '1px solid black', 'width':'80%', 'scroll':'true'})\n",
    "widget_dict['log'] = log_widget"
   ]
  },
  {
   "cell_type": "code",
   "execution_count": 15,
   "metadata": {},
   "outputs": [],
   "source": [
    "@log_widget.capture()\n",
    "def log_message(widget, msg, clear=False):\n",
    "    if clear:\n",
    "        log_widget.clear_output()\n",
    "    print(\"\\n {} - {}\\n{}\\n\".format(timestamp(), widget.description, msg))"
   ]
  },
  {
   "cell_type": "code",
   "execution_count": 16,
   "metadata": {},
   "outputs": [],
   "source": [
    "new_game_button = widgets.Button(description=\"Neues Spiel\")\n",
    "def new_game_clicked(b):\n",
    "    log_widget.clear_output()\n",
    "    spiel.individuum = None\n",
    "    spiel.data = None\n",
    "    spiel.name = None\n",
    "    spiel.history = None\n",
    "    \n",
    "    clear_keras_session()\n",
    "    \n",
    "    load_data_button.disabled=False\n",
    "    spieler_name_text.disabled=False\n",
    "    spieler_name_button.disabled=False\n",
    "    create_button.disabled=False\n",
    "    load_button.disabled=True\n",
    "    train_button.disabled=True\n",
    "    evaluate_button.disabled=True\n",
    "    evaluation_submit_button.disabled=True\n",
    "    \n",
    "    log_message(b, \"Neues Spiel gestartet.\", clear=True)\n",
    "    \n",
    "    \n",
    "new_game_button.on_click(new_game_clicked)\n",
    "widget_dict['new_game'] = new_game_button"
   ]
  },
  {
   "cell_type": "code",
   "execution_count": 17,
   "metadata": {},
   "outputs": [],
   "source": [
    "load_data_button = widgets.Button(description=\"Daten laden\")\n",
    "def load_data_clicked(b):\n",
    "    spiel.data = load_data()\n",
    "    load_data_button.disabled = True\n",
    "    \n",
    "    log_message(b, \"MNIST Daten geladen.\")\n",
    "load_data_button.on_click(load_data_clicked)\n",
    "widget_dict['load_data'] = load_data_button"
   ]
  },
  {
   "cell_type": "code",
   "execution_count": 18,
   "metadata": {},
   "outputs": [],
   "source": [
    "spieler_name_text = widgets.Text(description=\"Spieler*in Name:\")\n",
    "spieler_name_button = widgets.Button(description=\"Spieler*in registrieren\")\n",
    "def spieler_name_clicked(b):\n",
    "    spiel.name = spieler_name_text.value\n",
    "    #spieler_name_text.disabled=True\n",
    "    #spieler_name_button.disabled=True\n",
    "    \n",
    "    log_message(b, \"{} registriert.\".format(spieler_name_text.value))\n",
    "    \n",
    "spieler_name_button.on_click(spieler_name_clicked)    \n",
    "\n",
    "spieler_name_widget = widgets.HBox(children=[spieler_name_text, spieler_name_button])\n",
    "widget_dict['spieler_name'] = spieler_name_widget"
   ]
  },
  {
   "cell_type": "code",
   "execution_count": 19,
   "metadata": {},
   "outputs": [],
   "source": [
    "create_button = widgets.Button(description=\"Gründe neuen Stamm\")\n",
    "def create_button_clicked(b):\n",
    "    msg = io.StringIO()\n",
    "    with redirect_stdout(msg):\n",
    "        spiel.individuum = create_start_individuum(spiel.ga)[0]\n",
    "        spiel.individuum.ml_model.summary()\n",
    "   \n",
    "    log_message(b, msg.getvalue(), True)\n",
    "    \n",
    "    create_button.disabled=True\n",
    "    train_button.disabled=False\n",
    "    \n",
    "create_button.on_click(create_button_clicked)\n",
    "widget_dict['create'] = create_button"
   ]
  },
  {
   "cell_type": "code",
   "execution_count": 20,
   "metadata": {},
   "outputs": [],
   "source": [
    "load_button = widgets.Button(description=\"Neue Generation\", disabled=True)\n",
    "\n",
    "def load_button_clicked(b):\n",
    "    log_message(b, \"Lade neue Generation.\", clear=True)\n",
    "    msg = io.StringIO()\n",
    "    with redirect_stdout(msg):\n",
    "        clear_keras_session()\n",
    "        sync_remote_to_local(spiel.name)\n",
    "        spiel.individuum = read_chromosome(spiel.name)\n",
    "        spiel.individuum.ml_model.summary()\n",
    "    log_message(b, msg.getvalue())\n",
    "    \n",
    "    load_button.disabled=True\n",
    "    train_button.disabled=False\n",
    "    \n",
    "load_button.on_click(load_button_clicked)\n",
    "widget_dict['load'] = load_button"
   ]
  },
  {
   "cell_type": "code",
   "execution_count": 21,
   "metadata": {},
   "outputs": [],
   "source": [
    "train_button = widgets.Button(description = \"Individuum entwickeln\", disabled=True)\n",
    "def train_button_clicked(b):\n",
    "    log_message(b, \"Training startet.\", True)\n",
    "    with log_widget:\n",
    "        try:\n",
    "            history = train_individuum(spiel.ga,spiel.data,spiel.individuum)\n",
    "            log_message(b, \"Training beendet.\", True)\n",
    "            plot_history(history)\n",
    "            show_inline_matplotlib_plots()\n",
    "\n",
    "        except:\n",
    "            print(\"WARNING: Training failed, accuracy set to 0, loss set to 100.\")\n",
    "            history = None\n",
    "    \n",
    "    \n",
    "    train_button.disabled=True\n",
    "    evaluate_button.disabled=False\n",
    "    \n",
    "train_button.on_click(train_button_clicked)\n",
    "    \n",
    "widget_dict['train'] = train_button"
   ]
  },
  {
   "cell_type": "code",
   "execution_count": 22,
   "metadata": {},
   "outputs": [],
   "source": [
    "evaluation_value_text = widgets.FloatText(description=\"Evaluation\", disabled=True)\n",
    "evaluation_submit_button = widgets.Button(description=\"Jetzt mitteilen\", disabled=True)\n",
    "submit_widget = widgets.HBox(children=[evaluation_value_text, evaluation_submit_button ])\n",
    "evaluate_button = widgets.Button(description=\"Individuum evaluieren\", disabled=True)\n",
    "\n",
    "def evaluate_button_clicked(b):\n",
    "    log_message(b, \"Evaluation startet\")\n",
    "    with log_widget:\n",
    "        try:\n",
    "            loss, accuracy = evaluate_model(spiel.individuum.ml_model, spiel.data['x_val'], y=spiel.data['y_val'])\n",
    "        except:\n",
    "            accuracy = 0.0\n",
    "            loss = 100.0\n",
    "    \n",
    "    evaluate_button.disabled=True\n",
    "        \n",
    "    spiel.individuum.loss = loss\n",
    "    spiel.individuum.accuracy = accuracy\n",
    "    evaluation_value_text.value = accuracy\n",
    "    evaluation_submit_button.disabled=False\n",
    "    \n",
    "evaluate_button.on_click(evaluate_button_clicked)\n",
    "\n",
    "widget_dict['evaluate'] = evaluate_button\n",
    "\n",
    "def evaluation_submit_button_clicked(b):\n",
    "    log_widget.clear_output()\n",
    "    with log_widget:\n",
    "        write_chromosome(spiel.name, spiel.individuum)\n",
    "        sync_local_to_remote(spiel.name)\n",
    "    evaluation_submit_button.disabled=True\n",
    "    load_button.disabled=False\n",
    "    msg = \"Evaluation übermittelt für Spieler*in {}.\".format(spiel.name)\n",
    "    log_message(b, msg)\n",
    "    \n",
    "evaluation_submit_button.on_click(evaluation_submit_button_clicked) \n",
    "\n",
    "widget_dict['submit_evaluation'] = submit_widget\n",
    "\n"
   ]
  },
  {
   "cell_type": "code",
   "execution_count": 23,
   "metadata": {},
   "outputs": [
    {
     "data": {
      "application/vnd.jupyter.widget-view+json": {
       "model_id": "03ca4d795866457fa521500c35f7a2d8",
       "version_major": 2,
       "version_minor": 0
      },
      "text/plain": [
       "VBox(children=(Button(description='Neues Spiel', style=ButtonStyle()), Button(description='Daten laden', style…"
      ]
     },
     "metadata": {},
     "output_type": "display_data"
    }
   ],
   "source": [
    "children=list(widget_dict.values())\n",
    "if not any([c is None for c in children]):\n",
    "    gui = widgets.VBox(children=children)\n",
    "    \n",
    "    display(gui)\n",
    "else:\n",
    "    print(\"Check widgets\")\n",
    "    print(children)"
   ]
  },
  {
   "cell_type": "code",
   "execution_count": 24,
   "metadata": {},
   "outputs": [],
   "source": [
    "load_button.disabled=False"
   ]
  }
 ],
 "metadata": {
  "kernelspec": {
   "display_name": "GA",
   "language": "python",
   "name": "ga"
  },
  "language_info": {
   "codemirror_mode": {
    "name": "ipython",
    "version": 3
   },
   "file_extension": ".py",
   "mimetype": "text/x-python",
   "name": "python",
   "nbconvert_exporter": "python",
   "pygments_lexer": "ipython3",
   "version": "3.8.12"
  }
 },
 "nbformat": 4,
 "nbformat_minor": 4
}
