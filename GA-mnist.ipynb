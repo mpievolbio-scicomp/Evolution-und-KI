{
 "cells": [
  {
   "cell_type": "code",
   "execution_count": 1,
   "metadata": {
    "tags": []
   },
   "outputs": [],
   "source": [
    "%load_ext autoreload"
   ]
  },
  {
   "cell_type": "code",
   "execution_count": 2,
   "metadata": {
    "tags": []
   },
   "outputs": [],
   "source": [
    "%autoreload 2"
   ]
  },
  {
   "cell_type": "markdown",
   "metadata": {},
   "source": [
    "# Genetic algorithm for hyperparameter optimization on the mnist dataset.\n",
    "Credits: https://github.com/guibacellar/OpenAi/blob/master/CartPole-GA.py"
   ]
  },
  {
   "cell_type": "code",
   "execution_count": 3,
   "metadata": {
    "slideshow": {
     "slide_type": "slide"
    },
    "tags": []
   },
   "outputs": [
    {
     "name": "stderr",
     "output_type": "stream",
     "text": [
      "2023-07-03 11:05:27.842279: I tensorflow/core/platform/cpu_feature_guard.cc:193] This TensorFlow binary is optimized with oneAPI Deep Neural Network Library (oneDNN) to use the following CPU instructions in performance-critical operations:  SSE4.1 SSE4.2 AVX AVX2 AVX512F AVX512_VNNI FMA\n",
      "To enable them in other operations, rebuild TensorFlow with the appropriate compiler flags.\n",
      "2023-07-03 11:05:27.927664: I tensorflow/core/util/port.cc:104] oneDNN custom operations are on. You may see slightly different numerical results due to floating-point round-off errors from different computation orders. To turn them off, set the environment variable `TF_ENABLE_ONEDNN_OPTS=0`.\n"
     ]
    }
   ],
   "source": [
    "import os\n",
    "import random\n",
    "import pandas as pd\n",
    "import numpy as np\n",
    "import tensorflow as tf\n",
    "import time\n",
    "from keras.models import Sequential\n",
    "from keras.datasets import mnist\n",
    "from keras.layers import Dense, Dropout, InputLayer\n",
    "from keras import backend as K\n",
    "from keras.utils import to_categorical\n",
    "from matplotlib import pyplot\n",
    "import ipywidgets\n",
    "\n",
    "# pyplot.style.use(['dark_background'])"
   ]
  },
  {
   "cell_type": "code",
   "execution_count": 4,
   "metadata": {
    "tags": []
   },
   "outputs": [],
   "source": [
    "# local imports\n",
    "from gahyparopt.gahyperopt import *"
   ]
  },
  {
   "cell_type": "code",
   "execution_count": 5,
   "metadata": {
    "slideshow": {
     "slide_type": "slide"
    },
    "tags": []
   },
   "outputs": [],
   "source": [
    "# Define Hyperparameters for NN\n",
    "HIDDEN_LAYER_COUNT = [1, 2, 3, 4, 5, 6, 7, 8, 9, 10]\n",
    "HIDDEN_LAYER_NEURONS = [8, 16, 24, 32, 64, 128, 256, 512]\n",
    "HIDDEN_LAYER_RATE = [0.1, 0.2, 0.3, 0.4, 0.5, 0.6, 0.7, 0.8, 0.9]\n",
    "HIDDEN_LAYER_ACTIVATIONS = ['relu', 'tanh', 'sigmoid']\n",
    "HIDDEN_LAYER_TYPE = ['dense', 'dropout']\n",
    "MODEL_OPTIMIZER = ['rmsprop', 'adams', 'sgd']\n",
    "\n",
    "# Define Genetic Algorithm Parameters\n",
    "MAX_GENERATIONS = 100  # Max Number of Generations to Apply the Genetic Algorithm\n",
    "POPULATION_SIZE = 8  # Max Number of Individuals in Each Population\n",
    "BEST_CANDIDATES_COUNT = 2  # Number of Best Candidates to Use\n",
    "RANDOM_CANDIDATES_COUNT = 1  # Number of Random Candidates (From Entire Population of Generation) to Next Population\n",
    "OPTIMIZER_MUTATION_PROBABILITY = 0.3  # 10% of Probability to Apply Mutation on Optimizer Parameter\n",
    "HIDDEN_LAYER_MUTATION_PROBABILITY = 0.4  # 10% of Probability to Apply Mutation on Hidden Layer Quantity"
   ]
  },
  {
   "cell_type": "code",
   "execution_count": 6,
   "metadata": {
    "slideshow": {
     "slide_type": "slide"
    },
    "tags": []
   },
   "outputs": [],
   "source": [
    "ga = GADriver(layer_counts=HIDDEN_LAYER_COUNT,\n",
    "                     no_neurons=HIDDEN_LAYER_NEURONS,\n",
    "                     rates=HIDDEN_LAYER_RATE,\n",
    "                     activations=HIDDEN_LAYER_ACTIVATIONS,\n",
    "                     layer_types=HIDDEN_LAYER_TYPE,\n",
    "                     optimizers=MODEL_OPTIMIZER,\n",
    "                     population_size=POPULATION_SIZE,\n",
    "                     best_candidates_count=BEST_CANDIDATES_COUNT,\n",
    "                     random_candidates_count=RANDOM_CANDIDATES_COUNT,\n",
    "                     optimizer_mutation_probability=OPTIMIZER_MUTATION_PROBABILITY,\n",
    "                     layer_mutation_probability=HIDDEN_LAYER_MUTATION_PROBABILITY,\n",
    "                    )"
   ]
  },
  {
   "cell_type": "code",
   "execution_count": 7,
   "metadata": {
    "tags": []
   },
   "outputs": [],
   "source": [
    "os.environ[\"CUDA_VISIBLE_DEVICES\"]=\"7\""
   ]
  },
  {
   "cell_type": "code",
   "execution_count": 8,
   "metadata": {
    "slideshow": {
     "slide_type": "slide"
    },
    "tags": []
   },
   "outputs": [],
   "source": [
    "# Get test and training data.\n",
    "data = load_mnist()"
   ]
  },
  {
   "cell_type": "code",
   "execution_count": null,
   "metadata": {},
   "outputs": [],
   "source": []
  },
  {
   "cell_type": "code",
   "execution_count": null,
   "metadata": {},
   "outputs": [],
   "source": []
  },
  {
   "cell_type": "code",
   "execution_count": 9,
   "metadata": {
    "tags": []
   },
   "outputs": [
    {
     "data": {
      "application/vnd.jupyter.widget-view+json": {
       "model_id": "16b07e4de02d4b618eacf3acaf0ce7bc",
       "version_major": 2,
       "version_minor": 0
      },
      "text/plain": [
       "interactive(children=(IntSlider(value=0, description='i', max=39999, step=100), Output()), _dom_classes=('widg…"
      ]
     },
     "metadata": {},
     "output_type": "display_data"
    }
   ],
   "source": [
    "@ipywidgets.interact(i=ipywidgets.IntSlider(min=0, max=40000-1, step=100, value=0))\n",
    "def plot_mnist_figure(i):\n",
    "    print(data['y_train'][i])\n",
    "    pyplot.imshow(data['x_train'][i].reshape(28,28), cmap='bone_r')"
   ]
  },
  {
   "cell_type": "code",
   "execution_count": 10,
   "metadata": {
    "tags": []
   },
   "outputs": [],
   "source": [
    "def generate_reference_ml(data):\n",
    "    \"\"\"\n",
    "    Train and Generate NN Model based on https://github.com/fchollet/deep-learning-with-python-notebooks/blobs/master/2.1-a-first-look-at-a-neural-netword.ipynb'\n",
    "    :param df: Dataframe to Training Process\n",
    "    :return:\n",
    "    \"\"\"\n",
    "    print(\"[+] Training Original NN Model: \", end='')\n",
    "    run_start = time.time()\n",
    "\n",
    "    # Define Neural model Topology\n",
    "    model = Sequential()\n",
    "    model.add(Dense(512, activation='relu', input_shape=(28 * 28,)))\n",
    "    model.add(Dense(10, activation='softmax'))\n",
    "\n",
    "    # Compile Neural model\n",
    "    model.compile(optimizer='rmsprop', loss='categorical_crossentropy', metrics=['accuracy'])\n",
    "    model.summary()\n",
    "\n",
    "    # Fit Model with Data\n",
    "    x_train, y_train, x_val, y_val = data.values()\n",
    "    training = model.fit(x_train, y_train,\n",
    "        epochs=20,\n",
    "        batch_size=128,\n",
    "        steps_per_epoch=300,\n",
    "        verbose=1,\n",
    "        validation_data=(x_val, y_val),\n",
    "    )\n",
    "\n",
    "    run_stop = time.time()\n",
    "    print(f\"Done > Takes {run_stop-run_start} sec\")\n",
    "\n",
    "    return model, training\n"
   ]
  },
  {
   "cell_type": "code",
   "execution_count": 11,
   "metadata": {
    "slideshow": {
     "slide_type": "subslide"
    },
    "tags": []
   },
   "outputs": [
    {
     "name": "stdout",
     "output_type": "stream",
     "text": [
      "[+] Training Original NN Model: "
     ]
    },
    {
     "name": "stderr",
     "output_type": "stream",
     "text": [
      "2023-07-03 11:05:30.365687: I tensorflow/core/platform/cpu_feature_guard.cc:193] This TensorFlow binary is optimized with oneAPI Deep Neural Network Library (oneDNN) to use the following CPU instructions in performance-critical operations:  SSE4.1 SSE4.2 AVX AVX2 AVX512F AVX512_VNNI FMA\n",
      "To enable them in other operations, rebuild TensorFlow with the appropriate compiler flags.\n",
      "2023-07-03 11:05:30.913172: I tensorflow/core/common_runtime/gpu/gpu_device.cc:1613] Created device /job:localhost/replica:0/task:0/device:GPU:0 with 9383 MB memory:  -> device: 0, name: NVIDIA GeForce RTX 2080 Ti, pci bus id: 0000:b2:00.0, compute capability: 7.5\n"
     ]
    },
    {
     "name": "stdout",
     "output_type": "stream",
     "text": [
      "Model: \"sequential\"\n",
      "_________________________________________________________________\n",
      " Layer (type)                Output Shape              Param #   \n",
      "=================================================================\n",
      " dense (Dense)               (None, 512)               401920    \n",
      "                                                                 \n",
      " dense_1 (Dense)             (None, 10)                5130      \n",
      "                                                                 \n",
      "=================================================================\n",
      "Total params: 407,050\n",
      "Trainable params: 407,050\n",
      "Non-trainable params: 0\n",
      "_________________________________________________________________\n",
      "Epoch 1/20\n"
     ]
    },
    {
     "name": "stderr",
     "output_type": "stream",
     "text": [
      "2023-07-03 11:05:32.491163: I tensorflow/compiler/xla/service/service.cc:173] XLA service 0x7fb14401bea0 initialized for platform CUDA (this does not guarantee that XLA will be used). Devices:\n",
      "2023-07-03 11:05:32.491223: I tensorflow/compiler/xla/service/service.cc:181]   StreamExecutor device (0): NVIDIA GeForce RTX 2080 Ti, Compute Capability 7.5\n",
      "2023-07-03 11:05:32.505475: I tensorflow/compiler/mlir/tensorflow/utils/dump_mlir_util.cc:268] disabling MLIR crash reproducer, set env var `MLIR_CRASH_REPRODUCER_DIRECTORY` to enable.\n",
      "2023-07-03 11:05:32.621049: I tensorflow/tsl/platform/default/subprocess.cc:304] Start cannot spawn child process: No such file or directory\n",
      "2023-07-03 11:05:32.672885: I tensorflow/compiler/jit/xla_compilation_cache.cc:477] Compiled cluster using XLA!  This line is logged at most once for the lifetime of the process.\n"
     ]
    },
    {
     "name": "stdout",
     "output_type": "stream",
     "text": [
      "300/300 [==============================] - 4s 8ms/step - loss: 0.3254 - accuracy: 0.9062 - val_loss: 0.1791 - val_accuracy: 0.9487\n",
      "Epoch 2/20\n",
      "300/300 [==============================] - 2s 8ms/step - loss: 0.1349 - accuracy: 0.9610 - val_loss: 0.1323 - val_accuracy: 0.9600\n",
      "Epoch 3/20\n",
      "300/300 [==============================] - 2s 7ms/step - loss: 0.0910 - accuracy: 0.9732 - val_loss: 0.1059 - val_accuracy: 0.9692\n",
      "Epoch 4/20\n",
      "300/300 [==============================] - 2s 7ms/step - loss: 0.0663 - accuracy: 0.9810 - val_loss: 0.0949 - val_accuracy: 0.9714\n",
      "Epoch 5/20\n",
      "300/300 [==============================] - 2s 7ms/step - loss: 0.0480 - accuracy: 0.9860 - val_loss: 0.0898 - val_accuracy: 0.9735\n",
      "Epoch 6/20\n",
      "300/300 [==============================] - 2s 7ms/step - loss: 0.0353 - accuracy: 0.9900 - val_loss: 0.0901 - val_accuracy: 0.9749\n",
      "Epoch 7/20\n",
      "300/300 [==============================] - 2s 7ms/step - loss: 0.0276 - accuracy: 0.9924 - val_loss: 0.0904 - val_accuracy: 0.9758\n",
      "Epoch 8/20\n",
      "300/300 [==============================] - 2s 7ms/step - loss: 0.0217 - accuracy: 0.9942 - val_loss: 0.0887 - val_accuracy: 0.9758\n",
      "Epoch 9/20\n",
      "300/300 [==============================] - 2s 7ms/step - loss: 0.0160 - accuracy: 0.9960 - val_loss: 0.0949 - val_accuracy: 0.9766\n",
      "Epoch 10/20\n",
      "300/300 [==============================] - 2s 8ms/step - loss: 0.0121 - accuracy: 0.9972 - val_loss: 0.0862 - val_accuracy: 0.9768\n",
      "Epoch 11/20\n",
      "300/300 [==============================] - 2s 7ms/step - loss: 0.0095 - accuracy: 0.9980 - val_loss: 0.0877 - val_accuracy: 0.9767\n",
      "Epoch 12/20\n",
      "300/300 [==============================] - 2s 7ms/step - loss: 0.0070 - accuracy: 0.9986 - val_loss: 0.0891 - val_accuracy: 0.9780\n",
      "Epoch 13/20\n",
      "300/300 [==============================] - 2s 7ms/step - loss: 0.0044 - accuracy: 0.9993 - val_loss: 0.0909 - val_accuracy: 0.9771\n",
      "Epoch 14/20\n",
      "300/300 [==============================] - 2s 8ms/step - loss: 0.0034 - accuracy: 0.9995 - val_loss: 0.0918 - val_accuracy: 0.9772\n",
      "Epoch 15/20\n",
      "300/300 [==============================] - 2s 7ms/step - loss: 0.0019 - accuracy: 0.9999 - val_loss: 0.0917 - val_accuracy: 0.9783\n",
      "Epoch 16/20\n",
      "300/300 [==============================] - 2s 7ms/step - loss: 0.0014 - accuracy: 0.9999 - val_loss: 0.0938 - val_accuracy: 0.9783\n",
      "Epoch 17/20\n",
      "300/300 [==============================] - 2s 7ms/step - loss: 0.0011 - accuracy: 1.0000 - val_loss: 0.0952 - val_accuracy: 0.9787\n",
      "Epoch 18/20\n",
      "300/300 [==============================] - 2s 8ms/step - loss: 8.1556e-04 - accuracy: 0.9999 - val_loss: 0.0956 - val_accuracy: 0.9786\n",
      "Epoch 19/20\n",
      "300/300 [==============================] - 2s 8ms/step - loss: 6.6673e-04 - accuracy: 1.0000 - val_loss: 0.0965 - val_accuracy: 0.9788\n",
      "Epoch 20/20\n",
      "300/300 [==============================] - 2s 7ms/step - loss: 5.5647e-04 - accuracy: 1.0000 - val_loss: 0.0975 - val_accuracy: 0.9786\n",
      "Done > Takes 47.49248504638672 sec\n"
     ]
    }
   ],
   "source": [
    "# Creates a Reference NN Model based on \n",
    "ml_model, training = generate_reference_ml(data)"
   ]
  },
  {
   "cell_type": "code",
   "execution_count": 12,
   "metadata": {
    "tags": []
   },
   "outputs": [],
   "source": [
    "from tensorflow.keras.utils import plot_model"
   ]
  },
  {
   "cell_type": "code",
   "execution_count": 13,
   "metadata": {
    "tags": []
   },
   "outputs": [],
   "source": [
    "plot = plot_model(ml_model, show_shapes=True, )"
   ]
  },
  {
   "cell_type": "code",
   "execution_count": 14,
   "metadata": {
    "tags": []
   },
   "outputs": [
    {
     "data": {
      "text/plain": [
       "IPython.core.display.Image"
      ]
     },
     "execution_count": 14,
     "metadata": {},
     "output_type": "execute_result"
    }
   ],
   "source": [
    "type(plot)"
   ]
  },
  {
   "cell_type": "code",
   "execution_count": 15,
   "metadata": {
    "tags": []
   },
   "outputs": [
    {
     "data": {
      "image/png": "[encoded data removed]",
      "text/plain": [
       "<IPython.core.display.Image object>"
      ]
     },
     "metadata": {},
     "output_type": "display_data"
    }
   ],
   "source": [
    "display(plot)"
   ]
  },
  {
   "cell_type": "code",
   "execution_count": 14,
   "metadata": {
    "slideshow": {
     "slide_type": "slide"
    }
   },
   "outputs": [
    {
     "data": {
      "text/plain": [
       "<matplotlib.legend.Legend at 0x7f58eac8e100>"
      ]
     },
     "execution_count": 14,
     "metadata": {},
     "output_type": "execute_result"
    },
    {
     "data": {
      "image/png": "[encoded data removed]",
      "text/plain": [
       "<Figure size 432x288 with 2 Axes>"
      ]
     },
     "metadata": {
      "needs_background": "light"
     },
     "output_type": "display_data"
    }
   ],
   "source": [
    "history = pd.DataFrame(training.history)\n",
    "\n",
    "fig, ax = pyplot.subplots(2,1)\n",
    "history['loss'].plot(ax=ax[0], style=\"o\",label='loss')\n",
    "history['val_loss'].plot(ax=ax[0], style=\"o\",label='val loss')\n",
    "ax[0].legend()\n",
    "history['accuracy'].plot(ax=ax[1], style=\"o\",label='acc')\n",
    "history['val_accuracy'].plot(ax=ax[1], style=\"o\",label='val acc')\n",
    "ax[1].legend()"
   ]
  },
  {
   "cell_type": "code",
   "execution_count": 10,
   "metadata": {
    "slideshow": {
     "slide_type": "subslide"
    }
   },
   "outputs": [
    {
     "name": "stdout",
     "output_type": "stream",
     "text": [
      "625/625 [==============================] - 2s 2ms/step - loss: 0.1412 - accuracy: 0.9759\n",
      "\tAccuracy:0.9758999943733215 | Loss:0.14124155044555664 |\n"
     ]
    }
   ],
   "source": [
    "# Play Games with Reference NN Model\n",
    "print(\"[+] Evaluate reference model \\t>\", end='', flush=True)\n",
    "loss, accuracy  = evaluate_model(ml_model=ml_model, x = data['x_val'], y=data['y_val'])\n",
    "print(f\"\\tAccuracy:{accuracy} | Loss:{loss} |\")"
   ]
  },
  {
   "cell_type": "code",
   "execution_count": 11,
   "metadata": {
    "slideshow": {
     "slide_type": "subslide"
    }
   },
   "outputs": [
    {
     "name": "stdout",
     "output_type": "stream",
     "text": [
      "\n",
      "********** Genetic Algorithm **********\n",
      "[+] Creating Initial NN Model Population Randomly: Done > Takes 0.0002484321594238281 sec\n"
     ]
    }
   ],
   "source": [
    "# >>>>>> Genetic Algorithm Section <<<<<<\n",
    "print(\"\\n********** Genetic Algorithm **********\")\n",
    "population = ga.generate_first_population_randomly()"
   ]
  },
  {
   "cell_type": "code",
   "execution_count": 12,
   "metadata": {},
   "outputs": [
    {
     "data": {
      "text/plain": [
       "5"
      ]
     },
     "execution_count": 12,
     "metadata": {},
     "output_type": "execute_result"
    }
   ],
   "source": [
    "len(population)"
   ]
  },
  {
   "cell_type": "code",
   "execution_count": 14,
   "metadata": {
    "slideshow": {
     "slide_type": "slide"
    }
   },
   "outputs": [
    {
     "name": "stdout",
     "output_type": "stream",
     "text": [
      "[+] Generation 1 of 100\n",
      "\tTraining Models:\n",
      "\t\tGenerating model for individual 0\n",
      "\t\tGenerating model for individual 1\n",
      "\t\tGenerating model for individual 2\n",
      "\t\tGenerating model for individual 3\n",
      "\t\tGenerating model for individual 4\n",
      "Done > Takes 68.8868579864502 sec\n",
      "\tEvaluating Population: \n",
      "\t\tIndividual 0\n",
      "625/625 [==============================] - 1s 2ms/step - loss: 0.2013 - accuracy: 0.9431\n",
      "\t\tIndividual 1\n",
      "625/625 [==============================] - 2s 3ms/step - loss: 1.0833 - accuracy: 0.6234\n",
      "\t\tIndividual 2\n",
      "625/625 [==============================] - 2s 3ms/step - loss: 1.7675 - accuracy: 0.5201\n",
      "\t\tIndividual 3\n",
      "625/625 [==============================] - 1s 2ms/step - loss: 2.3024 - accuracy: 0.1000\n",
      "\t\tIndividual 4\n",
      "625/625 [==============================] - 1s 2ms/step - loss: 2.3016 - accuracy: 0.1089\n",
      "Done > Takes 7.984793424606323 sec\n",
      "[+] Generation 2 of 100\n",
      "\tTraining Models:\n",
      "\t\tGenerating model for individual 0\n",
      "\t\tGenerating model for individual 1\n",
      "\t\tGenerating model for individual 2\n",
      "\t\tGenerating model for individual 3\n",
      "\t\tGenerating model for individual 4\n",
      "Done > Takes 66.80543684959412 sec\n",
      "\tEvaluating Population: \n",
      "\t\tIndividual 0\n",
      "625/625 [==============================] - 1s 2ms/step - loss: 0.2128 - accuracy: 0.9378\n",
      "\t\tIndividual 1\n",
      "625/625 [==============================] - 2s 3ms/step - loss: 1.0338 - accuracy: 0.6032\n",
      "\t\tIndividual 2\n",
      "625/625 [==============================] - 1s 2ms/step - loss: 2.3026 - accuracy: 0.1089\n",
      "\t\tIndividual 3\n",
      "625/625 [==============================] - 2s 2ms/step - loss: 0.3283 - accuracy: 0.9143\n",
      "\t\tIndividual 4\n",
      "625/625 [==============================] - 1s 2ms/step - loss: 2.2754 - accuracy: 0.1938\n",
      "Done > Takes 8.04120945930481 sec\n",
      "[+] Generation 3 of 100\n",
      "\tTraining Models:\n",
      "\t\tGenerating model for individual 0\n",
      "\t\tGenerating model for individual 1\n",
      "\t\tGenerating model for individual 2\n",
      "\t\tGenerating model for individual 3\n",
      "\t\tGenerating model for individual 4\n",
      "Done > Takes 66.9724645614624 sec\n",
      "\tEvaluating Population: \n",
      "\t\tIndividual 0\n",
      "625/625 [==============================] - 2s 2ms/step - loss: 0.2379 - accuracy: 0.9309\n",
      "\t\tIndividual 1\n",
      "625/625 [==============================] - 2s 3ms/step - loss: 0.2417 - accuracy: 0.9392\n",
      "\t\tIndividual 2\n",
      "625/625 [==============================] - 1s 2ms/step - loss: 0.2379 - accuracy: 0.9309\n",
      "\t\tIndividual 3\n",
      "625/625 [==============================] - 2s 3ms/step - loss: 0.1978 - accuracy: 0.9417\n",
      "\t\tIndividual 4\n",
      "625/625 [==============================] - 2s 2ms/step - loss: 0.4338 - accuracy: 0.8960\n",
      "Done > Takes 8.36791443824768 sec\n",
      "[+] Generation 4 of 100\n",
      "\tTraining Models:\n",
      "\t\tGenerating model for individual 0\n",
      "\t\tGenerating model for individual 1\n",
      "\t\tGenerating model for individual 2\n",
      "\t\tGenerating model for individual 3\n",
      "\t\tGenerating model for individual 4\n",
      "Done > Takes 69.73271679878235 sec\n",
      "\tEvaluating Population: \n",
      "\t\tIndividual 0\n",
      "625/625 [==============================] - 2s 3ms/step - loss: 0.3021 - accuracy: 0.9049\n",
      "\t\tIndividual 1\n",
      "625/625 [==============================] - 2s 3ms/step - loss: 0.2625 - accuracy: 0.9366\n",
      "\t\tIndividual 2\n",
      "625/625 [==============================] - 2s 2ms/step - loss: 0.2625 - accuracy: 0.9366\n",
      "\t\tIndividual 3\n",
      "625/625 [==============================] - 2s 2ms/step - loss: 0.2688 - accuracy: 0.9324\n",
      "\t\tIndividual 4\n",
      "625/625 [==============================] - 2s 3ms/step - loss: 0.2922 - accuracy: 0.9215\n",
      "Done > Takes 8.444944143295288 sec\n",
      "[+] Generation 5 of 100\n",
      "\tTraining Models:\n",
      "\t\tGenerating model for individual 0\n",
      "\t\tGenerating model for individual 1\n",
      "\t\tGenerating model for individual 2\n",
      "\t\tGenerating model for individual 3\n",
      "\t\tGenerating model for individual 4\n",
      "Done > Takes 68.65926384925842 sec\n",
      "\tEvaluating Population: \n",
      "\t\tIndividual 0\n",
      "625/625 [==============================] - 2s 2ms/step - loss: 0.3046 - accuracy: 0.9173\n",
      "\t\tIndividual 1\n",
      "625/625 [==============================] - 2s 3ms/step - loss: 0.3046 - accuracy: 0.9173\n",
      "\t\tIndividual 2\n",
      "625/625 [==============================] - 2s 3ms/step - loss: 0.2863 - accuracy: 0.9218\n",
      "\t\tIndividual 3\n",
      "625/625 [==============================] - 2s 3ms/step - loss: 0.3006 - accuracy: 0.9183\n",
      "\t\tIndividual 4\n",
      "625/625 [==============================] - 2s 3ms/step - loss: 0.2469 - accuracy: 0.9360\n",
      "Done > Takes 8.527219295501709 sec\n",
      "[+] Generation 6 of 100\n",
      "\tTraining Models:\n",
      "\t\tGenerating model for individual 0\n",
      "\t\tGenerating model for individual 1\n",
      "\t\tGenerating model for individual 2\n"
     ]
    },
    {
     "ename": "KeyboardInterrupt",
     "evalue": "",
     "output_type": "error",
     "traceback": [
      "\u001b[0;31m---------------------------------------------------------------------------\u001b[0m",
      "\u001b[0;31mKeyboardInterrupt\u001b[0m                         Traceback (most recent call last)",
      "\u001b[0;32m<ipython-input-14-5f628fba2b0e>\u001b[0m in \u001b[0;36m<module>\u001b[0;34m\u001b[0m\n\u001b[1;32m     11\u001b[0m     \u001b[0;32mfor\u001b[0m \u001b[0mi\u001b[0m\u001b[0;34m,\u001b[0m\u001b[0mindividual\u001b[0m \u001b[0;32min\u001b[0m \u001b[0menumerate\u001b[0m\u001b[0;34m(\u001b[0m\u001b[0mpopulation\u001b[0m\u001b[0;34m)\u001b[0m\u001b[0;34m:\u001b[0m\u001b[0;34m\u001b[0m\u001b[0;34m\u001b[0m\u001b[0m\n\u001b[1;32m     12\u001b[0m         \u001b[0mprint\u001b[0m\u001b[0;34m(\u001b[0m\u001b[0;34mf\"\\t\\tGenerating model for individual {i}\"\u001b[0m\u001b[0;34m,\u001b[0m \u001b[0mend\u001b[0m\u001b[0;34m=\u001b[0m\u001b[0;34m'\\n'\u001b[0m\u001b[0;34m,\u001b[0m \u001b[0mflush\u001b[0m\u001b[0;34m=\u001b[0m\u001b[0;32mTrue\u001b[0m\u001b[0;34m)\u001b[0m\u001b[0;34m\u001b[0m\u001b[0;34m\u001b[0m\u001b[0m\n\u001b[0;32m---> 13\u001b[0;31m         \u001b[0mga\u001b[0m\u001b[0;34m.\u001b[0m\u001b[0mgenerate_model_from_chromosome\u001b[0m\u001b[0;34m(\u001b[0m\u001b[0mdata\u001b[0m\u001b[0;34m,\u001b[0m \u001b[0mindividual\u001b[0m\u001b[0;34m)\u001b[0m\u001b[0;34m\u001b[0m\u001b[0;34m\u001b[0m\u001b[0m\n\u001b[0m\u001b[1;32m     14\u001b[0m \u001b[0;34m\u001b[0m\u001b[0m\n\u001b[1;32m     15\u001b[0m     \u001b[0mtraining_stop\u001b[0m \u001b[0;34m=\u001b[0m \u001b[0mtime\u001b[0m\u001b[0;34m.\u001b[0m\u001b[0mtime\u001b[0m\u001b[0;34m(\u001b[0m\u001b[0;34m)\u001b[0m\u001b[0;34m\u001b[0m\u001b[0;34m\u001b[0m\u001b[0m\n",
      "\u001b[0;32m~/Repositories/gahyparopt/gahyperopt.py\u001b[0m in \u001b[0;36mgenerate_model_from_chromosome\u001b[0;34m(self, data, chromosome)\u001b[0m\n\u001b[1;32m    122\u001b[0m \u001b[0;34m\u001b[0m\u001b[0m\n\u001b[1;32m    123\u001b[0m         \u001b[0;31m# Fit Model with Data\u001b[0m\u001b[0;34m\u001b[0m\u001b[0;34m\u001b[0m\u001b[0;34m\u001b[0m\u001b[0m\n\u001b[0;32m--> 124\u001b[0;31m         m_model.fit(\n\u001b[0m\u001b[1;32m    125\u001b[0m             \u001b[0mx_train\u001b[0m\u001b[0;34m,\u001b[0m\u001b[0;34m\u001b[0m\u001b[0;34m\u001b[0m\u001b[0m\n\u001b[1;32m    126\u001b[0m             \u001b[0my_train\u001b[0m\u001b[0;34m,\u001b[0m\u001b[0;34m\u001b[0m\u001b[0;34m\u001b[0m\u001b[0m\n",
      "\u001b[0;32m~/.conda/envs/pydl-tf2.2/lib/python3.8/site-packages/tensorflow/python/keras/engine/training.py\u001b[0m in \u001b[0;36m_method_wrapper\u001b[0;34m(self, *args, **kwargs)\u001b[0m\n\u001b[1;32m     64\u001b[0m   \u001b[0;32mdef\u001b[0m \u001b[0m_method_wrapper\u001b[0m\u001b[0;34m(\u001b[0m\u001b[0mself\u001b[0m\u001b[0;34m,\u001b[0m \u001b[0;34m*\u001b[0m\u001b[0margs\u001b[0m\u001b[0;34m,\u001b[0m \u001b[0;34m**\u001b[0m\u001b[0mkwargs\u001b[0m\u001b[0;34m)\u001b[0m\u001b[0;34m:\u001b[0m\u001b[0;34m\u001b[0m\u001b[0;34m\u001b[0m\u001b[0m\n\u001b[1;32m     65\u001b[0m     \u001b[0;32mif\u001b[0m \u001b[0;32mnot\u001b[0m \u001b[0mself\u001b[0m\u001b[0;34m.\u001b[0m\u001b[0m_in_multi_worker_mode\u001b[0m\u001b[0;34m(\u001b[0m\u001b[0;34m)\u001b[0m\u001b[0;34m:\u001b[0m  \u001b[0;31m# pylint: disable=protected-access\u001b[0m\u001b[0;34m\u001b[0m\u001b[0;34m\u001b[0m\u001b[0m\n\u001b[0;32m---> 66\u001b[0;31m       \u001b[0;32mreturn\u001b[0m \u001b[0mmethod\u001b[0m\u001b[0;34m(\u001b[0m\u001b[0mself\u001b[0m\u001b[0;34m,\u001b[0m \u001b[0;34m*\u001b[0m\u001b[0margs\u001b[0m\u001b[0;34m,\u001b[0m \u001b[0;34m**\u001b[0m\u001b[0mkwargs\u001b[0m\u001b[0;34m)\u001b[0m\u001b[0;34m\u001b[0m\u001b[0;34m\u001b[0m\u001b[0m\n\u001b[0m\u001b[1;32m     67\u001b[0m \u001b[0;34m\u001b[0m\u001b[0m\n\u001b[1;32m     68\u001b[0m     \u001b[0;31m# Running inside `run_distribute_coordinator` already.\u001b[0m\u001b[0;34m\u001b[0m\u001b[0;34m\u001b[0m\u001b[0;34m\u001b[0m\u001b[0m\n",
      "\u001b[0;32m~/.conda/envs/pydl-tf2.2/lib/python3.8/site-packages/tensorflow/python/keras/engine/training.py\u001b[0m in \u001b[0;36mfit\u001b[0;34m(self, x, y, batch_size, epochs, verbose, callbacks, validation_split, validation_data, shuffle, class_weight, sample_weight, initial_epoch, steps_per_epoch, validation_steps, validation_batch_size, validation_freq, max_queue_size, workers, use_multiprocessing)\u001b[0m\n\u001b[1;32m    860\u001b[0m           val_x, val_y, val_sample_weight = (\n\u001b[1;32m    861\u001b[0m               data_adapter.unpack_x_y_sample_weight(validation_data))\n\u001b[0;32m--> 862\u001b[0;31m           val_logs = self.evaluate(\n\u001b[0m\u001b[1;32m    863\u001b[0m               \u001b[0mx\u001b[0m\u001b[0;34m=\u001b[0m\u001b[0mval_x\u001b[0m\u001b[0;34m,\u001b[0m\u001b[0;34m\u001b[0m\u001b[0;34m\u001b[0m\u001b[0m\n\u001b[1;32m    864\u001b[0m               \u001b[0my\u001b[0m\u001b[0;34m=\u001b[0m\u001b[0mval_y\u001b[0m\u001b[0;34m,\u001b[0m\u001b[0;34m\u001b[0m\u001b[0;34m\u001b[0m\u001b[0m\n",
      "\u001b[0;32m~/.conda/envs/pydl-tf2.2/lib/python3.8/site-packages/tensorflow/python/keras/engine/training.py\u001b[0m in \u001b[0;36m_method_wrapper\u001b[0;34m(self, *args, **kwargs)\u001b[0m\n\u001b[1;32m     64\u001b[0m   \u001b[0;32mdef\u001b[0m \u001b[0m_method_wrapper\u001b[0m\u001b[0;34m(\u001b[0m\u001b[0mself\u001b[0m\u001b[0;34m,\u001b[0m \u001b[0;34m*\u001b[0m\u001b[0margs\u001b[0m\u001b[0;34m,\u001b[0m \u001b[0;34m**\u001b[0m\u001b[0mkwargs\u001b[0m\u001b[0;34m)\u001b[0m\u001b[0;34m:\u001b[0m\u001b[0;34m\u001b[0m\u001b[0;34m\u001b[0m\u001b[0m\n\u001b[1;32m     65\u001b[0m     \u001b[0;32mif\u001b[0m \u001b[0;32mnot\u001b[0m \u001b[0mself\u001b[0m\u001b[0;34m.\u001b[0m\u001b[0m_in_multi_worker_mode\u001b[0m\u001b[0;34m(\u001b[0m\u001b[0;34m)\u001b[0m\u001b[0;34m:\u001b[0m  \u001b[0;31m# pylint: disable=protected-access\u001b[0m\u001b[0;34m\u001b[0m\u001b[0;34m\u001b[0m\u001b[0m\n\u001b[0;32m---> 66\u001b[0;31m       \u001b[0;32mreturn\u001b[0m \u001b[0mmethod\u001b[0m\u001b[0;34m(\u001b[0m\u001b[0mself\u001b[0m\u001b[0;34m,\u001b[0m \u001b[0;34m*\u001b[0m\u001b[0margs\u001b[0m\u001b[0;34m,\u001b[0m \u001b[0;34m**\u001b[0m\u001b[0mkwargs\u001b[0m\u001b[0;34m)\u001b[0m\u001b[0;34m\u001b[0m\u001b[0;34m\u001b[0m\u001b[0m\n\u001b[0m\u001b[1;32m     67\u001b[0m \u001b[0;34m\u001b[0m\u001b[0m\n\u001b[1;32m     68\u001b[0m     \u001b[0;31m# Running inside `run_distribute_coordinator` already.\u001b[0m\u001b[0;34m\u001b[0m\u001b[0;34m\u001b[0m\u001b[0;34m\u001b[0m\u001b[0m\n",
      "\u001b[0;32m~/.conda/envs/pydl-tf2.2/lib/python3.8/site-packages/tensorflow/python/keras/engine/training.py\u001b[0m in \u001b[0;36mevaluate\u001b[0;34m(self, x, y, batch_size, verbose, sample_weight, steps, callbacks, max_queue_size, workers, use_multiprocessing, return_dict)\u001b[0m\n\u001b[1;32m   1079\u001b[0m                 step_num=step):\n\u001b[1;32m   1080\u001b[0m               \u001b[0mcallbacks\u001b[0m\u001b[0;34m.\u001b[0m\u001b[0mon_test_batch_begin\u001b[0m\u001b[0;34m(\u001b[0m\u001b[0mstep\u001b[0m\u001b[0;34m)\u001b[0m\u001b[0;34m\u001b[0m\u001b[0;34m\u001b[0m\u001b[0m\n\u001b[0;32m-> 1081\u001b[0;31m               \u001b[0mtmp_logs\u001b[0m \u001b[0;34m=\u001b[0m \u001b[0mtest_function\u001b[0m\u001b[0;34m(\u001b[0m\u001b[0miterator\u001b[0m\u001b[0;34m)\u001b[0m\u001b[0;34m\u001b[0m\u001b[0;34m\u001b[0m\u001b[0m\n\u001b[0m\u001b[1;32m   1082\u001b[0m               \u001b[0;31m# Catch OutOfRangeError for Datasets of unknown size.\u001b[0m\u001b[0;34m\u001b[0m\u001b[0;34m\u001b[0m\u001b[0;34m\u001b[0m\u001b[0m\n\u001b[1;32m   1083\u001b[0m               \u001b[0;31m# This blocks until the batch has finished executing.\u001b[0m\u001b[0;34m\u001b[0m\u001b[0;34m\u001b[0m\u001b[0;34m\u001b[0m\u001b[0m\n",
      "\u001b[0;32m~/.conda/envs/pydl-tf2.2/lib/python3.8/site-packages/tensorflow/python/eager/def_function.py\u001b[0m in \u001b[0;36m__call__\u001b[0;34m(self, *args, **kwds)\u001b[0m\n\u001b[1;32m    578\u001b[0m         \u001b[0mxla_context\u001b[0m\u001b[0;34m.\u001b[0m\u001b[0mExit\u001b[0m\u001b[0;34m(\u001b[0m\u001b[0;34m)\u001b[0m\u001b[0;34m\u001b[0m\u001b[0;34m\u001b[0m\u001b[0m\n\u001b[1;32m    579\u001b[0m     \u001b[0;32melse\u001b[0m\u001b[0;34m:\u001b[0m\u001b[0;34m\u001b[0m\u001b[0;34m\u001b[0m\u001b[0m\n\u001b[0;32m--> 580\u001b[0;31m       \u001b[0mresult\u001b[0m \u001b[0;34m=\u001b[0m \u001b[0mself\u001b[0m\u001b[0;34m.\u001b[0m\u001b[0m_call\u001b[0m\u001b[0;34m(\u001b[0m\u001b[0;34m*\u001b[0m\u001b[0margs\u001b[0m\u001b[0;34m,\u001b[0m \u001b[0;34m**\u001b[0m\u001b[0mkwds\u001b[0m\u001b[0;34m)\u001b[0m\u001b[0;34m\u001b[0m\u001b[0;34m\u001b[0m\u001b[0m\n\u001b[0m\u001b[1;32m    581\u001b[0m \u001b[0;34m\u001b[0m\u001b[0m\n\u001b[1;32m    582\u001b[0m     \u001b[0;32mif\u001b[0m \u001b[0mtracing_count\u001b[0m \u001b[0;34m==\u001b[0m \u001b[0mself\u001b[0m\u001b[0;34m.\u001b[0m\u001b[0m_get_tracing_count\u001b[0m\u001b[0;34m(\u001b[0m\u001b[0;34m)\u001b[0m\u001b[0;34m:\u001b[0m\u001b[0;34m\u001b[0m\u001b[0;34m\u001b[0m\u001b[0m\n",
      "\u001b[0;32m~/.conda/envs/pydl-tf2.2/lib/python3.8/site-packages/tensorflow/python/eager/def_function.py\u001b[0m in \u001b[0;36m_call\u001b[0;34m(self, *args, **kwds)\u001b[0m\n\u001b[1;32m    616\u001b[0m       \u001b[0;31m# In this case we have not created variables on the first call. So we can\u001b[0m\u001b[0;34m\u001b[0m\u001b[0;34m\u001b[0m\u001b[0;34m\u001b[0m\u001b[0m\n\u001b[1;32m    617\u001b[0m       \u001b[0;31m# run the first trace but we should fail if variables are created.\u001b[0m\u001b[0;34m\u001b[0m\u001b[0;34m\u001b[0m\u001b[0;34m\u001b[0m\u001b[0m\n\u001b[0;32m--> 618\u001b[0;31m       \u001b[0mresults\u001b[0m \u001b[0;34m=\u001b[0m \u001b[0mself\u001b[0m\u001b[0;34m.\u001b[0m\u001b[0m_stateful_fn\u001b[0m\u001b[0;34m(\u001b[0m\u001b[0;34m*\u001b[0m\u001b[0margs\u001b[0m\u001b[0;34m,\u001b[0m \u001b[0;34m**\u001b[0m\u001b[0mkwds\u001b[0m\u001b[0;34m)\u001b[0m\u001b[0;34m\u001b[0m\u001b[0;34m\u001b[0m\u001b[0m\n\u001b[0m\u001b[1;32m    619\u001b[0m       \u001b[0;32mif\u001b[0m \u001b[0mself\u001b[0m\u001b[0;34m.\u001b[0m\u001b[0m_created_variables\u001b[0m\u001b[0;34m:\u001b[0m\u001b[0;34m\u001b[0m\u001b[0;34m\u001b[0m\u001b[0m\n\u001b[1;32m    620\u001b[0m         raise ValueError(\"Creating variables on a non-first call to a function\"\n",
      "\u001b[0;32m~/.conda/envs/pydl-tf2.2/lib/python3.8/site-packages/tensorflow/python/eager/function.py\u001b[0m in \u001b[0;36m__call__\u001b[0;34m(self, *args, **kwargs)\u001b[0m\n\u001b[1;32m   2418\u001b[0m     \u001b[0;32mwith\u001b[0m \u001b[0mself\u001b[0m\u001b[0;34m.\u001b[0m\u001b[0m_lock\u001b[0m\u001b[0;34m:\u001b[0m\u001b[0;34m\u001b[0m\u001b[0;34m\u001b[0m\u001b[0m\n\u001b[1;32m   2419\u001b[0m       \u001b[0mgraph_function\u001b[0m\u001b[0;34m,\u001b[0m \u001b[0margs\u001b[0m\u001b[0;34m,\u001b[0m \u001b[0mkwargs\u001b[0m \u001b[0;34m=\u001b[0m \u001b[0mself\u001b[0m\u001b[0;34m.\u001b[0m\u001b[0m_maybe_define_function\u001b[0m\u001b[0;34m(\u001b[0m\u001b[0margs\u001b[0m\u001b[0;34m,\u001b[0m \u001b[0mkwargs\u001b[0m\u001b[0;34m)\u001b[0m\u001b[0;34m\u001b[0m\u001b[0;34m\u001b[0m\u001b[0m\n\u001b[0;32m-> 2420\u001b[0;31m     \u001b[0;32mreturn\u001b[0m \u001b[0mgraph_function\u001b[0m\u001b[0;34m.\u001b[0m\u001b[0m_filtered_call\u001b[0m\u001b[0;34m(\u001b[0m\u001b[0margs\u001b[0m\u001b[0;34m,\u001b[0m \u001b[0mkwargs\u001b[0m\u001b[0;34m)\u001b[0m  \u001b[0;31m# pylint: disable=protected-access\u001b[0m\u001b[0;34m\u001b[0m\u001b[0;34m\u001b[0m\u001b[0m\n\u001b[0m\u001b[1;32m   2421\u001b[0m \u001b[0;34m\u001b[0m\u001b[0m\n\u001b[1;32m   2422\u001b[0m   \u001b[0;34m@\u001b[0m\u001b[0mproperty\u001b[0m\u001b[0;34m\u001b[0m\u001b[0;34m\u001b[0m\u001b[0m\n",
      "\u001b[0;32m~/.conda/envs/pydl-tf2.2/lib/python3.8/site-packages/tensorflow/python/eager/function.py\u001b[0m in \u001b[0;36m_filtered_call\u001b[0;34m(self, args, kwargs)\u001b[0m\n\u001b[1;32m   1659\u001b[0m       \u001b[0;31m`\u001b[0m\u001b[0margs\u001b[0m\u001b[0;31m`\u001b[0m \u001b[0;32mand\u001b[0m\u001b[0;31m \u001b[0m\u001b[0;31m`\u001b[0m\u001b[0mkwargs\u001b[0m\u001b[0;31m`\u001b[0m\u001b[0;34m.\u001b[0m\u001b[0;34m\u001b[0m\u001b[0;34m\u001b[0m\u001b[0m\n\u001b[1;32m   1660\u001b[0m     \"\"\"\n\u001b[0;32m-> 1661\u001b[0;31m     return self._call_flat(\n\u001b[0m\u001b[1;32m   1662\u001b[0m         (t for t in nest.flatten((args, kwargs), expand_composites=True)\n\u001b[1;32m   1663\u001b[0m          if isinstance(t, (ops.Tensor,\n",
      "\u001b[0;32m~/.conda/envs/pydl-tf2.2/lib/python3.8/site-packages/tensorflow/python/eager/function.py\u001b[0m in \u001b[0;36m_call_flat\u001b[0;34m(self, args, captured_inputs, cancellation_manager)\u001b[0m\n\u001b[1;32m   1743\u001b[0m         and executing_eagerly):\n\u001b[1;32m   1744\u001b[0m       \u001b[0;31m# No tape is watching; skip to running the function.\u001b[0m\u001b[0;34m\u001b[0m\u001b[0;34m\u001b[0m\u001b[0;34m\u001b[0m\u001b[0m\n\u001b[0;32m-> 1745\u001b[0;31m       return self._build_call_outputs(self._inference_function.call(\n\u001b[0m\u001b[1;32m   1746\u001b[0m           ctx, args, cancellation_manager=cancellation_manager))\n\u001b[1;32m   1747\u001b[0m     forward_backward = self._select_forward_and_backward_functions(\n",
      "\u001b[0;32m~/.conda/envs/pydl-tf2.2/lib/python3.8/site-packages/tensorflow/python/eager/function.py\u001b[0m in \u001b[0;36mcall\u001b[0;34m(self, ctx, args, cancellation_manager)\u001b[0m\n\u001b[1;32m    591\u001b[0m       \u001b[0;32mwith\u001b[0m \u001b[0m_InterpolateFunctionError\u001b[0m\u001b[0;34m(\u001b[0m\u001b[0mself\u001b[0m\u001b[0;34m)\u001b[0m\u001b[0;34m:\u001b[0m\u001b[0;34m\u001b[0m\u001b[0;34m\u001b[0m\u001b[0m\n\u001b[1;32m    592\u001b[0m         \u001b[0;32mif\u001b[0m \u001b[0mcancellation_manager\u001b[0m \u001b[0;32mis\u001b[0m \u001b[0;32mNone\u001b[0m\u001b[0;34m:\u001b[0m\u001b[0;34m\u001b[0m\u001b[0;34m\u001b[0m\u001b[0m\n\u001b[0;32m--> 593\u001b[0;31m           outputs = execute.execute(\n\u001b[0m\u001b[1;32m    594\u001b[0m               \u001b[0mstr\u001b[0m\u001b[0;34m(\u001b[0m\u001b[0mself\u001b[0m\u001b[0;34m.\u001b[0m\u001b[0msignature\u001b[0m\u001b[0;34m.\u001b[0m\u001b[0mname\u001b[0m\u001b[0;34m)\u001b[0m\u001b[0;34m,\u001b[0m\u001b[0;34m\u001b[0m\u001b[0;34m\u001b[0m\u001b[0m\n\u001b[1;32m    595\u001b[0m               \u001b[0mnum_outputs\u001b[0m\u001b[0;34m=\u001b[0m\u001b[0mself\u001b[0m\u001b[0;34m.\u001b[0m\u001b[0m_num_outputs\u001b[0m\u001b[0;34m,\u001b[0m\u001b[0;34m\u001b[0m\u001b[0;34m\u001b[0m\u001b[0m\n",
      "\u001b[0;32m~/.conda/envs/pydl-tf2.2/lib/python3.8/site-packages/tensorflow/python/eager/execute.py\u001b[0m in \u001b[0;36mquick_execute\u001b[0;34m(op_name, num_outputs, inputs, attrs, ctx, name)\u001b[0m\n\u001b[1;32m     57\u001b[0m   \u001b[0;32mtry\u001b[0m\u001b[0;34m:\u001b[0m\u001b[0;34m\u001b[0m\u001b[0;34m\u001b[0m\u001b[0m\n\u001b[1;32m     58\u001b[0m     \u001b[0mctx\u001b[0m\u001b[0;34m.\u001b[0m\u001b[0mensure_initialized\u001b[0m\u001b[0;34m(\u001b[0m\u001b[0;34m)\u001b[0m\u001b[0;34m\u001b[0m\u001b[0;34m\u001b[0m\u001b[0m\n\u001b[0;32m---> 59\u001b[0;31m     tensors = pywrap_tfe.TFE_Py_Execute(ctx._handle, device_name, op_name,\n\u001b[0m\u001b[1;32m     60\u001b[0m                                         inputs, attrs, num_outputs)\n\u001b[1;32m     61\u001b[0m   \u001b[0;32mexcept\u001b[0m \u001b[0mcore\u001b[0m\u001b[0;34m.\u001b[0m\u001b[0m_NotOkStatusException\u001b[0m \u001b[0;32mas\u001b[0m \u001b[0me\u001b[0m\u001b[0;34m:\u001b[0m\u001b[0;34m\u001b[0m\u001b[0;34m\u001b[0m\u001b[0m\n",
      "\u001b[0;31mKeyboardInterrupt\u001b[0m: "
     ]
    }
   ],
   "source": [
    "# Run Each Generation\n",
    "generation_performance = {}\n",
    "for current_generation in range(MAX_GENERATIONS):\n",
    "    print(f\"[+] Generation {current_generation+1} of {MAX_GENERATIONS}\")\n",
    "\n",
    "    # >>>>>> Training Phase <<<<<<\n",
    "    print(f\"\\tTraining Models:\", end='\\n', flush=True)\n",
    "    training_start = time.time()\n",
    "\n",
    "    # Train all Models in Population\n",
    "    for i,individual in enumerate(population):\n",
    "        print(f\"\\t\\tGenerating model for individual {i}\", end='\\n', flush=True)\n",
    "        ga.generate_model_from_chromosome(data, individual)\n",
    "\n",
    "    training_stop = time.time()\n",
    "    print(f\"Done > Takes {training_stop - training_start} sec\", end='\\n')\n",
    "\n",
    "    # >>>>>> Evaluation Phase <<<<<<\n",
    "    print(f\"\\tEvaluating Population: \", end='\\n', flush=True)\n",
    "    evaluation_start = time.time()\n",
    "\n",
    "    for i,individual in enumerate(population):\n",
    "        \n",
    "        print(f\"\\t\\tIndividual {i}\", end='\\n', flush=True)\n",
    "        \n",
    "        # Play the Games\n",
    "        loss, accuracy =  individual.ml_model.evaluate(x=data['x_val'], y=data['y_val']) \n",
    "        \n",
    "        # Update Chromosome Results\n",
    "        individual.loss = loss\n",
    "        individual.accuracy = accuracy\n",
    "        \n",
    "\n",
    "    evaluation_stop = time.time()\n",
    "    print(f\"Done > Takes {evaluation_stop - evaluation_start} sec\", end='\\n')\n",
    "\n",
    "    # Sort Candidates by Sum of Results\n",
    "    population.sort(key=lambda x: x.accuracy, reverse=True)\n",
    "\n",
    "    # Compute Generation Metrics\n",
    "    generation_performance[current_generation] = pd.DataFrame([{'loss':x.loss, 'accuracy': x.accuracy} for x in population ])\n",
    "    \n",
    "    generation_performance[current_generation].describe()\n",
    "\n",
    "    # >>>>>> Genetic Selection, Children Creation and Mutation <<<<<<\n",
    "    if current_generation < MAX_GENERATIONS-1:\n",
    "        population = ga.evolve_population(population)"
   ]
  },
  {
   "cell_type": "code",
   "execution_count": null,
   "metadata": {},
   "outputs": [],
   "source": []
  }
 ],
 "metadata": {
  "kernelspec": {
   "display_name": "Evolution and AI",
   "language": "python",
   "name": "evolai"
  },
  "language_info": {
   "codemirror_mode": {
    "name": "ipython",
    "version": 3
   },
   "file_extension": ".py",
   "mimetype": "text/x-python",
   "name": "python",
   "nbconvert_exporter": "python",
   "pygments_lexer": "ipython3",
   "version": "3.9.16"
  },
  "widgets": {
   "application/vnd.jupyter.widget-state+json": {
    "state": {
     "16b07e4de02d4b618eacf3acaf0ce7bc": {
      "model_module": "@jupyter-widgets/controls",
      "model_module_version": "2.0.0",
      "model_name": "VBoxModel",
      "state": {
       "_dom_classes": [
        "widget-interact"
       ],
       "children": [
        "IPY_MODEL_2701dc584e0f471aaf8aa13f80f2e892",
        "IPY_MODEL_d46f22f4bcaf4ef4bf34e41d6bbbbb9e"
       ],
       "layout": "IPY_MODEL_849a011740454ad7b31142144228c072"
      }
     },
     "2701dc584e0f471aaf8aa13f80f2e892": {
      "model_module": "@jupyter-widgets/controls",
      "model_module_version": "2.0.0",
      "model_name": "IntSliderModel",
      "state": {
       "behavior": "drag-tap",
       "description": "i",
       "layout": "IPY_MODEL_6b7f337370674b28a01ca9a968f4a258",
       "max": 39999,
       "step": 100,
       "style": "IPY_MODEL_622e2020577649739ca220dcc61c3be3"
      }
     },
     "622e2020577649739ca220dcc61c3be3": {
      "model_module": "@jupyter-widgets/controls",
      "model_module_version": "2.0.0",
      "model_name": "SliderStyleModel",
      "state": {
       "description_width": ""
      }
     },
     "6b7f337370674b28a01ca9a968f4a258": {
      "model_module": "@jupyter-widgets/base",
      "model_module_version": "2.0.0",
      "model_name": "LayoutModel",
      "state": {}
     },
     "848d697a4be849989aeaedfee63fdaef": {
      "model_module": "@jupyter-widgets/base",
      "model_module_version": "2.0.0",
      "model_name": "LayoutModel",
      "state": {}
     },
     "849a011740454ad7b31142144228c072": {
      "model_module": "@jupyter-widgets/base",
      "model_module_version": "2.0.0",
      "model_name": "LayoutModel",
      "state": {}
     },
     "d46f22f4bcaf4ef4bf34e41d6bbbbb9e": {
      "model_module": "@jupyter-widgets/output",
      "model_module_version": "1.0.0",
      "model_name": "OutputModel",
      "state": {
       "layout": "IPY_MODEL_848d697a4be849989aeaedfee63fdaef",
       "outputs": [
        {
         "name": "stdout",
         "output_type": "stream",
         "text": "[0. 0. 0. 0. 0. 1. 0. 0. 0. 0.]\n"
        },
        {
         "data": {
          "image/png": "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",
          "text/plain": "<Figure size 640x480 with 1 Axes>"
         },
         "metadata": {},
         "output_type": "display_data"
        }
       ]
      }
     }
    },
    "version_major": 2,
    "version_minor": 0
   }
  }
 },
 "nbformat": 4,
 "nbformat_minor": 4
}
