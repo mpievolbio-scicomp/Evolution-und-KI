{
 "cells": [
  {
   "cell_type": "code",
   "execution_count": 1,
   "metadata": {},
   "outputs": [],
   "source": [
    "%load_ext autoreload"
   ]
  },
  {
   "cell_type": "code",
   "execution_count": 2,
   "metadata": {},
   "outputs": [],
   "source": [
    "%autoreload 2"
   ]
  },
  {
   "cell_type": "markdown",
   "metadata": {},
   "source": [
    "# Genetic algorithm for hyperparameter optimization on the mnist dataset.\n",
    "Credits: https://github.com/guibacellar/OpenAi/blob/master/CartPole-GA.py"
   ]
  },
  {
   "cell_type": "code",
   "execution_count": 3,
   "metadata": {
    "slideshow": {
     "slide_type": "slide"
    }
   },
   "outputs": [],
   "source": [
    "import os\n",
    "import random\n",
    "import pandas as pd\n",
    "import numpy as np\n",
    "import tensorflow as tf\n",
    "import time\n",
    "from keras.models import Sequential\n",
    "from keras.datasets import mnist\n",
    "from keras.layers import Dense, Dropout, InputLayer\n",
    "from keras import backend as K\n",
    "from keras.utils import to_categorical\n",
    "from matplotlib import pyplot\n",
    "import ipywidgets\n",
    "\n",
    "# pyplot.style.use(['dark_background'])"
   ]
  },
  {
   "cell_type": "code",
   "execution_count": 4,
   "metadata": {},
   "outputs": [],
   "source": [
    "# local imports\n",
    "from gahyperopt import *"
   ]
  },
  {
   "cell_type": "code",
   "execution_count": 5,
   "metadata": {
    "slideshow": {
     "slide_type": "slide"
    }
   },
   "outputs": [],
   "source": [
    "# Define Hyperparameters for NN\n",
    "HIDDEN_LAYER_COUNT = [1, 2, 3, 4, 5, 6, 7, 8, 9, 10]\n",
    "HIDDEN_LAYER_NEURONS = [8, 16, 24, 32, 64, 128, 256, 512]\n",
    "HIDDEN_LAYER_RATE = [0.1, 0.2, 0.3, 0.4, 0.5, 0.6, 0.7, 0.8, 0.9]\n",
    "HIDDEN_LAYER_ACTIVATIONS = ['relu', 'tanh', 'sigmoid']\n",
    "HIDDEN_LAYER_TYPE = ['dense', 'dropout']\n",
    "MODEL_OPTIMIZER = ['rmsprop', 'adams', 'sgd']\n",
    "\n",
    "# Define Genetic Algorithm Parameters\n",
    "MAX_GENERATIONS = 100  # Max Number of Generations to Apply the Genetic Algorithm\n",
    "POPULATION_SIZE = 8  # Max Number of Individuals in Each Population\n",
    "BEST_CANDIDATES_COUNT = 2  # Number of Best Candidates to Use\n",
    "RANDOM_CANDIDATES_COUNT = 1  # Number of Random Candidates (From Entire Population of Generation) to Next Population\n",
    "OPTIMIZER_MUTATION_PROBABILITY = 0.3  # 10% of Probability to Apply Mutation on Optimizer Parameter\n",
    "HIDDEN_LAYER_MUTATION_PROBABILITY = 0.4  # 10% of Probability to Apply Mutation on Hidden Layer Quantity"
   ]
  },
  {
   "cell_type": "code",
   "execution_count": 6,
   "metadata": {
    "slideshow": {
     "slide_type": "slide"
    }
   },
   "outputs": [],
   "source": [
    "ga = GADriver(layer_counts=HIDDEN_LAYER_COUNT,\n",
    "                     no_neurons=HIDDEN_LAYER_NEURONS,\n",
    "                     rates=HIDDEN_LAYER_RATE,\n",
    "                     activations=HIDDEN_LAYER_ACTIVATIONS,\n",
    "                     layer_types=HIDDEN_LAYER_TYPE,\n",
    "                     optimizers=MODEL_OPTIMIZER,\n",
    "                     population_size=POPULATION_SIZE,\n",
    "                     best_candidates_count=BEST_CANDIDATES_COUNT,\n",
    "                     random_candidates_count=RANDOM_CANDIDATES_COUNT,\n",
    "                     optimizer_mutation_probability=OPTIMIZER_MUTATION_PROBABILITY,\n",
    "                     layer_mutation_probability=HIDDEN_LAYER_MUTATION_PROBABILITY,\n",
    "                    )"
   ]
  },
  {
   "cell_type": "code",
   "execution_count": 7,
   "metadata": {},
   "outputs": [],
   "source": [
    "os.environ[\"CUDA_VISIBLE_DEVICES\"]=\"7\""
   ]
  },
  {
   "cell_type": "code",
   "execution_count": 8,
   "metadata": {
    "slideshow": {
     "slide_type": "slide"
    }
   },
   "outputs": [],
   "source": [
    "# Get test and training data.\n",
    "data = load_mnist()"
   ]
  },
  {
   "cell_type": "code",
   "execution_count": null,
   "metadata": {},
   "outputs": [],
   "source": []
  },
  {
   "cell_type": "code",
   "execution_count": null,
   "metadata": {},
   "outputs": [],
   "source": []
  },
  {
   "cell_type": "code",
   "execution_count": 19,
   "metadata": {},
   "outputs": [
    {
     "data": {
      "application/vnd.jupyter.widget-view+json": {
       "model_id": "70ce2a3523b44a3aa3d0331d17d5188d",
       "version_major": 2,
       "version_minor": 0
      },
      "text/plain": [
       "interactive(children=(IntSlider(value=0, description='i', max=39999, step=100), Output()), _dom_classes=('widg…"
      ]
     },
     "metadata": {},
     "output_type": "display_data"
    }
   ],
   "source": [
    "@ipywidgets.interact(i=ipywidgets.IntSlider(min=0, max=40000-1, step=100, value=0))\n",
    "def plot_mnist_figure(i):\n",
    "    print(data['y_train'][i])\n",
    "    pyplot.imshow(data['x_train'][i].reshape(28,28), cmap='bone_r')"
   ]
  },
  {
   "cell_type": "code",
   "execution_count": 10,
   "metadata": {},
   "outputs": [],
   "source": [
    "def generate_reference_ml(data):\n",
    "    \"\"\"\n",
    "    Train and Generate NN Model based on https://github.com/fchollet/deep-learning-with-python-notebooks/blobs/master/2.1-a-first-look-at-a-neural-netword.ipynb'\n",
    "    :param df: Dataframe to Training Process\n",
    "    :return:\n",
    "    \"\"\"\n",
    "    print(\"[+] Training Original NN Model: \", end='')\n",
    "    run_start = time.time()\n",
    "\n",
    "    # Define Neural model Topology\n",
    "    model = Sequential()\n",
    "    model.add(Dense(512, activation='relu', input_shape=(28 * 28,)))\n",
    "    model.add(Dense(10, activation='softmax'))\n",
    "\n",
    "    # Compile Neural model\n",
    "    model.compile(optimizer='rmsprop', loss='categorical_crossentropy', metrics=['accuracy'])\n",
    "    model.summary()\n",
    "\n",
    "    # Fit Model with Data\n",
    "    x_train, y_train, x_val, y_val = data.values()\n",
    "    training = model.fit(x_train, y_train,\n",
    "        epochs=20,\n",
    "        batch_size=128,\n",
    "        steps_per_epoch=300,\n",
    "        verbose=1,\n",
    "        validation_data=(x_val, y_val),\n",
    "    )\n",
    "\n",
    "    run_stop = time.time()\n",
    "    print(f\"Done > Takes {run_stop-run_start} sec\")\n",
    "\n",
    "    return model, training\n"
   ]
  },
  {
   "cell_type": "code",
   "execution_count": 11,
   "metadata": {
    "collapsed": true,
    "jupyter": {
     "outputs_hidden": true
    },
    "slideshow": {
     "slide_type": "subslide"
    },
    "tags": []
   },
   "outputs": [
    {
     "name": "stdout",
     "output_type": "stream",
     "text": [
      "[+] Training Original NN Model: "
     ]
    },
    {
     "name": "stderr",
     "output_type": "stream",
     "text": [
      "2022-02-21 12:04:55.566826: I tensorflow/stream_executor/platform/default/dso_loader.cc:44] Successfully opened dynamic library libcuda.so.1\n",
      "2022-02-21 12:04:55.650094: I tensorflow/core/common_runtime/gpu/gpu_device.cc:1561] Found device 0 with properties: \n",
      "pciBusID: 0000:b2:00.0 name: NVIDIA GeForce RTX 2080 Ti computeCapability: 7.5\n",
      "coreClock: 1.545GHz coreCount: 68 deviceMemorySize: 10.76GiB deviceMemoryBandwidth: 573.69GiB/s\n",
      "2022-02-21 12:04:55.650330: I tensorflow/stream_executor/platform/default/dso_loader.cc:44] Successfully opened dynamic library libcudart.so.10.1\n",
      "2022-02-21 12:04:55.652281: I tensorflow/stream_executor/platform/default/dso_loader.cc:44] Successfully opened dynamic library libcublas.so.10\n",
      "2022-02-21 12:04:55.654392: I tensorflow/stream_executor/platform/default/dso_loader.cc:44] Successfully opened dynamic library libcufft.so.10\n",
      "2022-02-21 12:04:55.654740: I tensorflow/stream_executor/platform/default/dso_loader.cc:44] Successfully opened dynamic library libcurand.so.10\n",
      "2022-02-21 12:04:55.657022: I tensorflow/stream_executor/platform/default/dso_loader.cc:44] Successfully opened dynamic library libcusolver.so.10\n",
      "2022-02-21 12:04:55.658381: I tensorflow/stream_executor/platform/default/dso_loader.cc:44] Successfully opened dynamic library libcusparse.so.10\n",
      "2022-02-21 12:04:55.663650: I tensorflow/stream_executor/platform/default/dso_loader.cc:44] Successfully opened dynamic library libcudnn.so.7\n",
      "2022-02-21 12:04:55.665229: I tensorflow/core/common_runtime/gpu/gpu_device.cc:1703] Adding visible gpu devices: 0\n",
      "2022-02-21 12:04:55.666131: I tensorflow/core/platform/cpu_feature_guard.cc:143] Your CPU supports instructions that this TensorFlow binary was not compiled to use: SSE4.1 SSE4.2 AVX AVX2 AVX512F FMA\n",
      "2022-02-21 12:04:55.689297: I tensorflow/core/platform/profile_utils/cpu_utils.cc:102] CPU Frequency: 2100000000 Hz\n",
      "2022-02-21 12:04:55.695887: I tensorflow/compiler/xla/service/service.cc:168] XLA service 0x55fecf9a3a40 initialized for platform Host (this does not guarantee that XLA will be used). Devices:\n",
      "2022-02-21 12:04:55.695919: I tensorflow/compiler/xla/service/service.cc:176]   StreamExecutor device (0): Host, Default Version\n",
      "2022-02-21 12:04:55.899941: I tensorflow/compiler/xla/service/service.cc:168] XLA service 0x55fecd76cac0 initialized for platform CUDA (this does not guarantee that XLA will be used). Devices:\n",
      "2022-02-21 12:04:55.900006: I tensorflow/compiler/xla/service/service.cc:176]   StreamExecutor device (0): NVIDIA GeForce RTX 2080 Ti, Compute Capability 7.5\n",
      "2022-02-21 12:04:55.901585: I tensorflow/core/common_runtime/gpu/gpu_device.cc:1561] Found device 0 with properties: \n",
      "pciBusID: 0000:b2:00.0 name: NVIDIA GeForce RTX 2080 Ti computeCapability: 7.5\n",
      "coreClock: 1.545GHz coreCount: 68 deviceMemorySize: 10.76GiB deviceMemoryBandwidth: 573.69GiB/s\n",
      "2022-02-21 12:04:55.901688: I tensorflow/stream_executor/platform/default/dso_loader.cc:44] Successfully opened dynamic library libcudart.so.10.1\n",
      "2022-02-21 12:04:55.901724: I tensorflow/stream_executor/platform/default/dso_loader.cc:44] Successfully opened dynamic library libcublas.so.10\n",
      "2022-02-21 12:04:55.901755: I tensorflow/stream_executor/platform/default/dso_loader.cc:44] Successfully opened dynamic library libcufft.so.10\n",
      "2022-02-21 12:04:55.901786: I tensorflow/stream_executor/platform/default/dso_loader.cc:44] Successfully opened dynamic library libcurand.so.10\n",
      "2022-02-21 12:04:55.901818: I tensorflow/stream_executor/platform/default/dso_loader.cc:44] Successfully opened dynamic library libcusolver.so.10\n",
      "2022-02-21 12:04:55.901849: I tensorflow/stream_executor/platform/default/dso_loader.cc:44] Successfully opened dynamic library libcusparse.so.10\n",
      "2022-02-21 12:04:55.901880: I tensorflow/stream_executor/platform/default/dso_loader.cc:44] Successfully opened dynamic library libcudnn.so.7\n",
      "2022-02-21 12:04:55.904110: I tensorflow/core/common_runtime/gpu/gpu_device.cc:1703] Adding visible gpu devices: 0\n",
      "2022-02-21 12:04:55.904192: I tensorflow/stream_executor/platform/default/dso_loader.cc:44] Successfully opened dynamic library libcudart.so.10.1\n",
      "2022-02-21 12:04:55.907560: I tensorflow/core/common_runtime/gpu/gpu_device.cc:1102] Device interconnect StreamExecutor with strength 1 edge matrix:\n",
      "2022-02-21 12:04:55.907585: I tensorflow/core/common_runtime/gpu/gpu_device.cc:1108]      0 \n",
      "2022-02-21 12:04:55.907597: I tensorflow/core/common_runtime/gpu/gpu_device.cc:1121] 0:   N \n",
      "2022-02-21 12:04:55.909987: I tensorflow/core/common_runtime/gpu/gpu_device.cc:1247] Created TensorFlow device (/job:localhost/replica:0/task:0/device:GPU:0 with 10068 MB memory) -> physical GPU (device: 0, name: NVIDIA GeForce RTX 2080 Ti, pci bus id: 0000:b2:00.0, compute capability: 7.5)\n"
     ]
    },
    {
     "name": "stdout",
     "output_type": "stream",
     "text": [
      "Model: \"sequential\"\n",
      "_________________________________________________________________\n",
      "Layer (type)                 Output Shape              Param #   \n",
      "=================================================================\n",
      "dense (Dense)                (None, 512)               401920    \n",
      "_________________________________________________________________\n",
      "dense_1 (Dense)              (None, 10)                5130      \n",
      "=================================================================\n",
      "Total params: 407,050\n",
      "Trainable params: 407,050\n",
      "Non-trainable params: 0\n",
      "_________________________________________________________________\n",
      "Epoch 1/20\n"
     ]
    },
    {
     "name": "stderr",
     "output_type": "stream",
     "text": [
      "2022-02-21 12:04:57.100202: I tensorflow/stream_executor/platform/default/dso_loader.cc:44] Successfully opened dynamic library libcublas.so.10\n"
     ]
    },
    {
     "name": "stdout",
     "output_type": "stream",
     "text": [
      "300/300 [==============================] - 2s 5ms/step - loss: 0.3067 - accuracy: 0.9120 - val_loss: 0.1682 - val_accuracy: 0.9514\n",
      "Epoch 2/20\n",
      "300/300 [==============================] - 1s 5ms/step - loss: 0.1315 - accuracy: 0.9604 - val_loss: 0.1304 - val_accuracy: 0.9608\n",
      "Epoch 3/20\n",
      "300/300 [==============================] - 1s 5ms/step - loss: 0.0849 - accuracy: 0.9745 - val_loss: 0.1087 - val_accuracy: 0.9689\n",
      "Epoch 4/20\n",
      "300/300 [==============================] - 2s 5ms/step - loss: 0.0634 - accuracy: 0.9814 - val_loss: 0.0996 - val_accuracy: 0.9712\n",
      "Epoch 5/20\n",
      "300/300 [==============================] - 1s 5ms/step - loss: 0.0463 - accuracy: 0.9861 - val_loss: 0.0933 - val_accuracy: 0.9736\n",
      "Epoch 6/20\n",
      "300/300 [==============================] - 1s 5ms/step - loss: 0.0353 - accuracy: 0.9900 - val_loss: 0.0974 - val_accuracy: 0.9730\n",
      "Epoch 7/20\n",
      "300/300 [==============================] - 1s 5ms/step - loss: 0.0264 - accuracy: 0.9923 - val_loss: 0.0925 - val_accuracy: 0.9742\n",
      "Epoch 8/20\n",
      "300/300 [==============================] - 1s 5ms/step - loss: 0.0203 - accuracy: 0.9941 - val_loss: 0.0942 - val_accuracy: 0.9756\n",
      "Epoch 9/20\n",
      "300/300 [==============================] - 2s 5ms/step - loss: 0.0156 - accuracy: 0.9956 - val_loss: 0.0961 - val_accuracy: 0.9747\n",
      "Epoch 10/20\n",
      "300/300 [==============================] - 2s 5ms/step - loss: 0.0124 - accuracy: 0.9967 - val_loss: 0.1131 - val_accuracy: 0.9723\n",
      "Epoch 11/20\n",
      "300/300 [==============================] - 1s 5ms/step - loss: 0.0086 - accuracy: 0.9979 - val_loss: 0.1042 - val_accuracy: 0.9765\n",
      "Epoch 12/20\n",
      "300/300 [==============================] - 2s 5ms/step - loss: 0.0071 - accuracy: 0.9984 - val_loss: 0.1088 - val_accuracy: 0.9748\n",
      "Epoch 13/20\n",
      "300/300 [==============================] - 1s 5ms/step - loss: 0.0054 - accuracy: 0.9988 - val_loss: 0.1129 - val_accuracy: 0.9754\n",
      "Epoch 14/20\n",
      "300/300 [==============================] - 2s 5ms/step - loss: 0.0038 - accuracy: 0.9992 - val_loss: 0.1159 - val_accuracy: 0.9763\n",
      "Epoch 15/20\n",
      "300/300 [==============================] - 2s 5ms/step - loss: 0.0034 - accuracy: 0.9992 - val_loss: 0.1197 - val_accuracy: 0.9761\n",
      "Epoch 16/20\n",
      "300/300 [==============================] - 1s 5ms/step - loss: 0.0029 - accuracy: 0.9991 - val_loss: 0.1196 - val_accuracy: 0.9761\n",
      "Epoch 17/20\n",
      "300/300 [==============================] - 2s 5ms/step - loss: 0.0019 - accuracy: 0.9995 - val_loss: 0.1224 - val_accuracy: 0.9764\n",
      "Epoch 18/20\n",
      "300/300 [==============================] - 2s 5ms/step - loss: 0.0017 - accuracy: 0.9996 - val_loss: 0.1284 - val_accuracy: 0.9772\n",
      "Epoch 19/20\n",
      "300/300 [==============================] - 1s 5ms/step - loss: 0.0012 - accuracy: 0.9998 - val_loss: 0.1354 - val_accuracy: 0.9783\n",
      "Epoch 20/20\n",
      "300/300 [==============================] - 2s 5ms/step - loss: 9.4370e-04 - accuracy: 0.9998 - val_loss: 0.1393 - val_accuracy: 0.9768\n",
      "Done > Takes 31.99672508239746 sec\n"
     ]
    }
   ],
   "source": [
    "# Creates a Reference NN Model based on \n",
    "ml_model, training = generate_reference_ml(data)"
   ]
  },
  {
   "cell_type": "code",
   "execution_count": 12,
   "metadata": {},
   "outputs": [],
   "source": [
    "from tensorflow.keras.utils import plot_model"
   ]
  },
  {
   "cell_type": "code",
   "execution_count": 16,
   "metadata": {},
   "outputs": [],
   "source": [
    "plot = plot_model(ml_model, show_shapes=True, )"
   ]
  },
  {
   "cell_type": "code",
   "execution_count": 17,
   "metadata": {},
   "outputs": [
    {
     "data": {
      "text/plain": [
       "IPython.core.display.Image"
      ]
     },
     "execution_count": 17,
     "metadata": {},
     "output_type": "execute_result"
    }
   ],
   "source": [
    "type(plot)"
   ]
  },
  {
   "cell_type": "code",
   "execution_count": 18,
   "metadata": {},
   "outputs": [
    {
     "data": {
      "image/png": "[encoded data removed]",
      "text/plain": [
       "<IPython.core.display.Image object>"
      ]
     },
     "metadata": {},
     "output_type": "display_data"
    }
   ],
   "source": [
    "display(plot)"
   ]
  },
  {
   "cell_type": "code",
   "execution_count": 14,
   "metadata": {
    "slideshow": {
     "slide_type": "slide"
    }
   },
   "outputs": [
    {
     "data": {
      "text/plain": [
       "<matplotlib.legend.Legend at 0x7f58eac8e100>"
      ]
     },
     "execution_count": 14,
     "metadata": {},
     "output_type": "execute_result"
    },
    {
     "data": {
      "image/png": "[encoded data removed]",
      "text/plain": [
       "<Figure size 432x288 with 2 Axes>"
      ]
     },
     "metadata": {
      "needs_background": "light"
     },
     "output_type": "display_data"
    }
   ],
   "source": [
    "history = pd.DataFrame(training.history)\n",
    "\n",
    "fig, ax = pyplot.subplots(2,1)\n",
    "history['loss'].plot(ax=ax[0], style=\"o\",label='loss')\n",
    "history['val_loss'].plot(ax=ax[0], style=\"o\",label='val loss')\n",
    "ax[0].legend()\n",
    "history['accuracy'].plot(ax=ax[1], style=\"o\",label='acc')\n",
    "history['val_accuracy'].plot(ax=ax[1], style=\"o\",label='val acc')\n",
    "ax[1].legend()"
   ]
  },
  {
   "cell_type": "code",
   "execution_count": 10,
   "metadata": {
    "slideshow": {
     "slide_type": "subslide"
    }
   },
   "outputs": [
    {
     "name": "stdout",
     "output_type": "stream",
     "text": [
      "625/625 [==============================] - 2s 2ms/step - loss: 0.1412 - accuracy: 0.9759\n",
      "\tAccuracy:0.9758999943733215 | Loss:0.14124155044555664 |\n"
     ]
    }
   ],
   "source": [
    "# Play Games with Reference NN Model\n",
    "print(\"[+] Evaluate reference model \\t>\", end='', flush=True)\n",
    "loss, accuracy  = evaluate_model(ml_model=ml_model, x = data['x_val'], y=data['y_val'])\n",
    "print(f\"\\tAccuracy:{accuracy} | Loss:{loss} |\")"
   ]
  },
  {
   "cell_type": "code",
   "execution_count": 11,
   "metadata": {
    "slideshow": {
     "slide_type": "subslide"
    }
   },
   "outputs": [
    {
     "name": "stdout",
     "output_type": "stream",
     "text": [
      "\n",
      "********** Genetic Algorithm **********\n",
      "[+] Creating Initial NN Model Population Randomly: Done > Takes 0.0002484321594238281 sec\n"
     ]
    }
   ],
   "source": [
    "# >>>>>> Genetic Algorithm Section <<<<<<\n",
    "print(\"\\n********** Genetic Algorithm **********\")\n",
    "population = ga.generate_first_population_randomly()"
   ]
  },
  {
   "cell_type": "code",
   "execution_count": 12,
   "metadata": {},
   "outputs": [
    {
     "data": {
      "text/plain": [
       "5"
      ]
     },
     "execution_count": 12,
     "metadata": {},
     "output_type": "execute_result"
    }
   ],
   "source": [
    "len(population)"
   ]
  },
  {
   "cell_type": "code",
   "execution_count": 14,
   "metadata": {
    "slideshow": {
     "slide_type": "slide"
    }
   },
   "outputs": [
    {
     "name": "stdout",
     "output_type": "stream",
     "text": [
      "[+] Generation 1 of 100\n",
      "\tTraining Models:\n",
      "\t\tGenerating model for individual 0\n",
      "\t\tGenerating model for individual 1\n",
      "\t\tGenerating model for individual 2\n",
      "\t\tGenerating model for individual 3\n",
      "\t\tGenerating model for individual 4\n",
      "Done > Takes 68.8868579864502 sec\n",
      "\tEvaluating Population: \n",
      "\t\tIndividual 0\n",
      "625/625 [==============================] - 1s 2ms/step - loss: 0.2013 - accuracy: 0.9431\n",
      "\t\tIndividual 1\n",
      "625/625 [==============================] - 2s 3ms/step - loss: 1.0833 - accuracy: 0.6234\n",
      "\t\tIndividual 2\n",
      "625/625 [==============================] - 2s 3ms/step - loss: 1.7675 - accuracy: 0.5201\n",
      "\t\tIndividual 3\n",
      "625/625 [==============================] - 1s 2ms/step - loss: 2.3024 - accuracy: 0.1000\n",
      "\t\tIndividual 4\n",
      "625/625 [==============================] - 1s 2ms/step - loss: 2.3016 - accuracy: 0.1089\n",
      "Done > Takes 7.984793424606323 sec\n",
      "[+] Generation 2 of 100\n",
      "\tTraining Models:\n",
      "\t\tGenerating model for individual 0\n",
      "\t\tGenerating model for individual 1\n",
      "\t\tGenerating model for individual 2\n",
      "\t\tGenerating model for individual 3\n",
      "\t\tGenerating model for individual 4\n",
      "Done > Takes 66.80543684959412 sec\n",
      "\tEvaluating Population: \n",
      "\t\tIndividual 0\n",
      "625/625 [==============================] - 1s 2ms/step - loss: 0.2128 - accuracy: 0.9378\n",
      "\t\tIndividual 1\n",
      "625/625 [==============================] - 2s 3ms/step - loss: 1.0338 - accuracy: 0.6032\n",
      "\t\tIndividual 2\n",
      "625/625 [==============================] - 1s 2ms/step - loss: 2.3026 - accuracy: 0.1089\n",
      "\t\tIndividual 3\n",
      "625/625 [==============================] - 2s 2ms/step - loss: 0.3283 - accuracy: 0.9143\n",
      "\t\tIndividual 4\n",
      "625/625 [==============================] - 1s 2ms/step - loss: 2.2754 - accuracy: 0.1938\n",
      "Done > Takes 8.04120945930481 sec\n",
      "[+] Generation 3 of 100\n",
      "\tTraining Models:\n",
      "\t\tGenerating model for individual 0\n",
      "\t\tGenerating model for individual 1\n",
      "\t\tGenerating model for individual 2\n",
      "\t\tGenerating model for individual 3\n",
      "\t\tGenerating model for individual 4\n",
      "Done > Takes 66.9724645614624 sec\n",
      "\tEvaluating Population: \n",
      "\t\tIndividual 0\n",
      "625/625 [==============================] - 2s 2ms/step - loss: 0.2379 - accuracy: 0.9309\n",
      "\t\tIndividual 1\n",
      "625/625 [==============================] - 2s 3ms/step - loss: 0.2417 - accuracy: 0.9392\n",
      "\t\tIndividual 2\n",
      "625/625 [==============================] - 1s 2ms/step - loss: 0.2379 - accuracy: 0.9309\n",
      "\t\tIndividual 3\n",
      "625/625 [==============================] - 2s 3ms/step - loss: 0.1978 - accuracy: 0.9417\n",
      "\t\tIndividual 4\n",
      "625/625 [==============================] - 2s 2ms/step - loss: 0.4338 - accuracy: 0.8960\n",
      "Done > Takes 8.36791443824768 sec\n",
      "[+] Generation 4 of 100\n",
      "\tTraining Models:\n",
      "\t\tGenerating model for individual 0\n",
      "\t\tGenerating model for individual 1\n",
      "\t\tGenerating model for individual 2\n",
      "\t\tGenerating model for individual 3\n",
      "\t\tGenerating model for individual 4\n",
      "Done > Takes 69.73271679878235 sec\n",
      "\tEvaluating Population: \n",
      "\t\tIndividual 0\n",
      "625/625 [==============================] - 2s 3ms/step - loss: 0.3021 - accuracy: 0.9049\n",
      "\t\tIndividual 1\n",
      "625/625 [==============================] - 2s 3ms/step - loss: 0.2625 - accuracy: 0.9366\n",
      "\t\tIndividual 2\n",
      "625/625 [==============================] - 2s 2ms/step - loss: 0.2625 - accuracy: 0.9366\n",
      "\t\tIndividual 3\n",
      "625/625 [==============================] - 2s 2ms/step - loss: 0.2688 - accuracy: 0.9324\n",
      "\t\tIndividual 4\n",
      "625/625 [==============================] - 2s 3ms/step - loss: 0.2922 - accuracy: 0.9215\n",
      "Done > Takes 8.444944143295288 sec\n",
      "[+] Generation 5 of 100\n",
      "\tTraining Models:\n",
      "\t\tGenerating model for individual 0\n",
      "\t\tGenerating model for individual 1\n",
      "\t\tGenerating model for individual 2\n",
      "\t\tGenerating model for individual 3\n",
      "\t\tGenerating model for individual 4\n",
      "Done > Takes 68.65926384925842 sec\n",
      "\tEvaluating Population: \n",
      "\t\tIndividual 0\n",
      "625/625 [==============================] - 2s 2ms/step - loss: 0.3046 - accuracy: 0.9173\n",
      "\t\tIndividual 1\n",
      "625/625 [==============================] - 2s 3ms/step - loss: 0.3046 - accuracy: 0.9173\n",
      "\t\tIndividual 2\n",
      "625/625 [==============================] - 2s 3ms/step - loss: 0.2863 - accuracy: 0.9218\n",
      "\t\tIndividual 3\n",
      "625/625 [==============================] - 2s 3ms/step - loss: 0.3006 - accuracy: 0.9183\n",
      "\t\tIndividual 4\n",
      "625/625 [==============================] - 2s 3ms/step - loss: 0.2469 - accuracy: 0.9360\n",
      "Done > Takes 8.527219295501709 sec\n",
      "[+] Generation 6 of 100\n",
      "\tTraining Models:\n",
      "\t\tGenerating model for individual 0\n",
      "\t\tGenerating model for individual 1\n",
      "\t\tGenerating model for individual 2\n"
     ]
    },
    {
     "ename": "KeyboardInterrupt",
     "evalue": "",
     "output_type": "error",
     "traceback": [
      "\u001b[0;31m---------------------------------------------------------------------------\u001b[0m",
      "\u001b[0;31mKeyboardInterrupt\u001b[0m                         Traceback (most recent call last)",
      "\u001b[0;32m<ipython-input-14-5f628fba2b0e>\u001b[0m in \u001b[0;36m<module>\u001b[0;34m\u001b[0m\n\u001b[1;32m     11\u001b[0m     \u001b[0;32mfor\u001b[0m \u001b[0mi\u001b[0m\u001b[0;34m,\u001b[0m\u001b[0mindividual\u001b[0m \u001b[0;32min\u001b[0m \u001b[0menumerate\u001b[0m\u001b[0;34m(\u001b[0m\u001b[0mpopulation\u001b[0m\u001b[0;34m)\u001b[0m\u001b[0;34m:\u001b[0m\u001b[0;34m\u001b[0m\u001b[0;34m\u001b[0m\u001b[0m\n\u001b[1;32m     12\u001b[0m         \u001b[0mprint\u001b[0m\u001b[0;34m(\u001b[0m\u001b[0;34mf\"\\t\\tGenerating model for individual {i}\"\u001b[0m\u001b[0;34m,\u001b[0m \u001b[0mend\u001b[0m\u001b[0;34m=\u001b[0m\u001b[0;34m'\\n'\u001b[0m\u001b[0;34m,\u001b[0m \u001b[0mflush\u001b[0m\u001b[0;34m=\u001b[0m\u001b[0;32mTrue\u001b[0m\u001b[0;34m)\u001b[0m\u001b[0;34m\u001b[0m\u001b[0;34m\u001b[0m\u001b[0m\n\u001b[0;32m---> 13\u001b[0;31m         \u001b[0mga\u001b[0m\u001b[0;34m.\u001b[0m\u001b[0mgenerate_model_from_chromosome\u001b[0m\u001b[0;34m(\u001b[0m\u001b[0mdata\u001b[0m\u001b[0;34m,\u001b[0m \u001b[0mindividual\u001b[0m\u001b[0;34m)\u001b[0m\u001b[0;34m\u001b[0m\u001b[0;34m\u001b[0m\u001b[0m\n\u001b[0m\u001b[1;32m     14\u001b[0m \u001b[0;34m\u001b[0m\u001b[0m\n\u001b[1;32m     15\u001b[0m     \u001b[0mtraining_stop\u001b[0m \u001b[0;34m=\u001b[0m \u001b[0mtime\u001b[0m\u001b[0;34m.\u001b[0m\u001b[0mtime\u001b[0m\u001b[0;34m(\u001b[0m\u001b[0;34m)\u001b[0m\u001b[0;34m\u001b[0m\u001b[0;34m\u001b[0m\u001b[0m\n",
      "\u001b[0;32m~/Repositories/gahyparopt/gahyperopt.py\u001b[0m in \u001b[0;36mgenerate_model_from_chromosome\u001b[0;34m(self, data, chromosome)\u001b[0m\n\u001b[1;32m    122\u001b[0m \u001b[0;34m\u001b[0m\u001b[0m\n\u001b[1;32m    123\u001b[0m         \u001b[0;31m# Fit Model with Data\u001b[0m\u001b[0;34m\u001b[0m\u001b[0;34m\u001b[0m\u001b[0;34m\u001b[0m\u001b[0m\n\u001b[0;32m--> 124\u001b[0;31m         m_model.fit(\n\u001b[0m\u001b[1;32m    125\u001b[0m             \u001b[0mx_train\u001b[0m\u001b[0;34m,\u001b[0m\u001b[0;34m\u001b[0m\u001b[0;34m\u001b[0m\u001b[0m\n\u001b[1;32m    126\u001b[0m             \u001b[0my_train\u001b[0m\u001b[0;34m,\u001b[0m\u001b[0;34m\u001b[0m\u001b[0;34m\u001b[0m\u001b[0m\n",
      "\u001b[0;32m~/.conda/envs/pydl-tf2.2/lib/python3.8/site-packages/tensorflow/python/keras/engine/training.py\u001b[0m in \u001b[0;36m_method_wrapper\u001b[0;34m(self, *args, **kwargs)\u001b[0m\n\u001b[1;32m     64\u001b[0m   \u001b[0;32mdef\u001b[0m \u001b[0m_method_wrapper\u001b[0m\u001b[0;34m(\u001b[0m\u001b[0mself\u001b[0m\u001b[0;34m,\u001b[0m \u001b[0;34m*\u001b[0m\u001b[0margs\u001b[0m\u001b[0;34m,\u001b[0m \u001b[0;34m**\u001b[0m\u001b[0mkwargs\u001b[0m\u001b[0;34m)\u001b[0m\u001b[0;34m:\u001b[0m\u001b[0;34m\u001b[0m\u001b[0;34m\u001b[0m\u001b[0m\n\u001b[1;32m     65\u001b[0m     \u001b[0;32mif\u001b[0m \u001b[0;32mnot\u001b[0m \u001b[0mself\u001b[0m\u001b[0;34m.\u001b[0m\u001b[0m_in_multi_worker_mode\u001b[0m\u001b[0;34m(\u001b[0m\u001b[0;34m)\u001b[0m\u001b[0;34m:\u001b[0m  \u001b[0;31m# pylint: disable=protected-access\u001b[0m\u001b[0;34m\u001b[0m\u001b[0;34m\u001b[0m\u001b[0m\n\u001b[0;32m---> 66\u001b[0;31m       \u001b[0;32mreturn\u001b[0m \u001b[0mmethod\u001b[0m\u001b[0;34m(\u001b[0m\u001b[0mself\u001b[0m\u001b[0;34m,\u001b[0m \u001b[0;34m*\u001b[0m\u001b[0margs\u001b[0m\u001b[0;34m,\u001b[0m \u001b[0;34m**\u001b[0m\u001b[0mkwargs\u001b[0m\u001b[0;34m)\u001b[0m\u001b[0;34m\u001b[0m\u001b[0;34m\u001b[0m\u001b[0m\n\u001b[0m\u001b[1;32m     67\u001b[0m \u001b[0;34m\u001b[0m\u001b[0m\n\u001b[1;32m     68\u001b[0m     \u001b[0;31m# Running inside `run_distribute_coordinator` already.\u001b[0m\u001b[0;34m\u001b[0m\u001b[0;34m\u001b[0m\u001b[0;34m\u001b[0m\u001b[0m\n",
      "\u001b[0;32m~/.conda/envs/pydl-tf2.2/lib/python3.8/site-packages/tensorflow/python/keras/engine/training.py\u001b[0m in \u001b[0;36mfit\u001b[0;34m(self, x, y, batch_size, epochs, verbose, callbacks, validation_split, validation_data, shuffle, class_weight, sample_weight, initial_epoch, steps_per_epoch, validation_steps, validation_batch_size, validation_freq, max_queue_size, workers, use_multiprocessing)\u001b[0m\n\u001b[1;32m    860\u001b[0m           val_x, val_y, val_sample_weight = (\n\u001b[1;32m    861\u001b[0m               data_adapter.unpack_x_y_sample_weight(validation_data))\n\u001b[0;32m--> 862\u001b[0;31m           val_logs = self.evaluate(\n\u001b[0m\u001b[1;32m    863\u001b[0m               \u001b[0mx\u001b[0m\u001b[0;34m=\u001b[0m\u001b[0mval_x\u001b[0m\u001b[0;34m,\u001b[0m\u001b[0;34m\u001b[0m\u001b[0;34m\u001b[0m\u001b[0m\n\u001b[1;32m    864\u001b[0m               \u001b[0my\u001b[0m\u001b[0;34m=\u001b[0m\u001b[0mval_y\u001b[0m\u001b[0;34m,\u001b[0m\u001b[0;34m\u001b[0m\u001b[0;34m\u001b[0m\u001b[0m\n",
      "\u001b[0;32m~/.conda/envs/pydl-tf2.2/lib/python3.8/site-packages/tensorflow/python/keras/engine/training.py\u001b[0m in \u001b[0;36m_method_wrapper\u001b[0;34m(self, *args, **kwargs)\u001b[0m\n\u001b[1;32m     64\u001b[0m   \u001b[0;32mdef\u001b[0m \u001b[0m_method_wrapper\u001b[0m\u001b[0;34m(\u001b[0m\u001b[0mself\u001b[0m\u001b[0;34m,\u001b[0m \u001b[0;34m*\u001b[0m\u001b[0margs\u001b[0m\u001b[0;34m,\u001b[0m \u001b[0;34m**\u001b[0m\u001b[0mkwargs\u001b[0m\u001b[0;34m)\u001b[0m\u001b[0;34m:\u001b[0m\u001b[0;34m\u001b[0m\u001b[0;34m\u001b[0m\u001b[0m\n\u001b[1;32m     65\u001b[0m     \u001b[0;32mif\u001b[0m \u001b[0;32mnot\u001b[0m \u001b[0mself\u001b[0m\u001b[0;34m.\u001b[0m\u001b[0m_in_multi_worker_mode\u001b[0m\u001b[0;34m(\u001b[0m\u001b[0;34m)\u001b[0m\u001b[0;34m:\u001b[0m  \u001b[0;31m# pylint: disable=protected-access\u001b[0m\u001b[0;34m\u001b[0m\u001b[0;34m\u001b[0m\u001b[0m\n\u001b[0;32m---> 66\u001b[0;31m       \u001b[0;32mreturn\u001b[0m \u001b[0mmethod\u001b[0m\u001b[0;34m(\u001b[0m\u001b[0mself\u001b[0m\u001b[0;34m,\u001b[0m \u001b[0;34m*\u001b[0m\u001b[0margs\u001b[0m\u001b[0;34m,\u001b[0m \u001b[0;34m**\u001b[0m\u001b[0mkwargs\u001b[0m\u001b[0;34m)\u001b[0m\u001b[0;34m\u001b[0m\u001b[0;34m\u001b[0m\u001b[0m\n\u001b[0m\u001b[1;32m     67\u001b[0m \u001b[0;34m\u001b[0m\u001b[0m\n\u001b[1;32m     68\u001b[0m     \u001b[0;31m# Running inside `run_distribute_coordinator` already.\u001b[0m\u001b[0;34m\u001b[0m\u001b[0;34m\u001b[0m\u001b[0;34m\u001b[0m\u001b[0m\n",
      "\u001b[0;32m~/.conda/envs/pydl-tf2.2/lib/python3.8/site-packages/tensorflow/python/keras/engine/training.py\u001b[0m in \u001b[0;36mevaluate\u001b[0;34m(self, x, y, batch_size, verbose, sample_weight, steps, callbacks, max_queue_size, workers, use_multiprocessing, return_dict)\u001b[0m\n\u001b[1;32m   1079\u001b[0m                 step_num=step):\n\u001b[1;32m   1080\u001b[0m               \u001b[0mcallbacks\u001b[0m\u001b[0;34m.\u001b[0m\u001b[0mon_test_batch_begin\u001b[0m\u001b[0;34m(\u001b[0m\u001b[0mstep\u001b[0m\u001b[0;34m)\u001b[0m\u001b[0;34m\u001b[0m\u001b[0;34m\u001b[0m\u001b[0m\n\u001b[0;32m-> 1081\u001b[0;31m               \u001b[0mtmp_logs\u001b[0m \u001b[0;34m=\u001b[0m \u001b[0mtest_function\u001b[0m\u001b[0;34m(\u001b[0m\u001b[0miterator\u001b[0m\u001b[0;34m)\u001b[0m\u001b[0;34m\u001b[0m\u001b[0;34m\u001b[0m\u001b[0m\n\u001b[0m\u001b[1;32m   1082\u001b[0m               \u001b[0;31m# Catch OutOfRangeError for Datasets of unknown size.\u001b[0m\u001b[0;34m\u001b[0m\u001b[0;34m\u001b[0m\u001b[0;34m\u001b[0m\u001b[0m\n\u001b[1;32m   1083\u001b[0m               \u001b[0;31m# This blocks until the batch has finished executing.\u001b[0m\u001b[0;34m\u001b[0m\u001b[0;34m\u001b[0m\u001b[0;34m\u001b[0m\u001b[0m\n",
      "\u001b[0;32m~/.conda/envs/pydl-tf2.2/lib/python3.8/site-packages/tensorflow/python/eager/def_function.py\u001b[0m in \u001b[0;36m__call__\u001b[0;34m(self, *args, **kwds)\u001b[0m\n\u001b[1;32m    578\u001b[0m         \u001b[0mxla_context\u001b[0m\u001b[0;34m.\u001b[0m\u001b[0mExit\u001b[0m\u001b[0;34m(\u001b[0m\u001b[0;34m)\u001b[0m\u001b[0;34m\u001b[0m\u001b[0;34m\u001b[0m\u001b[0m\n\u001b[1;32m    579\u001b[0m     \u001b[0;32melse\u001b[0m\u001b[0;34m:\u001b[0m\u001b[0;34m\u001b[0m\u001b[0;34m\u001b[0m\u001b[0m\n\u001b[0;32m--> 580\u001b[0;31m       \u001b[0mresult\u001b[0m \u001b[0;34m=\u001b[0m \u001b[0mself\u001b[0m\u001b[0;34m.\u001b[0m\u001b[0m_call\u001b[0m\u001b[0;34m(\u001b[0m\u001b[0;34m*\u001b[0m\u001b[0margs\u001b[0m\u001b[0;34m,\u001b[0m \u001b[0;34m**\u001b[0m\u001b[0mkwds\u001b[0m\u001b[0;34m)\u001b[0m\u001b[0;34m\u001b[0m\u001b[0;34m\u001b[0m\u001b[0m\n\u001b[0m\u001b[1;32m    581\u001b[0m \u001b[0;34m\u001b[0m\u001b[0m\n\u001b[1;32m    582\u001b[0m     \u001b[0;32mif\u001b[0m \u001b[0mtracing_count\u001b[0m \u001b[0;34m==\u001b[0m \u001b[0mself\u001b[0m\u001b[0;34m.\u001b[0m\u001b[0m_get_tracing_count\u001b[0m\u001b[0;34m(\u001b[0m\u001b[0;34m)\u001b[0m\u001b[0;34m:\u001b[0m\u001b[0;34m\u001b[0m\u001b[0;34m\u001b[0m\u001b[0m\n",
      "\u001b[0;32m~/.conda/envs/pydl-tf2.2/lib/python3.8/site-packages/tensorflow/python/eager/def_function.py\u001b[0m in \u001b[0;36m_call\u001b[0;34m(self, *args, **kwds)\u001b[0m\n\u001b[1;32m    616\u001b[0m       \u001b[0;31m# In this case we have not created variables on the first call. So we can\u001b[0m\u001b[0;34m\u001b[0m\u001b[0;34m\u001b[0m\u001b[0;34m\u001b[0m\u001b[0m\n\u001b[1;32m    617\u001b[0m       \u001b[0;31m# run the first trace but we should fail if variables are created.\u001b[0m\u001b[0;34m\u001b[0m\u001b[0;34m\u001b[0m\u001b[0;34m\u001b[0m\u001b[0m\n\u001b[0;32m--> 618\u001b[0;31m       \u001b[0mresults\u001b[0m \u001b[0;34m=\u001b[0m \u001b[0mself\u001b[0m\u001b[0;34m.\u001b[0m\u001b[0m_stateful_fn\u001b[0m\u001b[0;34m(\u001b[0m\u001b[0;34m*\u001b[0m\u001b[0margs\u001b[0m\u001b[0;34m,\u001b[0m \u001b[0;34m**\u001b[0m\u001b[0mkwds\u001b[0m\u001b[0;34m)\u001b[0m\u001b[0;34m\u001b[0m\u001b[0;34m\u001b[0m\u001b[0m\n\u001b[0m\u001b[1;32m    619\u001b[0m       \u001b[0;32mif\u001b[0m \u001b[0mself\u001b[0m\u001b[0;34m.\u001b[0m\u001b[0m_created_variables\u001b[0m\u001b[0;34m:\u001b[0m\u001b[0;34m\u001b[0m\u001b[0;34m\u001b[0m\u001b[0m\n\u001b[1;32m    620\u001b[0m         raise ValueError(\"Creating variables on a non-first call to a function\"\n",
      "\u001b[0;32m~/.conda/envs/pydl-tf2.2/lib/python3.8/site-packages/tensorflow/python/eager/function.py\u001b[0m in \u001b[0;36m__call__\u001b[0;34m(self, *args, **kwargs)\u001b[0m\n\u001b[1;32m   2418\u001b[0m     \u001b[0;32mwith\u001b[0m \u001b[0mself\u001b[0m\u001b[0;34m.\u001b[0m\u001b[0m_lock\u001b[0m\u001b[0;34m:\u001b[0m\u001b[0;34m\u001b[0m\u001b[0;34m\u001b[0m\u001b[0m\n\u001b[1;32m   2419\u001b[0m       \u001b[0mgraph_function\u001b[0m\u001b[0;34m,\u001b[0m \u001b[0margs\u001b[0m\u001b[0;34m,\u001b[0m \u001b[0mkwargs\u001b[0m \u001b[0;34m=\u001b[0m \u001b[0mself\u001b[0m\u001b[0;34m.\u001b[0m\u001b[0m_maybe_define_function\u001b[0m\u001b[0;34m(\u001b[0m\u001b[0margs\u001b[0m\u001b[0;34m,\u001b[0m \u001b[0mkwargs\u001b[0m\u001b[0;34m)\u001b[0m\u001b[0;34m\u001b[0m\u001b[0;34m\u001b[0m\u001b[0m\n\u001b[0;32m-> 2420\u001b[0;31m     \u001b[0;32mreturn\u001b[0m \u001b[0mgraph_function\u001b[0m\u001b[0;34m.\u001b[0m\u001b[0m_filtered_call\u001b[0m\u001b[0;34m(\u001b[0m\u001b[0margs\u001b[0m\u001b[0;34m,\u001b[0m \u001b[0mkwargs\u001b[0m\u001b[0;34m)\u001b[0m  \u001b[0;31m# pylint: disable=protected-access\u001b[0m\u001b[0;34m\u001b[0m\u001b[0;34m\u001b[0m\u001b[0m\n\u001b[0m\u001b[1;32m   2421\u001b[0m \u001b[0;34m\u001b[0m\u001b[0m\n\u001b[1;32m   2422\u001b[0m   \u001b[0;34m@\u001b[0m\u001b[0mproperty\u001b[0m\u001b[0;34m\u001b[0m\u001b[0;34m\u001b[0m\u001b[0m\n",
      "\u001b[0;32m~/.conda/envs/pydl-tf2.2/lib/python3.8/site-packages/tensorflow/python/eager/function.py\u001b[0m in \u001b[0;36m_filtered_call\u001b[0;34m(self, args, kwargs)\u001b[0m\n\u001b[1;32m   1659\u001b[0m       \u001b[0;31m`\u001b[0m\u001b[0margs\u001b[0m\u001b[0;31m`\u001b[0m \u001b[0;32mand\u001b[0m\u001b[0;31m \u001b[0m\u001b[0;31m`\u001b[0m\u001b[0mkwargs\u001b[0m\u001b[0;31m`\u001b[0m\u001b[0;34m.\u001b[0m\u001b[0;34m\u001b[0m\u001b[0;34m\u001b[0m\u001b[0m\n\u001b[1;32m   1660\u001b[0m     \"\"\"\n\u001b[0;32m-> 1661\u001b[0;31m     return self._call_flat(\n\u001b[0m\u001b[1;32m   1662\u001b[0m         (t for t in nest.flatten((args, kwargs), expand_composites=True)\n\u001b[1;32m   1663\u001b[0m          if isinstance(t, (ops.Tensor,\n",
      "\u001b[0;32m~/.conda/envs/pydl-tf2.2/lib/python3.8/site-packages/tensorflow/python/eager/function.py\u001b[0m in \u001b[0;36m_call_flat\u001b[0;34m(self, args, captured_inputs, cancellation_manager)\u001b[0m\n\u001b[1;32m   1743\u001b[0m         and executing_eagerly):\n\u001b[1;32m   1744\u001b[0m       \u001b[0;31m# No tape is watching; skip to running the function.\u001b[0m\u001b[0;34m\u001b[0m\u001b[0;34m\u001b[0m\u001b[0;34m\u001b[0m\u001b[0m\n\u001b[0;32m-> 1745\u001b[0;31m       return self._build_call_outputs(self._inference_function.call(\n\u001b[0m\u001b[1;32m   1746\u001b[0m           ctx, args, cancellation_manager=cancellation_manager))\n\u001b[1;32m   1747\u001b[0m     forward_backward = self._select_forward_and_backward_functions(\n",
      "\u001b[0;32m~/.conda/envs/pydl-tf2.2/lib/python3.8/site-packages/tensorflow/python/eager/function.py\u001b[0m in \u001b[0;36mcall\u001b[0;34m(self, ctx, args, cancellation_manager)\u001b[0m\n\u001b[1;32m    591\u001b[0m       \u001b[0;32mwith\u001b[0m \u001b[0m_InterpolateFunctionError\u001b[0m\u001b[0;34m(\u001b[0m\u001b[0mself\u001b[0m\u001b[0;34m)\u001b[0m\u001b[0;34m:\u001b[0m\u001b[0;34m\u001b[0m\u001b[0;34m\u001b[0m\u001b[0m\n\u001b[1;32m    592\u001b[0m         \u001b[0;32mif\u001b[0m \u001b[0mcancellation_manager\u001b[0m \u001b[0;32mis\u001b[0m \u001b[0;32mNone\u001b[0m\u001b[0;34m:\u001b[0m\u001b[0;34m\u001b[0m\u001b[0;34m\u001b[0m\u001b[0m\n\u001b[0;32m--> 593\u001b[0;31m           outputs = execute.execute(\n\u001b[0m\u001b[1;32m    594\u001b[0m               \u001b[0mstr\u001b[0m\u001b[0;34m(\u001b[0m\u001b[0mself\u001b[0m\u001b[0;34m.\u001b[0m\u001b[0msignature\u001b[0m\u001b[0;34m.\u001b[0m\u001b[0mname\u001b[0m\u001b[0;34m)\u001b[0m\u001b[0;34m,\u001b[0m\u001b[0;34m\u001b[0m\u001b[0;34m\u001b[0m\u001b[0m\n\u001b[1;32m    595\u001b[0m               \u001b[0mnum_outputs\u001b[0m\u001b[0;34m=\u001b[0m\u001b[0mself\u001b[0m\u001b[0;34m.\u001b[0m\u001b[0m_num_outputs\u001b[0m\u001b[0;34m,\u001b[0m\u001b[0;34m\u001b[0m\u001b[0;34m\u001b[0m\u001b[0m\n",
      "\u001b[0;32m~/.conda/envs/pydl-tf2.2/lib/python3.8/site-packages/tensorflow/python/eager/execute.py\u001b[0m in \u001b[0;36mquick_execute\u001b[0;34m(op_name, num_outputs, inputs, attrs, ctx, name)\u001b[0m\n\u001b[1;32m     57\u001b[0m   \u001b[0;32mtry\u001b[0m\u001b[0;34m:\u001b[0m\u001b[0;34m\u001b[0m\u001b[0;34m\u001b[0m\u001b[0m\n\u001b[1;32m     58\u001b[0m     \u001b[0mctx\u001b[0m\u001b[0;34m.\u001b[0m\u001b[0mensure_initialized\u001b[0m\u001b[0;34m(\u001b[0m\u001b[0;34m)\u001b[0m\u001b[0;34m\u001b[0m\u001b[0;34m\u001b[0m\u001b[0m\n\u001b[0;32m---> 59\u001b[0;31m     tensors = pywrap_tfe.TFE_Py_Execute(ctx._handle, device_name, op_name,\n\u001b[0m\u001b[1;32m     60\u001b[0m                                         inputs, attrs, num_outputs)\n\u001b[1;32m     61\u001b[0m   \u001b[0;32mexcept\u001b[0m \u001b[0mcore\u001b[0m\u001b[0;34m.\u001b[0m\u001b[0m_NotOkStatusException\u001b[0m \u001b[0;32mas\u001b[0m \u001b[0me\u001b[0m\u001b[0;34m:\u001b[0m\u001b[0;34m\u001b[0m\u001b[0;34m\u001b[0m\u001b[0m\n",
      "\u001b[0;31mKeyboardInterrupt\u001b[0m: "
     ]
    }
   ],
   "source": [
    "# Run Each Generation\n",
    "generation_performance = {}\n",
    "for current_generation in range(MAX_GENERATIONS):\n",
    "    print(f\"[+] Generation {current_generation+1} of {MAX_GENERATIONS}\")\n",
    "\n",
    "    # >>>>>> Training Phase <<<<<<\n",
    "    print(f\"\\tTraining Models:\", end='\\n', flush=True)\n",
    "    training_start = time.time()\n",
    "\n",
    "    # Train all Models in Population\n",
    "    for i,individual in enumerate(population):\n",
    "        print(f\"\\t\\tGenerating model for individual {i}\", end='\\n', flush=True)\n",
    "        ga.generate_model_from_chromosome(data, individual)\n",
    "\n",
    "    training_stop = time.time()\n",
    "    print(f\"Done > Takes {training_stop - training_start} sec\", end='\\n')\n",
    "\n",
    "    # >>>>>> Evaluation Phase <<<<<<\n",
    "    print(f\"\\tEvaluating Population: \", end='\\n', flush=True)\n",
    "    evaluation_start = time.time()\n",
    "\n",
    "    for i,individual in enumerate(population):\n",
    "        \n",
    "        print(f\"\\t\\tIndividual {i}\", end='\\n', flush=True)\n",
    "        \n",
    "        # Play the Games\n",
    "        loss, accuracy =  individual.ml_model.evaluate(x=data['x_val'], y=data['y_val']) \n",
    "        \n",
    "        # Update Chromosome Results\n",
    "        individual.loss = loss\n",
    "        individual.accuracy = accuracy\n",
    "        \n",
    "\n",
    "    evaluation_stop = time.time()\n",
    "    print(f\"Done > Takes {evaluation_stop - evaluation_start} sec\", end='\\n')\n",
    "\n",
    "    # Sort Candidates by Sum of Results\n",
    "    population.sort(key=lambda x: x.accuracy, reverse=True)\n",
    "\n",
    "    # Compute Generation Metrics\n",
    "    generation_performance[current_generation] = pd.DataFrame([{'loss':x.loss, 'accuracy': x.accuracy} for x in population ])\n",
    "    \n",
    "    generation_performance[current_generation].describe()\n",
    "\n",
    "    # >>>>>> Genetic Selection, Children Creation and Mutation <<<<<<\n",
    "    if current_generation < MAX_GENERATIONS-1:\n",
    "        population = ga.evolve_population(population)"
   ]
  },
  {
   "cell_type": "code",
   "execution_count": null,
   "metadata": {},
   "outputs": [],
   "source": []
  }
 ],
 "metadata": {
  "kernelspec": {
   "display_name": "GA",
   "language": "python",
   "name": "ga"
  },
  "language_info": {
   "codemirror_mode": {
    "name": "ipython",
    "version": 3
   },
   "file_extension": ".py",
   "mimetype": "text/x-python",
   "name": "python",
   "nbconvert_exporter": "python",
   "pygments_lexer": "ipython3",
   "version": "3.8.12"
  }
 },
 "nbformat": 4,
 "nbformat_minor": 4
}
