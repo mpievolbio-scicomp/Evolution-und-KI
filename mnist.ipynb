{
 "cells": [
  {
   "cell_type": "code",
   "execution_count": 1,
   "metadata": {},
   "outputs": [],
   "source": [
    "%load_ext autoreload"
   ]
  },
  {
   "cell_type": "code",
   "execution_count": 2,
   "metadata": {},
   "outputs": [],
   "source": [
    "%autoreload 2"
   ]
  },
  {
   "cell_type": "markdown",
   "metadata": {
    "tags": []
   },
   "source": [
    "# Neural Network training and investigation on the mnist dataset."
   ]
  },
  {
   "cell_type": "markdown",
   "metadata": {
    "tags": []
   },
   "source": [
    "## Import needed python libraries"
   ]
  },
  {
   "cell_type": "code",
   "execution_count": 3,
   "metadata": {
    "slideshow": {
     "slide_type": "slide"
    }
   },
   "outputs": [],
   "source": [
    "import os\n",
    "import random\n",
    "import pandas as pd\n",
    "import numpy as np\n",
    "import tensorflow as tf\n",
    "import time\n",
    "from keras.models import Sequential\n",
    "from keras.datasets import mnist\n",
    "from keras.layers import Dense, Dropout, InputLayer\n",
    "from keras import backend as K\n",
    "from keras.utils import to_categorical\n",
    "from matplotlib import pyplot\n",
    "import ipywidgets\n",
    "from gahyparopt import gahyperopt as ga \n",
    "from tensorflow.keras.utils import plot_model"
   ]
  },
  {
   "cell_type": "markdown",
   "metadata": {
    "tags": []
   },
   "source": [
    "## Set GPU device"
   ]
  },
  {
   "cell_type": "code",
   "execution_count": 4,
   "metadata": {},
   "outputs": [],
   "source": [
    "os.environ[\"CUDA_VISIBLE_DEVICES\"]=\"4\""
   ]
  },
  {
   "cell_type": "markdown",
   "metadata": {
    "tags": []
   },
   "source": [
    "## Load the data"
   ]
  },
  {
   "cell_type": "code",
   "execution_count": 5,
   "metadata": {
    "slideshow": {
     "slide_type": "slide"
    }
   },
   "outputs": [],
   "source": [
    "# Get test and training data.\n",
    "data = ga.load_mnist()"
   ]
  },
  {
   "cell_type": "code",
   "execution_count": 6,
   "metadata": {},
   "outputs": [
    {
     "data": {
      "application/vnd.jupyter.widget-view+json": {
       "model_id": "d3f1510dc05e4d859a955245018b4bec",
       "version_major": 2,
       "version_minor": 0
      },
      "text/plain": [
       "interactive(children=(IntSlider(value=0, description='i', max=39999, step=100), Output()), _dom_classes=('widg…"
      ]
     },
     "metadata": {},
     "output_type": "display_data"
    }
   ],
   "source": [
    "@ipywidgets.interact(i=ipywidgets.IntSlider(min=0, max=40000-1, step=100, value=0))\n",
    "def plot_mnist_figure(i):\n",
    "    print(data['y_train'][i])\n",
    "    pyplot.imshow(data['x_train'][i].reshape(28,28), cmap='bone_r')"
   ]
  },
  {
   "cell_type": "markdown",
   "metadata": {
    "tags": []
   },
   "source": [
    "## Define functions"
   ]
  },
  {
   "cell_type": "code",
   "execution_count": 14,
   "metadata": {},
   "outputs": [
    {
     "data": {
      "text/plain": [
       "\u001b[0;31mInit signature:\u001b[0m \u001b[0mDropout\u001b[0m\u001b[0;34m(\u001b[0m\u001b[0;34m*\u001b[0m\u001b[0margs\u001b[0m\u001b[0;34m,\u001b[0m \u001b[0;34m**\u001b[0m\u001b[0mkwargs\u001b[0m\u001b[0;34m)\u001b[0m\u001b[0;34m\u001b[0m\u001b[0;34m\u001b[0m\u001b[0m\n",
       "\u001b[0;31mDocstring:\u001b[0m     \n",
       "Applies Dropout to the input.\n",
       "\n",
       "The Dropout layer randomly sets input units to 0 with a frequency of `rate`\n",
       "at each step during training time, which helps prevent overfitting.\n",
       "Inputs not set to 0 are scaled up by 1/(1 - rate) such that the sum over\n",
       "all inputs is unchanged.\n",
       "\n",
       "Note that the Dropout layer only applies when `training` is set to True\n",
       "such that no values are dropped during inference. When using `model.fit`,\n",
       "`training` will be appropriately set to True automatically, and in other\n",
       "contexts, you can set the kwarg explicitly to True when calling the layer.\n",
       "\n",
       "(This is in contrast to setting `trainable=False` for a Dropout layer.\n",
       "`trainable` does not affect the layer's behavior, as Dropout does\n",
       "not have any variables/weights that can be frozen during training.)\n",
       "\n",
       ">>> tf.random.set_seed(0)\n",
       ">>> layer = tf.keras.layers.Dropout(.2, input_shape=(2,))\n",
       ">>> data = np.arange(10).reshape(5, 2).astype(np.float32)\n",
       ">>> print(data)\n",
       "[[0. 1.]\n",
       " [2. 3.]\n",
       " [4. 5.]\n",
       " [6. 7.]\n",
       " [8. 9.]]\n",
       ">>> outputs = layer(data, training=True)\n",
       ">>> print(outputs)\n",
       "tf.Tensor(\n",
       "[[ 0.    1.25]\n",
       " [ 2.5   3.75]\n",
       " [ 5.    6.25]\n",
       " [ 7.5   8.75]\n",
       " [10.    0.  ]], shape=(5, 2), dtype=float32)\n",
       "\n",
       "Arguments:\n",
       "  rate: Float between 0 and 1. Fraction of the input units to drop.\n",
       "  noise_shape: 1D integer tensor representing the shape of the\n",
       "    binary dropout mask that will be multiplied with the input.\n",
       "    For instance, if your inputs have shape\n",
       "    `(batch_size, timesteps, features)` and\n",
       "    you want the dropout mask to be the same for all timesteps,\n",
       "    you can use `noise_shape=(batch_size, 1, features)`.\n",
       "  seed: A Python integer to use as random seed.\n",
       "\n",
       "Call arguments:\n",
       "  inputs: Input tensor (of any rank).\n",
       "  training: Python boolean indicating whether the layer should behave in\n",
       "    training mode (adding dropout) or in inference mode (doing nothing).\n",
       "\u001b[0;31mFile:\u001b[0m           /opt/anaconda3/envs/gahyparopt/lib/python3.8/site-packages/tensorflow/python/keras/layers/core.py\n",
       "\u001b[0;31mType:\u001b[0m           type\n",
       "\u001b[0;31mSubclasses:\u001b[0m     SpatialDropout1D, SpatialDropout2D, SpatialDropout3D, Dropout\n"
      ]
     },
     "metadata": {},
     "output_type": "display_data"
    }
   ],
   "source": [
    "Dropout?"
   ]
  },
  {
   "cell_type": "code",
   "execution_count": 15,
   "metadata": {},
   "outputs": [],
   "source": [
    "def generate_reference_ml():\n",
    "    \"\"\"\n",
    "    Train and Generate NN Model based on https://github.com/fchollet/deep-learning-with-python-notebooks/blobs/master/2.1-a-first-look-at-a-neural-netword.ipynb'\n",
    "    :param df: Dataframe to Training Process\n",
    "    :return:\n",
    "    \"\"\"\n",
    "\n",
    "    # Define Neural model Topology\n",
    "    model = Sequential()\n",
    "    model.add(Dense(512, activation='relu', input_shape=(28 * 28,)))\n",
    "    model.add(Dropout(.2))\n",
    "    model.add(Dense(10, activation='softmax'))\n",
    "\n",
    "    # Compile Neural model\n",
    "    model.compile(optimizer='rmsprop', loss='categorical_crossentropy', metrics=['accuracy'])\n",
    "\n",
    "    display(plot_model(model, show_shapes=True, show_layer_names=False))\n",
    "    \n",
    "    return model\n",
    "\n",
    "def model_training(model, data):\n",
    "    run_start = time.time()\n",
    "    # Fit Model with Data\n",
    "    x_train, y_train, x_val, y_val = data.values()\n",
    "    training = model.fit(x_train, y_train,\n",
    "        epochs=20,\n",
    "        batch_size=128,\n",
    "        steps_per_epoch=300,\n",
    "        verbose=1,\n",
    "        validation_data=(x_val, y_val),\n",
    "    )\n",
    "\n",
    "    run_stop = time.time()\n",
    "    print(f\"Done > Takes {run_stop-run_start} sec\")\n",
    "    \n",
    "    return model, training\n",
    "\n"
   ]
  },
  {
   "cell_type": "markdown",
   "metadata": {
    "slideshow": {
     "slide_type": "subslide"
    },
    "tags": []
   },
   "source": [
    "## Create a model and perform the training."
   ]
  },
  {
   "cell_type": "code",
   "execution_count": 16,
   "metadata": {
    "slideshow": {
     "slide_type": "subslide"
    },
    "tags": []
   },
   "outputs": [
    {
     "data": {
      "image/png": "[encoded data removed]",
      "text/plain": [
       "<IPython.core.display.Image object>"
      ]
     },
     "metadata": {},
     "output_type": "display_data"
    }
   ],
   "source": [
    "ml_model = generate_reference_ml()"
   ]
  },
  {
   "cell_type": "code",
   "execution_count": 17,
   "metadata": {},
   "outputs": [
    {
     "name": "stdout",
     "output_type": "stream",
     "text": [
      "Epoch 1/20\n",
      "300/300 [==============================] - 2s 5ms/step - loss: 0.3330 - accuracy: 0.9029 - val_loss: 0.1796 - val_accuracy: 0.9492\n",
      "Epoch 2/20\n",
      "300/300 [==============================] - 2s 5ms/step - loss: 0.1460 - accuracy: 0.9579 - val_loss: 0.1371 - val_accuracy: 0.9597\n",
      "Epoch 3/20\n",
      "300/300 [==============================] - 1s 5ms/step - loss: 0.0985 - accuracy: 0.9705 - val_loss: 0.1091 - val_accuracy: 0.9671\n",
      "Epoch 4/20\n",
      "300/300 [==============================] - 2s 5ms/step - loss: 0.0768 - accuracy: 0.9775 - val_loss: 0.0995 - val_accuracy: 0.9707\n",
      "Epoch 5/20\n",
      "300/300 [==============================] - 2s 5ms/step - loss: 0.0600 - accuracy: 0.9819 - val_loss: 0.0906 - val_accuracy: 0.9736\n",
      "Epoch 6/20\n",
      "300/300 [==============================] - 2s 5ms/step - loss: 0.0486 - accuracy: 0.9851 - val_loss: 0.1043 - val_accuracy: 0.9711\n",
      "Epoch 7/20\n",
      "300/300 [==============================] - 2s 5ms/step - loss: 0.0420 - accuracy: 0.9872 - val_loss: 0.0873 - val_accuracy: 0.9754\n",
      "Epoch 8/20\n",
      "300/300 [==============================] - 2s 5ms/step - loss: 0.0351 - accuracy: 0.9895 - val_loss: 0.0915 - val_accuracy: 0.9760\n",
      "Epoch 9/20\n",
      "300/300 [==============================] - 2s 5ms/step - loss: 0.0289 - accuracy: 0.9916 - val_loss: 0.0918 - val_accuracy: 0.9760\n",
      "Epoch 10/20\n",
      "300/300 [==============================] - 2s 5ms/step - loss: 0.0240 - accuracy: 0.9924 - val_loss: 0.0919 - val_accuracy: 0.9768\n",
      "Epoch 11/20\n",
      "300/300 [==============================] - 2s 5ms/step - loss: 0.0220 - accuracy: 0.9931 - val_loss: 0.0940 - val_accuracy: 0.9766\n",
      "Epoch 12/20\n",
      "300/300 [==============================] - 2s 5ms/step - loss: 0.0191 - accuracy: 0.9943 - val_loss: 0.1002 - val_accuracy: 0.9762\n",
      "Epoch 13/20\n",
      "300/300 [==============================] - 2s 5ms/step - loss: 0.0164 - accuracy: 0.9948 - val_loss: 0.1037 - val_accuracy: 0.9761\n",
      "Epoch 14/20\n",
      "300/300 [==============================] - 2s 5ms/step - loss: 0.0136 - accuracy: 0.9957 - val_loss: 0.0987 - val_accuracy: 0.9783\n",
      "Epoch 15/20\n",
      "300/300 [==============================] - 1s 5ms/step - loss: 0.0132 - accuracy: 0.9959 - val_loss: 0.0985 - val_accuracy: 0.9783\n",
      "Epoch 16/20\n",
      "300/300 [==============================] - 1s 4ms/step - loss: 0.0102 - accuracy: 0.9969 - val_loss: 0.1053 - val_accuracy: 0.9782\n",
      "Epoch 17/20\n",
      "300/300 [==============================] - 1s 5ms/step - loss: 0.0104 - accuracy: 0.9965 - val_loss: 0.1068 - val_accuracy: 0.9773\n",
      "Epoch 18/20\n",
      "300/300 [==============================] - 2s 5ms/step - loss: 0.0083 - accuracy: 0.9974 - val_loss: 0.1057 - val_accuracy: 0.9776\n",
      "Epoch 19/20\n",
      "300/300 [==============================] - 2s 5ms/step - loss: 0.0075 - accuracy: 0.9980 - val_loss: 0.1057 - val_accuracy: 0.9780\n",
      "Epoch 20/20\n",
      "300/300 [==============================] - 2s 5ms/step - loss: 0.0071 - accuracy: 0.9977 - val_loss: 0.1133 - val_accuracy: 0.9779\n",
      "Done > Takes 31.494264364242554 sec\n"
     ]
    }
   ],
   "source": [
    "model, training = model_training(ml_model, data)"
   ]
  },
  {
   "cell_type": "code",
   "execution_count": 18,
   "metadata": {
    "slideshow": {
     "slide_type": "slide"
    }
   },
   "outputs": [
    {
     "data": {
      "text/plain": [
       "<matplotlib.legend.Legend at 0x7f80b80a4be0>"
      ]
     },
     "execution_count": 18,
     "metadata": {},
     "output_type": "execute_result"
    },
    {
     "data": {
      "image/png": "[encoded data removed]",
      "text/plain": [
       "<Figure size 432x288 with 2 Axes>"
      ]
     },
     "metadata": {
      "needs_background": "light"
     },
     "output_type": "display_data"
    }
   ],
   "source": [
    "history = pd.DataFrame(training.history)\n",
    "\n",
    "fig, ax = pyplot.subplots(2,1)\n",
    "history['loss'].plot(ax=ax[0], style=\"o\",label='loss')\n",
    "history['val_loss'].plot(ax=ax[0], style=\"o\",label='val loss')\n",
    "ax[0].legend()\n",
    "history['accuracy'].plot(ax=ax[1], style=\"o\",label='acc')\n",
    "history['val_accuracy'].plot(ax=ax[1], style=\"o\",label='val acc')\n",
    "ax[1].legend()"
   ]
  },
  {
   "cell_type": "code",
   "execution_count": 19,
   "metadata": {},
   "outputs": [
    {
     "name": "stdout",
     "output_type": "stream",
     "text": [
      "625/625 [==============================] - 2s 2ms/step - loss: 0.1133 - accuracy: 0.9779\n"
     ]
    }
   ],
   "source": [
    "loss, accuracy = model.evaluate(x=data['x_val'], y=data['y_val'])"
   ]
  },
  {
   "cell_type": "code",
   "execution_count": 13,
   "metadata": {},
   "outputs": [
    {
     "name": "stdout",
     "output_type": "stream",
     "text": [
      "Validation loss = 0.24158364534378052\n",
      "Validation accuracy = 0.9753000140190125\n"
     ]
    }
   ],
   "source": [
    "print(f\"Validation loss = {loss}\")\n",
    "print(f\"Validation accuracy = {accuracy}\")"
   ]
  },
  {
   "cell_type": "markdown",
   "metadata": {
    "tags": []
   },
   "source": [
    "## Was sagt das Model eigentlich voraus?"
   ]
  },
  {
   "cell_type": "code",
   "execution_count": 13,
   "metadata": {},
   "outputs": [],
   "source": [
    "predicted = model.predict(data['x_val'])\n",
    "expected = data['y_val']"
   ]
  },
  {
   "cell_type": "code",
   "execution_count": 14,
   "metadata": {},
   "outputs": [
    {
     "data": {
      "text/plain": [
       "array([1.22462195e-24, 1.34585687e-16, 2.61039778e-16, 1.99501769e-11,\n",
       "       9.23840560e-23, 6.39833574e-21, 3.36443197e-33, 1.00000000e+00,\n",
       "       5.12211411e-16, 9.82410331e-09], dtype=float32)"
      ]
     },
     "execution_count": 14,
     "metadata": {},
     "output_type": "execute_result"
    }
   ],
   "source": [
    "predicted[0]"
   ]
  },
  {
   "cell_type": "code",
   "execution_count": 15,
   "metadata": {},
   "outputs": [
    {
     "data": {
      "application/vnd.jupyter.widget-view+json": {
       "model_id": "1c93592ca98b41adae73b490270f63fb",
       "version_major": 2,
       "version_minor": 0
      },
      "text/plain": [
       "interactive(children=(IntSlider(value=0, description='i', max=19999, step=10), Output()), _dom_classes=('widge…"
      ]
     },
     "metadata": {},
     "output_type": "display_data"
    }
   ],
   "source": [
    "@ipywidgets.interact(i=ipywidgets.IntSlider(min=0, max=20000-1, step=10, value=0))\n",
    "def plot_prediction(i):\n",
    "    fig, ax = pyplot.subplots(2,1, figsize=(10,10))\n",
    "    ax[0].imshow(data['x_val'][i].reshape(28,28), cmap='bone_r')\n",
    "    ax[0].set_title('MNIST')\n",
    "    ax[1].bar(x=range(10), height=predicted[i,:], label=\"NN prediction\")\n",
    "    ax[1].bar(x=range(10), height=predicted[i,:], label=\"Truth\", width=0.2)\n",
    "    ax[1].set_yscale('log')\n",
    "    ax[1].set_ylim([0.01, 1])\n",
    "    ax[1].set_title('Prediction')"
   ]
  },
  {
   "cell_type": "markdown",
   "metadata": {},
   "source": [
    "Das Modell sagt voraus, mit welcher **Voraussichtlichkeit**, eine Ziffer einer Zahl zuzuordnen ist."
   ]
  },
  {
   "cell_type": "markdown",
   "metadata": {
    "tags": []
   },
   "source": [
    "## Welche Zahlen werden nicht gut erkannt?"
   ]
  },
  {
   "cell_type": "code",
   "execution_count": 16,
   "metadata": {},
   "outputs": [],
   "source": [
    "expected = data['y_val']"
   ]
  },
  {
   "cell_type": "code",
   "execution_count": 17,
   "metadata": {},
   "outputs": [
    {
     "data": {
      "text/plain": [
       "(20000, 10)"
      ]
     },
     "execution_count": 17,
     "metadata": {},
     "output_type": "execute_result"
    }
   ],
   "source": [
    "expected.shape"
   ]
  },
  {
   "cell_type": "markdown",
   "metadata": {},
   "source": [
    "Berechne die Differenz zwischen Model und Wahrheit: Falls alle Vorhersagen richtig, Differenz = 0"
   ]
  },
  {
   "cell_type": "code",
   "execution_count": 18,
   "metadata": {},
   "outputs": [],
   "source": [
    "difference = np.sum((predicted-expected)**2, -1)"
   ]
  },
  {
   "cell_type": "code",
   "execution_count": 19,
   "metadata": {},
   "outputs": [],
   "source": [
    "mismatched = predicted[difference>0.5]\n",
    "expected_mm = expected[difference>0.5]\n",
    "images = data['x_val'][difference>0.5,:]"
   ]
  },
  {
   "cell_type": "code",
   "execution_count": 21,
   "metadata": {},
   "outputs": [
    {
     "data": {
      "application/vnd.jupyter.widget-view+json": {
       "model_id": "830a7a0223c1425da2131a2d86103259",
       "version_major": 2,
       "version_minor": 0
      },
      "text/plain": [
       "interactive(children=(IntSlider(value=0, description='i', max=417), Output()), _dom_classes=('widget-interact'…"
      ]
     },
     "metadata": {},
     "output_type": "display_data"
    }
   ],
   "source": [
    "@ipywidgets.interact(i=ipywidgets.IntSlider(min=0, max=len(mismatched-1), step=1, value=0))\n",
    "def plot_mismatch(i):\n",
    "    fig, ax = pyplot.subplots(2,1, figsize=(10,10))\n",
    "    ax[0].imshow(images[i].reshape(28,28), cmap='bone_r')\n",
    "    ax[0].set_title('MNIST')\n",
    "    ax[1].bar(x=range(10), height=mismatched[i,:], label=\"NN Prediction\")\n",
    "    ax[1].bar(x=range(10), height=expected_mm[i,:], width=0.2, label=\"Truth\")\n",
    "    ax[1].set_yscale('log')\n",
    "    ax[1].set_ylim([0.01, 1])\n",
    "    ax[1].legend(loc=1)\n",
    "    "
   ]
  },
  {
   "cell_type": "markdown",
   "metadata": {
    "tags": []
   },
   "source": [
    "## Aufgaben\n",
    "### Veraendere:\n",
    "#### die Anzahl der Epochen (warum?)\n",
    "#### die Anzahl der (internen) Netzwerkschichten: 2, 3, 4\n",
    "#### die Anzahl der Neuronen in der/den versteckten Schichten (128, 256, 512).\n",
    "### Notiere jeweils die Werte fuer \"Validation loss\" und \"Validation accuracy\"\n",
    "### Fuer welche Kombination von Parametern erhaelst du die beste Validation accuracy\n",
    "### Evaluiere zum Schluss das \"beste\" Modell mit dem Test Datensatz (`data[x_test`/`y_test]`]"
   ]
  },
  {
   "cell_type": "code",
   "execution_count": null,
   "metadata": {},
   "outputs": [],
   "source": []
  }
 ],
 "metadata": {
  "kernelspec": {
   "display_name": "GA",
   "language": "python",
   "name": "ga"
  },
  "language_info": {
   "codemirror_mode": {
    "name": "ipython",
    "version": 3
   },
   "file_extension": ".py",
   "mimetype": "text/x-python",
   "name": "python",
   "nbconvert_exporter": "python",
   "pygments_lexer": "ipython3",
   "version": "3.8.12"
  }
 },
 "nbformat": 4,
 "nbformat_minor": 4
}
