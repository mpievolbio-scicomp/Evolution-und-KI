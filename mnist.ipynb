{
 "cells": [
  {
   "cell_type": "code",
   "execution_count": 1,
   "metadata": {},
   "outputs": [],
   "source": [
    "%load_ext autoreload"
   ]
  },
  {
   "cell_type": "code",
   "execution_count": 2,
   "metadata": {},
   "outputs": [],
   "source": [
    "%autoreload 2"
   ]
  },
  {
   "cell_type": "markdown",
   "metadata": {},
   "source": [
    "# Genetic algorithm for hyperparameter optimization on the mnist dataset.\n",
    "Credits: https://github.com/guibacellar/OpenAi/blob/master/CartPole-GA.py"
   ]
  },
  {
   "cell_type": "code",
   "execution_count": 12,
   "metadata": {
    "slideshow": {
     "slide_type": "slide"
    }
   },
   "outputs": [],
   "source": [
    "import os\n",
    "import random\n",
    "import pandas as pd\n",
    "import numpy as np\n",
    "import tensorflow as tf\n",
    "import time\n",
    "from keras.models import Sequential\n",
    "from keras.datasets import mnist\n",
    "from keras.layers import Dense, Dropout, InputLayer\n",
    "from keras import backend as K\n",
    "from keras.utils import to_categorical\n",
    "from matplotlib import pyplot\n",
    "import ipywidgets\n",
    "from gahyparopt import gahyperopt as ga \n",
    "from tensorflow.keras.utils import plot_model"
   ]
  },
  {
   "cell_type": "code",
   "execution_count": 4,
   "metadata": {},
   "outputs": [],
   "source": [
    "os.environ[\"CUDA_VISIBLE_DEVICES\"]=\"7\""
   ]
  },
  {
   "cell_type": "code",
   "execution_count": 6,
   "metadata": {
    "slideshow": {
     "slide_type": "slide"
    }
   },
   "outputs": [],
   "source": [
    "# Get test and training data.\n",
    "data = ga.load_mnist()"
   ]
  },
  {
   "cell_type": "code",
   "execution_count": 7,
   "metadata": {},
   "outputs": [
    {
     "data": {
      "application/vnd.jupyter.widget-view+json": {
       "model_id": "a5f08529b0a94c5683f25099b5bfe6ce",
       "version_major": 2,
       "version_minor": 0
      },
      "text/plain": [
       "interactive(children=(IntSlider(value=0, description='i', max=39999, step=100), Output()), _dom_classes=('widg…"
      ]
     },
     "metadata": {},
     "output_type": "display_data"
    }
   ],
   "source": [
    "@ipywidgets.interact(i=ipywidgets.IntSlider(min=0, max=40000-1, step=100, value=0))\n",
    "def plot_mnist_figure(i):\n",
    "    print(data['y_train'][i])\n",
    "    pyplot.imshow(data['x_train'][i].reshape(28,28), cmap='bone_r')"
   ]
  },
  {
   "cell_type": "code",
   "execution_count": 34,
   "metadata": {},
   "outputs": [],
   "source": [
    "def generate_reference_ml():\n",
    "    \"\"\"\n",
    "    Train and Generate NN Model based on https://github.com/fchollet/deep-learning-with-python-notebooks/blobs/master/2.1-a-first-look-at-a-neural-netword.ipynb'\n",
    "    :param df: Dataframe to Training Process\n",
    "    :return:\n",
    "    \"\"\"\n",
    "\n",
    "    # Define Neural model Topology\n",
    "    model = Sequential()\n",
    "    model.add(Dense(512, activation='relu', input_shape=(28 * 28,)))\n",
    "    model.add(Dense(10, activation='softmax'))\n",
    "\n",
    "    # Compile Neural model\n",
    "    model.compile(optimizer='rmsprop', loss='categorical_crossentropy', metrics=['accuracy'])\n",
    "\n",
    "    display(plot_model(model, show_shapes=True, show_layer_names=False))\n",
    "    \n",
    "    return model\n",
    "\n",
    "def model_training(model, data):\n",
    "    run_start = time.time()\n",
    "    # Fit Model with Data\n",
    "    x_train, y_train, x_val, y_val = data.values()\n",
    "    training = model.fit(x_train, y_train,\n",
    "        epochs=20,\n",
    "        batch_size=128,\n",
    "        steps_per_epoch=300,\n",
    "        verbose=1,\n",
    "        validation_data=(x_val, y_val),\n",
    "    )\n",
    "\n",
    "    run_stop = time.time()\n",
    "    print(f\"Done > Takes {run_stop-run_start} sec\")\n",
    "    \n",
    "    return model, training\n",
    "\n"
   ]
  },
  {
   "cell_type": "code",
   "execution_count": 35,
   "metadata": {
    "slideshow": {
     "slide_type": "subslide"
    },
    "tags": []
   },
   "outputs": [
    {
     "data": {
      "image/png": "[encoded data removed]",
      "text/plain": [
       "<IPython.core.display.Image object>"
      ]
     },
     "metadata": {},
     "output_type": "display_data"
    }
   ],
   "source": [
    "# Creates a Reference NN Model based on \n",
    "ml_model = generate_reference_ml()"
   ]
  },
  {
   "cell_type": "code",
   "execution_count": 36,
   "metadata": {},
   "outputs": [
    {
     "name": "stdout",
     "output_type": "stream",
     "text": [
      "Epoch 1/20\n",
      "300/300 [==============================] - 2s 5ms/step - loss: 0.3143 - accuracy: 0.9102 - val_loss: 0.1742 - val_accuracy: 0.9481\n",
      "Epoch 2/20\n",
      "300/300 [==============================] - 2s 5ms/step - loss: 0.1325 - accuracy: 0.9605 - val_loss: 0.1256 - val_accuracy: 0.9622\n",
      "Epoch 3/20\n",
      "300/300 [==============================] - 2s 5ms/step - loss: 0.0865 - accuracy: 0.9749 - val_loss: 0.1180 - val_accuracy: 0.9643\n",
      "Epoch 4/20\n",
      "300/300 [==============================] - 1s 5ms/step - loss: 0.0616 - accuracy: 0.9818 - val_loss: 0.1006 - val_accuracy: 0.9700\n",
      "Epoch 5/20\n",
      "300/300 [==============================] - 1s 5ms/step - loss: 0.0473 - accuracy: 0.9863 - val_loss: 0.0933 - val_accuracy: 0.9741\n",
      "Epoch 6/20\n",
      "300/300 [==============================] - 2s 5ms/step - loss: 0.0350 - accuracy: 0.9902 - val_loss: 0.0908 - val_accuracy: 0.9744\n",
      "Epoch 7/20\n",
      "300/300 [==============================] - 1s 5ms/step - loss: 0.0260 - accuracy: 0.9928 - val_loss: 0.0961 - val_accuracy: 0.9743\n",
      "Epoch 8/20\n",
      "300/300 [==============================] - 2s 5ms/step - loss: 0.0213 - accuracy: 0.9941 - val_loss: 0.0955 - val_accuracy: 0.9746\n",
      "Epoch 9/20\n",
      "300/300 [==============================] - 1s 5ms/step - loss: 0.0156 - accuracy: 0.9960 - val_loss: 0.0936 - val_accuracy: 0.9758\n",
      "Epoch 10/20\n",
      "300/300 [==============================] - 2s 5ms/step - loss: 0.0109 - accuracy: 0.9972 - val_loss: 0.1156 - val_accuracy: 0.9725\n",
      "Epoch 11/20\n",
      "300/300 [==============================] - 2s 5ms/step - loss: 0.0094 - accuracy: 0.9976 - val_loss: 0.1013 - val_accuracy: 0.9763\n",
      "Epoch 12/20\n",
      "300/300 [==============================] - 1s 5ms/step - loss: 0.0075 - accuracy: 0.9980 - val_loss: 0.1080 - val_accuracy: 0.9766\n",
      "Epoch 13/20\n",
      "300/300 [==============================] - 2s 5ms/step - loss: 0.0054 - accuracy: 0.9985 - val_loss: 0.1141 - val_accuracy: 0.9760\n",
      "Epoch 14/20\n",
      "300/300 [==============================] - 2s 5ms/step - loss: 0.0036 - accuracy: 0.9992 - val_loss: 0.1133 - val_accuracy: 0.9768\n",
      "Epoch 15/20\n",
      "300/300 [==============================] - 2s 5ms/step - loss: 0.0031 - accuracy: 0.9991 - val_loss: 0.1185 - val_accuracy: 0.9761\n",
      "Epoch 16/20\n",
      "300/300 [==============================] - 2s 5ms/step - loss: 0.0021 - accuracy: 0.9995 - val_loss: 0.1198 - val_accuracy: 0.9768\n",
      "Epoch 17/20\n",
      "300/300 [==============================] - 1s 5ms/step - loss: 0.0021 - accuracy: 0.9994 - val_loss: 0.1273 - val_accuracy: 0.9778\n",
      "Epoch 18/20\n",
      "300/300 [==============================] - 2s 5ms/step - loss: 0.0019 - accuracy: 0.9995 - val_loss: 0.1366 - val_accuracy: 0.9765\n",
      "Epoch 19/20\n",
      "300/300 [==============================] - 2s 5ms/step - loss: 9.8578e-04 - accuracy: 0.9998 - val_loss: 0.1393 - val_accuracy: 0.9760\n",
      "Epoch 20/20\n",
      "300/300 [==============================] - 2s 5ms/step - loss: 9.1500e-04 - accuracy: 0.9998 - val_loss: 0.1333 - val_accuracy: 0.9786\n",
      "Done > Takes 31.15917706489563 sec\n"
     ]
    }
   ],
   "source": [
    "model, training = model_training(ml_model, data)"
   ]
  },
  {
   "cell_type": "code",
   "execution_count": 31,
   "metadata": {
    "slideshow": {
     "slide_type": "slide"
    }
   },
   "outputs": [
    {
     "data": {
      "text/plain": [
       "<matplotlib.legend.Legend at 0x7f753c7702b0>"
      ]
     },
     "execution_count": 31,
     "metadata": {},
     "output_type": "execute_result"
    },
    {
     "data": {
      "image/png": "[encoded data removed]",
      "text/plain": [
       "<Figure size 432x288 with 2 Axes>"
      ]
     },
     "metadata": {
      "needs_background": "light"
     },
     "output_type": "display_data"
    }
   ],
   "source": [
    "history = pd.DataFrame(training.history)\n",
    "\n",
    "fig, ax = pyplot.subplots(2,1)\n",
    "history['loss'].plot(ax=ax[0], style=\"o\",label='loss')\n",
    "history['val_loss'].plot(ax=ax[0], style=\"o\",label='val loss')\n",
    "ax[0].legend()\n",
    "history['accuracy'].plot(ax=ax[1], style=\"o\",label='acc')\n",
    "history['val_accuracy'].plot(ax=ax[1], style=\"o\",label='val acc')\n",
    "ax[1].legend()"
   ]
  },
  {
   "cell_type": "code",
   "execution_count": 39,
   "metadata": {},
   "outputs": [
    {
     "name": "stdout",
     "output_type": "stream",
     "text": [
      "625/625 [==============================] - 2s 3ms/step - loss: 0.1333 - accuracy: 0.9786\n"
     ]
    }
   ],
   "source": [
    "loss, accuracy = model.evaluate(x=data['x_val'], y=data['y_val'])"
   ]
  },
  {
   "cell_type": "code",
   "execution_count": 40,
   "metadata": {},
   "outputs": [
    {
     "name": "stdout",
     "output_type": "stream",
     "text": [
      "Validation loss = 0.13332107663154602\n",
      "Validation accuracy = 0.9785500168800354\n"
     ]
    }
   ],
   "source": [
    "print(f\"Validation loss = {loss}\")\n",
    "print(f\"Validation accuracy = {accuracy}\")"
   ]
  },
  {
   "cell_type": "markdown",
   "metadata": {},
   "source": [
    "## Was sagt das Model eigentlich voraus?"
   ]
  },
  {
   "cell_type": "code",
   "execution_count": 119,
   "metadata": {},
   "outputs": [],
   "source": [
    "predicted = model.predict(data['x_val'])\n",
    "expected = data['y_val']"
   ]
  },
  {
   "cell_type": "code",
   "execution_count": 120,
   "metadata": {},
   "outputs": [
    {
     "data": {
      "text/plain": [
       "array([1.1556001e-21, 1.2814851e-16, 6.6451164e-16, 1.1994938e-12,\n",
       "       5.3290379e-25, 6.0953947e-22, 4.6639137e-32, 1.0000000e+00,\n",
       "       1.2872364e-17, 4.8247193e-09], dtype=float32)"
      ]
     },
     "execution_count": 120,
     "metadata": {},
     "output_type": "execute_result"
    }
   ],
   "source": [
    "predicted[0]"
   ]
  },
  {
   "cell_type": "code",
   "execution_count": 122,
   "metadata": {},
   "outputs": [
    {
     "data": {
      "application/vnd.jupyter.widget-view+json": {
       "model_id": "d15f8d0841354010ab2605e1c415a5c8",
       "version_major": 2,
       "version_minor": 0
      },
      "text/plain": [
       "interactive(children=(IntSlider(value=0, description='i', max=19999, step=10), Output()), _dom_classes=('widge…"
      ]
     },
     "metadata": {},
     "output_type": "display_data"
    }
   ],
   "source": [
    "@ipywidgets.interact(i=ipywidgets.IntSlider(min=0, max=20000-1, step=10, value=0))\n",
    "def plot_prediction(i):\n",
    "    fig, ax = pyplot.subplots(2,1, figsize=(10,10))\n",
    "    ax[0].imshow(data['x_val'][i].reshape(28,28), cmap='bone_r')\n",
    "    ax[0].set_title('MNIST')\n",
    "    ax[1].bar(x=range(10), height=predicted[i,:], label=\"NN prediction\")\n",
    "    ax[1].bar(x=range(10), height=predicted[i,:], label=\"Truth\", width=0.2)\n",
    "    ax[1].set_yscale('log')\n",
    "    ax[1].set_ylim([0.01, 1])\n",
    "    ax[1].set_title('Prediction')"
   ]
  },
  {
   "cell_type": "markdown",
   "metadata": {},
   "source": [
    "Das Modell sagt voraus, mit welcher **Voraussichtlichkeit**, eine Ziffer einer Zahl zuzuordnen ist."
   ]
  },
  {
   "cell_type": "markdown",
   "metadata": {},
   "source": [
    "## Welche Zahlen werden nicht gut erkannt?"
   ]
  },
  {
   "cell_type": "code",
   "execution_count": 97,
   "metadata": {},
   "outputs": [],
   "source": [
    "expected = data['y_val']"
   ]
  },
  {
   "cell_type": "code",
   "execution_count": 98,
   "metadata": {},
   "outputs": [
    {
     "data": {
      "text/plain": [
       "(20000, 10)"
      ]
     },
     "execution_count": 98,
     "metadata": {},
     "output_type": "execute_result"
    }
   ],
   "source": [
    "expected.shape"
   ]
  },
  {
   "cell_type": "markdown",
   "metadata": {},
   "source": [
    "Berechne die Differenz zwischen Model und Wahrheit: Falls alle Vorhersagen richtig, Differenz = 0"
   ]
  },
  {
   "cell_type": "code",
   "execution_count": 125,
   "metadata": {},
   "outputs": [],
   "source": [
    "difference = np.sum((predicted-expected)**2, -1)"
   ]
  },
  {
   "cell_type": "code",
   "execution_count": 126,
   "metadata": {},
   "outputs": [],
   "source": [
    "mismatched = predicted[difference>0.5]\n",
    "expected_mm = expected[difference>0.5]\n",
    "images = data['x_val'][difference>0.5,:]"
   ]
  },
  {
   "cell_type": "code",
   "execution_count": 127,
   "metadata": {},
   "outputs": [
    {
     "data": {
      "application/vnd.jupyter.widget-view+json": {
       "model_id": "3ff6b14c95c34f2394d05d7e8d27dd4a",
       "version_major": 2,
       "version_minor": 0
      },
      "text/plain": [
       "interactive(children=(IntSlider(value=0, description='i', max=431), Output()), _dom_classes=('widget-interact'…"
      ]
     },
     "metadata": {},
     "output_type": "display_data"
    }
   ],
   "source": [
    "@ipywidgets.interact(i=ipywidgets.IntSlider(min=0, max=len(mismatch-1), step=1, value=0))\n",
    "def plot_mismatch(i):\n",
    "    fig, ax = pyplot.subplots(2,1, figsize=(10,10))\n",
    "    ax[0].imshow(images[i].reshape(28,28), cmap='bone_r')\n",
    "    ax[0].set_title('MNIST')\n",
    "    ax[1].bar(x=range(10), height=mismatched[i,:], label=\"NN Prediction\")\n",
    "    ax[1].bar(x=range(10), height=expected_mm[i,:], width=0.2, label=\"Truth\")\n",
    "    ax[1].set_yscale('log')\n",
    "    ax[1].set_ylim([0.01, 1])\n",
    "    ax[1].legend(loc=1)\n",
    "    "
   ]
  },
  {
   "cell_type": "markdown",
   "metadata": {},
   "source": [
    "## Aufgaben\n",
    "### Veraendere:\n",
    "#### die Anzahl der Epochen (warum?)\n",
    "#### die Anzahl der (internen) Netzwerkschichten: 2, 3, 4\n",
    "#### die Anzahl der Neuronen in der/den versteckten Schichten (128, 256, 512).\n",
    "### Notiere jeweils die Werte fuer \"Validation loss\" und \"Validation accuracy\"\n",
    "### Fuer welche Kombination von Parametern erhaelst du die beste Validation accuracy\n",
    "### Evaluiere zum Schluss das \"beste\" Modell mit dem Test Datensatz (`data[x_test`/`y_test]`]"
   ]
  },
  {
   "cell_type": "code",
   "execution_count": null,
   "metadata": {},
   "outputs": [],
   "source": []
  }
 ],
 "metadata": {
  "kernelspec": {
   "display_name": "GA",
   "language": "python",
   "name": "ga"
  },
  "language_info": {
   "codemirror_mode": {
    "name": "ipython",
    "version": 3
   },
   "file_extension": ".py",
   "mimetype": "text/x-python",
   "name": "python",
   "nbconvert_exporter": "python",
   "pygments_lexer": "ipython3",
   "version": "3.8.12"
  }
 },
 "nbformat": 4,
 "nbformat_minor": 4
}
