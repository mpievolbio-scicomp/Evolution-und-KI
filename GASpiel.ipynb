{
 "cells": [
  {
   "cell_type": "code",
   "execution_count": 1,
   "metadata": {
    "tags": []
   },
   "outputs": [],
   "source": [
    "%load_ext autoreload\n",
    "%autoreload 2"
   ]
  },
  {
   "cell_type": "code",
   "execution_count": 2,
   "metadata": {
    "tags": [
     "hide_input"
    ]
   },
   "outputs": [],
   "source": [
    "%matplotlib inline"
   ]
  },
  {
   "cell_type": "raw",
   "metadata": {},
   "source": [
    "# Only if multiple GPUs available\n",
    "import os\n",
    "os.environ['CUDA_VISIBLE_DEVICES'] = '3'"
   ]
  },
  {
   "cell_type": "code",
   "execution_count": 3,
   "metadata": {
    "tags": []
   },
   "outputs": [
    {
     "name": "stderr",
     "output_type": "stream",
     "text": [
      "2023-07-05 09:48:05.083798: I tensorflow/core/platform/cpu_feature_guard.cc:193] This TensorFlow binary is optimized with oneAPI Deep Neural Network Library (oneDNN) to use the following CPU instructions in performance-critical operations:  SSE4.1 SSE4.2 AVX AVX2 AVX512F AVX512_VNNI FMA\n",
      "To enable them in other operations, rebuild TensorFlow with the appropriate compiler flags.\n",
      "2023-07-05 09:48:05.161105: I tensorflow/core/util/port.cc:104] oneDNN custom operations are on. You may see slightly different numerical results due to floating-point round-off errors from different computation orders. To turn them off, set the environment variable `TF_ENABLE_ONEDNN_OPTS=0`.\n"
     ]
    }
   ],
   "source": [
    "from gahyparopt.widgets import *"
   ]
  },
  {
   "cell_type": "code",
   "execution_count": 4,
   "metadata": {
    "tags": [
     "hide_input"
    ]
   },
   "outputs": [
    {
     "data": {
      "application/vnd.jupyter.widget-view+json": {
       "model_id": "a9935b62b091479e85931296b0f0fc6f",
       "version_major": 2,
       "version_minor": 0
      },
      "text/plain": [
       "HBox(children=(VBox(children=(Button(description='Neues Spiel', style=ButtonStyle()), Button(description='Date…"
      ]
     },
     "metadata": {},
     "output_type": "display_data"
    }
   ],
   "source": [
    "gui = ga_spiel_widget\n",
    "display(gui)"
   ]
  },
  {
   "cell_type": "code",
   "execution_count": null,
   "metadata": {},
   "outputs": [],
   "source": []
  }
 ],
 "metadata": {
  "kernelspec": {
   "display_name": "Evolution and AI",
   "language": "python",
   "name": "evolai"
  },
  "language_info": {
   "codemirror_mode": {
    "name": "ipython",
    "version": 3
   },
   "file_extension": ".py",
   "mimetype": "text/x-python",
   "name": "python",
   "nbconvert_exporter": "python",
   "pygments_lexer": "ipython3",
   "version": "3.9.16"
  },
  "widgets": {
   "application/vnd.jupyter.widget-state+json": {
    "state": {
     "017c89d9b5f64a52b9bea4ab477ce601": {
      "model_module": "@jupyter-widgets/base",
      "model_module_version": "2.0.0",
      "model_name": "LayoutModel",
      "state": {}
     },
     "03d9f4dd06d44193a1716da14221e0f0": {
      "model_module": "@jupyter-widgets/base",
      "model_module_version": "2.0.0",
      "model_name": "LayoutModel",
      "state": {}
     },
     "1535ada116d343879ccef67ecaaae8c5": {
      "model_module": "@jupyter-widgets/controls",
      "model_module_version": "2.0.0",
      "model_name": "ButtonStyleModel",
      "state": {
       "font_family": null,
       "font_size": null,
       "font_style": null,
       "font_variant": null,
       "font_weight": null,
       "text_color": null,
       "text_decoration": null
      }
     },
     "2452122f20474fb88bce4eb01b963612": {
      "model_module": "@jupyter-widgets/base",
      "model_module_version": "2.0.0",
      "model_name": "LayoutModel",
      "state": {
       "border_bottom": "1px solid black",
       "border_left": "1px solid black",
       "border_right": "1px solid black",
       "border_top": "1px solid black"
      }
     },
     "285b2e686cfc4cad90218eb7e3ae3e1a": {
      "model_module": "@jupyter-widgets/base",
      "model_module_version": "2.0.0",
      "model_name": "LayoutModel",
      "state": {}
     },
     "3293dc1f2af048ad92b9ecf25ea82af7": {
      "model_module": "@jupyter-widgets/output",
      "model_module_version": "1.0.0",
      "model_name": "OutputModel",
      "state": {
       "layout": "IPY_MODEL_974470d10d3c4e148003f0181c1ffd57",
       "outputs": [
        {
         "name": "stdout",
         "output_type": "stream",
         "text": "\n 20230705T09:57:01 - Übermitteln\nEvaluation für Carsten übermittelt.\n\n"
        }
       ]
      }
     },
     "3410d3ec49fa460986c085b3698fe07f": {
      "model_module": "@jupyter-widgets/base",
      "model_module_version": "2.0.0",
      "model_name": "LayoutModel",
      "state": {}
     },
     "3472ba151892419280d57d73e5e10808": {
      "model_module": "@jupyter-widgets/controls",
      "model_module_version": "2.0.0",
      "model_name": "ButtonModel",
      "state": {
       "description": "Daten laden",
       "disabled": true,
       "layout": "IPY_MODEL_c8cd06ede88948b0acf62c9861b322ee",
       "style": "IPY_MODEL_96d8fda4746149c59182a60005524e85",
       "tooltip": null
      }
     },
     "36f8713a850f4f34bbc20af50eb51ca1": {
      "model_module": "@jupyter-widgets/base",
      "model_module_version": "2.0.0",
      "model_name": "LayoutModel",
      "state": {}
     },
     "3987fa9ba94544249a7af9da7e9050d9": {
      "model_module": "@jupyter-widgets/controls",
      "model_module_version": "2.0.0",
      "model_name": "ButtonStyleModel",
      "state": {
       "font_family": null,
       "font_size": null,
       "font_style": null,
       "font_variant": null,
       "font_weight": null,
       "text_color": null,
       "text_decoration": null
      }
     },
     "3bc6e61bf901490d903dffa9345fb70a": {
      "model_module": "@jupyter-widgets/base",
      "model_module_version": "2.0.0",
      "model_name": "LayoutModel",
      "state": {}
     },
     "3c2fd0fdf65b4ecc89481050ef6a7786": {
      "model_module": "@jupyter-widgets/controls",
      "model_module_version": "2.0.0",
      "model_name": "TextModel",
      "state": {
       "description": "Name:",
       "layout": "IPY_MODEL_b111d401bf7a4d88a0d3c728daf01c89",
       "style": "IPY_MODEL_f4a1ab650184467ab8153a162c6ac940",
       "value": "Carsten"
      }
     },
     "47a49a9b92004231ba798d6112d3695d": {
      "model_module": "@jupyter-widgets/controls",
      "model_module_version": "2.0.0",
      "model_name": "ButtonModel",
      "state": {
       "description": "Neues Spiel",
       "layout": "IPY_MODEL_bfd73d31ebff407188a6626a2eef5ec5",
       "style": "IPY_MODEL_3987fa9ba94544249a7af9da7e9050d9",
       "tooltip": null
      }
     },
     "49ef0c11f7f949e1b102d2b3bc5164ad": {
      "model_module": "@jupyter-widgets/controls",
      "model_module_version": "2.0.0",
      "model_name": "ButtonModel",
      "state": {
       "description": "Gründe neuen Stamm",
       "disabled": true,
       "layout": "IPY_MODEL_3410d3ec49fa460986c085b3698fe07f",
       "style": "IPY_MODEL_e52f382383ff466590d42b31f983ec2d",
       "tooltip": null
      }
     },
     "4bf4583369524c58a7210b25c569afa9": {
      "model_module": "@jupyter-widgets/controls",
      "model_module_version": "2.0.0",
      "model_name": "ButtonModel",
      "state": {
       "description": "Übermitteln",
       "disabled": true,
       "layout": "IPY_MODEL_3bc6e61bf901490d903dffa9345fb70a",
       "style": "IPY_MODEL_1535ada116d343879ccef67ecaaae8c5",
       "tooltip": null
      }
     },
     "559e082a1cb146f4bc43e64c452ba772": {
      "model_module": "@jupyter-widgets/controls",
      "model_module_version": "2.0.0",
      "model_name": "HBoxModel",
      "state": {
       "children": [
        "IPY_MODEL_a6567ebc89cb449ba8694569fde34c68",
        "IPY_MODEL_4bf4583369524c58a7210b25c569afa9"
       ],
       "layout": "IPY_MODEL_36f8713a850f4f34bbc20af50eb51ca1"
      }
     },
     "57970ba279574e3fb7ce215d9b6f4678": {
      "model_module": "@jupyter-widgets/controls",
      "model_module_version": "2.0.0",
      "model_name": "ButtonStyleModel",
      "state": {
       "font_family": null,
       "font_size": null,
       "font_style": null,
       "font_variant": null,
       "font_weight": null,
       "text_color": null,
       "text_decoration": null
      }
     },
     "6bbaf097bbeb42a9b0e5a17b098ddcd5": {
      "model_module": "@jupyter-widgets/base",
      "model_module_version": "2.0.0",
      "model_name": "LayoutModel",
      "state": {}
     },
     "708144e001ca4edcab1e4fc1bd8e5057": {
      "model_module": "@jupyter-widgets/base",
      "model_module_version": "2.0.0",
      "model_name": "LayoutModel",
      "state": {}
     },
     "848c21936e19483b8d7ee8541d39458d": {
      "model_module": "@jupyter-widgets/controls",
      "model_module_version": "2.0.0",
      "model_name": "VBoxModel",
      "state": {
       "children": [
        "IPY_MODEL_47a49a9b92004231ba798d6112d3695d",
        "IPY_MODEL_3472ba151892419280d57d73e5e10808",
        "IPY_MODEL_dfd222a4cdb041dcb442c6edfea557a9",
        "IPY_MODEL_49ef0c11f7f949e1b102d2b3bc5164ad",
        "IPY_MODEL_e06622e594b74da59987fe34a1c7570c",
        "IPY_MODEL_fe12d4a4d1394da0b6ed61d94141d707",
        "IPY_MODEL_8cb71f2001074ce1967d451f4c36dfe6",
        "IPY_MODEL_559e082a1cb146f4bc43e64c452ba772",
        "IPY_MODEL_3293dc1f2af048ad92b9ecf25ea82af7"
       ],
       "layout": "IPY_MODEL_017c89d9b5f64a52b9bea4ab477ce601"
      }
     },
     "8cb71f2001074ce1967d451f4c36dfe6": {
      "model_module": "@jupyter-widgets/controls",
      "model_module_version": "2.0.0",
      "model_name": "ButtonModel",
      "state": {
       "description": "Individuum evaluieren",
       "disabled": true,
       "layout": "IPY_MODEL_285b2e686cfc4cad90218eb7e3ae3e1a",
       "style": "IPY_MODEL_ca886897d3d041e0b7bf91148594712b",
       "tooltip": null
      }
     },
     "96d8fda4746149c59182a60005524e85": {
      "model_module": "@jupyter-widgets/controls",
      "model_module_version": "2.0.0",
      "model_name": "ButtonStyleModel",
      "state": {
       "font_family": null,
       "font_size": null,
       "font_style": null,
       "font_variant": null,
       "font_weight": null,
       "text_color": null,
       "text_decoration": null
      }
     },
     "974470d10d3c4e148003f0181c1ffd57": {
      "model_module": "@jupyter-widgets/base",
      "model_module_version": "2.0.0",
      "model_name": "LayoutModel",
      "state": {
       "border_bottom": "1px solid black",
       "border_left": "1px solid black",
       "border_right": "1px solid black",
       "border_top": "1px solid black",
       "width": "80%"
      }
     },
     "9b01a1a38b0f46349cf798bb8da76e25": {
      "model_module": "@jupyter-widgets/base",
      "model_module_version": "2.0.0",
      "model_name": "LayoutModel",
      "state": {}
     },
     "a6567ebc89cb449ba8694569fde34c68": {
      "model_module": "@jupyter-widgets/controls",
      "model_module_version": "2.0.0",
      "model_name": "FloatTextModel",
      "state": {
       "description": "Evaluation",
       "disabled": true,
       "layout": "IPY_MODEL_9b01a1a38b0f46349cf798bb8da76e25",
       "step": null,
       "style": "IPY_MODEL_d734dcb8235145c483b502164c827a01"
      }
     },
     "a9935b62b091479e85931296b0f0fc6f": {
      "model_module": "@jupyter-widgets/controls",
      "model_module_version": "2.0.0",
      "model_name": "HBoxModel",
      "state": {
       "children": [
        "IPY_MODEL_848c21936e19483b8d7ee8541d39458d",
        "IPY_MODEL_d59aeb9cb2ab489c959e894653e66bdb"
       ],
       "layout": "IPY_MODEL_dd155e9e0c324f2c9124d21ce25d718a"
      }
     },
     "b111d401bf7a4d88a0d3c728daf01c89": {
      "model_module": "@jupyter-widgets/base",
      "model_module_version": "2.0.0",
      "model_name": "LayoutModel",
      "state": {}
     },
     "bfd73d31ebff407188a6626a2eef5ec5": {
      "model_module": "@jupyter-widgets/base",
      "model_module_version": "2.0.0",
      "model_name": "LayoutModel",
      "state": {}
     },
     "c1301199406e4ec9a6edbcf40903b0fe": {
      "model_module": "@jupyter-widgets/controls",
      "model_module_version": "2.0.0",
      "model_name": "ButtonStyleModel",
      "state": {
       "font_family": null,
       "font_size": null,
       "font_style": null,
       "font_variant": null,
       "font_weight": null,
       "text_color": null,
       "text_decoration": null
      }
     },
     "c8cd06ede88948b0acf62c9861b322ee": {
      "model_module": "@jupyter-widgets/base",
      "model_module_version": "2.0.0",
      "model_name": "LayoutModel",
      "state": {}
     },
     "ca886897d3d041e0b7bf91148594712b": {
      "model_module": "@jupyter-widgets/controls",
      "model_module_version": "2.0.0",
      "model_name": "ButtonStyleModel",
      "state": {
       "font_family": null,
       "font_size": null,
       "font_style": null,
       "font_variant": null,
       "font_weight": null,
       "text_color": null,
       "text_decoration": null
      }
     },
     "d59aeb9cb2ab489c959e894653e66bdb": {
      "model_module": "@jupyter-widgets/output",
      "model_module_version": "1.0.0",
      "model_name": "OutputModel",
      "state": {
       "layout": "IPY_MODEL_2452122f20474fb88bce4eb01b963612",
       "outputs": [
        {
         "data": {
          "image/png": "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",
          "text/plain": "<IPython.core.display.Image object>"
         },
         "metadata": {},
         "output_type": "display_data"
        },
        {
         "name": "stdout",
         "output_type": "stream",
         "text": "Number of epochs: 4\nSteps per epoch: 5\n"
        }
       ]
      }
     },
     "d734dcb8235145c483b502164c827a01": {
      "model_module": "@jupyter-widgets/controls",
      "model_module_version": "2.0.0",
      "model_name": "DescriptionStyleModel",
      "state": {
       "description_width": ""
      }
     },
     "dd155e9e0c324f2c9124d21ce25d718a": {
      "model_module": "@jupyter-widgets/base",
      "model_module_version": "2.0.0",
      "model_name": "LayoutModel",
      "state": {}
     },
     "dfd222a4cdb041dcb442c6edfea557a9": {
      "model_module": "@jupyter-widgets/controls",
      "model_module_version": "2.0.0",
      "model_name": "HBoxModel",
      "state": {
       "children": [
        "IPY_MODEL_3c2fd0fdf65b4ecc89481050ef6a7786",
        "IPY_MODEL_f000ba8edcd646e998ea597cb369512d"
       ],
       "layout": "IPY_MODEL_f9a63b298c23431f92c0fc72fdea2bd6"
      }
     },
     "e06622e594b74da59987fe34a1c7570c": {
      "model_module": "@jupyter-widgets/controls",
      "model_module_version": "2.0.0",
      "model_name": "ButtonModel",
      "state": {
       "description": "Neue Generation laden",
       "layout": "IPY_MODEL_03d9f4dd06d44193a1716da14221e0f0",
       "style": "IPY_MODEL_ee99de7636614de697634f10a598f572",
       "tooltip": null
      }
     },
     "e52f382383ff466590d42b31f983ec2d": {
      "model_module": "@jupyter-widgets/controls",
      "model_module_version": "2.0.0",
      "model_name": "ButtonStyleModel",
      "state": {
       "font_family": null,
       "font_size": null,
       "font_style": null,
       "font_variant": null,
       "font_weight": null,
       "text_color": null,
       "text_decoration": null
      }
     },
     "ee99de7636614de697634f10a598f572": {
      "model_module": "@jupyter-widgets/controls",
      "model_module_version": "2.0.0",
      "model_name": "ButtonStyleModel",
      "state": {
       "font_family": null,
       "font_size": null,
       "font_style": null,
       "font_variant": null,
       "font_weight": null,
       "text_color": null,
       "text_decoration": null
      }
     },
     "f000ba8edcd646e998ea597cb369512d": {
      "model_module": "@jupyter-widgets/controls",
      "model_module_version": "2.0.0",
      "model_name": "ButtonModel",
      "state": {
       "description": "Registrieren",
       "layout": "IPY_MODEL_708144e001ca4edcab1e4fc1bd8e5057",
       "style": "IPY_MODEL_57970ba279574e3fb7ce215d9b6f4678",
       "tooltip": null
      }
     },
     "f4a1ab650184467ab8153a162c6ac940": {
      "model_module": "@jupyter-widgets/controls",
      "model_module_version": "2.0.0",
      "model_name": "TextStyleModel",
      "state": {
       "description_width": "",
       "font_size": null,
       "text_color": null
      }
     },
     "f9a63b298c23431f92c0fc72fdea2bd6": {
      "model_module": "@jupyter-widgets/base",
      "model_module_version": "2.0.0",
      "model_name": "LayoutModel",
      "state": {}
     },
     "fe12d4a4d1394da0b6ed61d94141d707": {
      "model_module": "@jupyter-widgets/controls",
      "model_module_version": "2.0.0",
      "model_name": "ButtonModel",
      "state": {
       "description": "Individuum entwickeln",
       "disabled": true,
       "layout": "IPY_MODEL_6bbaf097bbeb42a9b0e5a17b098ddcd5",
       "style": "IPY_MODEL_c1301199406e4ec9a6edbcf40903b0fe",
       "tooltip": null
      }
     }
    },
    "version_major": 2,
    "version_minor": 0
   }
  }
 },
 "nbformat": 4,
 "nbformat_minor": 4
}
