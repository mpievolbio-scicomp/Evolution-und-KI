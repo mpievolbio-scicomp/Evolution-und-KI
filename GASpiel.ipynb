{
 "cells": [
  {
   "cell_type": "code",
   "execution_count": 1,
   "metadata": {
    "tags": [
     "hide_input"
    ]
   },
   "outputs": [],
   "source": [
    "%matplotlib inline"
   ]
  },
  {
   "cell_type": "code",
   "execution_count": 5,
   "metadata": {
    "collapsed": true,
    "jupyter": {
     "outputs_hidden": true
    },
    "tags": []
   },
   "outputs": [
    {
     "name": "stdout",
     "output_type": "stream",
     "text": [
      "Collecting git+https://github.com/mpievolbio-scicomp/gahyparopt\n",
      "  Cloning https://github.com/mpievolbio-scicomp/gahyparopt to /tmp/pip-req-build-bzek44g6\n",
      "  Running command git clone -q https://github.com/mpievolbio-scicomp/gahyparopt /tmp/pip-req-build-bzek44g6\n",
      "  Resolved https://github.com/mpievolbio-scicomp/gahyparopt to commit ac3deae4d4949445494cac72d278acd8a2cdbb3d\n",
      "Requirement already satisfied: pandas in /opt/anaconda3/envs/gahyparopt/lib/python3.8/site-packages (from gahyparopt==0.0.1) (1.4.1)\n",
      "Requirement already satisfied: ipywidgets in /opt/anaconda3/envs/gahyparopt/lib/python3.8/site-packages (from gahyparopt==0.0.1) (7.6.5)\n",
      "Requirement already satisfied: numpy in /opt/anaconda3/envs/gahyparopt/lib/python3.8/site-packages (from gahyparopt==0.0.1) (1.21.2)\n",
      "Requirement already satisfied: tensorflow==2.2 in /opt/anaconda3/envs/gahyparopt/lib/python3.8/site-packages (from gahyparopt==0.0.1) (2.2.0)\n",
      "Requirement already satisfied: keras in /opt/anaconda3/envs/gahyparopt/lib/python3.8/site-packages (from gahyparopt==0.0.1) (2.4.3)\n",
      "Requirement already satisfied: matplotlib in /opt/anaconda3/envs/gahyparopt/lib/python3.8/site-packages (from gahyparopt==0.0.1) (3.5.0)\n",
      "Requirement already satisfied: absl-py>=0.7.0 in /opt/anaconda3/envs/gahyparopt/lib/python3.8/site-packages (from tensorflow==2.2->gahyparopt==0.0.1) (0.15.0)\n",
      "Requirement already satisfied: h5py<2.11.0,>=2.10.0 in /opt/anaconda3/envs/gahyparopt/lib/python3.8/site-packages (from tensorflow==2.2->gahyparopt==0.0.1) (2.10.0)\n",
      "Requirement already satisfied: tensorflow-estimator<2.3.0,>=2.2.0 in /opt/anaconda3/envs/gahyparopt/lib/python3.8/site-packages (from tensorflow==2.2->gahyparopt==0.0.1) (2.2.0)\n",
      "Requirement already satisfied: wrapt>=1.11.1 in /opt/anaconda3/envs/gahyparopt/lib/python3.8/site-packages (from tensorflow==2.2->gahyparopt==0.0.1) (1.13.3)\n",
      "Requirement already satisfied: opt-einsum>=2.3.2 in /opt/anaconda3/envs/gahyparopt/lib/python3.8/site-packages (from tensorflow==2.2->gahyparopt==0.0.1) (3.3.0)\n",
      "Requirement already satisfied: tensorboard<2.3.0,>=2.2.0 in /opt/anaconda3/envs/gahyparopt/lib/python3.8/site-packages (from tensorflow==2.2->gahyparopt==0.0.1) (2.2.2)\n",
      "Requirement already satisfied: grpcio>=1.8.6 in /opt/anaconda3/envs/gahyparopt/lib/python3.8/site-packages (from tensorflow==2.2->gahyparopt==0.0.1) (1.42.0)\n",
      "Requirement already satisfied: google-pasta>=0.1.8 in /opt/anaconda3/envs/gahyparopt/lib/python3.8/site-packages (from tensorflow==2.2->gahyparopt==0.0.1) (0.2.0)\n",
      "Requirement already satisfied: scipy==1.4.1 in /opt/anaconda3/envs/gahyparopt/lib/python3.8/site-packages (from tensorflow==2.2->gahyparopt==0.0.1) (1.4.1)\n",
      "Requirement already satisfied: keras-preprocessing>=1.1.0 in /opt/anaconda3/envs/gahyparopt/lib/python3.8/site-packages (from tensorflow==2.2->gahyparopt==0.0.1) (1.1.2)\n",
      "Requirement already satisfied: protobuf>=3.8.0 in /opt/anaconda3/envs/gahyparopt/lib/python3.8/site-packages (from tensorflow==2.2->gahyparopt==0.0.1) (3.19.1)\n",
      "Requirement already satisfied: wheel>=0.26 in /opt/anaconda3/envs/gahyparopt/lib/python3.8/site-packages (from tensorflow==2.2->gahyparopt==0.0.1) (0.37.1)\n",
      "Requirement already satisfied: gast==0.3.3 in /opt/anaconda3/envs/gahyparopt/lib/python3.8/site-packages (from tensorflow==2.2->gahyparopt==0.0.1) (0.3.3)\n",
      "Requirement already satisfied: six>=1.12.0 in /opt/anaconda3/envs/gahyparopt/lib/python3.8/site-packages (from tensorflow==2.2->gahyparopt==0.0.1) (1.16.0)\n",
      "Requirement already satisfied: termcolor>=1.1.0 in /opt/anaconda3/envs/gahyparopt/lib/python3.8/site-packages (from tensorflow==2.2->gahyparopt==0.0.1) (1.1.0)\n",
      "Requirement already satisfied: astunparse==1.6.3 in /opt/anaconda3/envs/gahyparopt/lib/python3.8/site-packages (from tensorflow==2.2->gahyparopt==0.0.1) (1.6.3)\n",
      "Requirement already satisfied: requests<3,>=2.21.0 in /opt/anaconda3/envs/gahyparopt/lib/python3.8/site-packages (from tensorboard<2.3.0,>=2.2.0->tensorflow==2.2->gahyparopt==0.0.1) (2.27.1)\n",
      "Requirement already satisfied: google-auth-oauthlib<0.5,>=0.4.1 in /opt/anaconda3/envs/gahyparopt/lib/python3.8/site-packages (from tensorboard<2.3.0,>=2.2.0->tensorflow==2.2->gahyparopt==0.0.1) (0.4.4)\n",
      "Requirement already satisfied: tensorboard-plugin-wit>=1.6.0 in /opt/anaconda3/envs/gahyparopt/lib/python3.8/site-packages (from tensorboard<2.3.0,>=2.2.0->tensorflow==2.2->gahyparopt==0.0.1) (1.6.0)\n",
      "Requirement already satisfied: setuptools>=41.0.0 in /opt/anaconda3/envs/gahyparopt/lib/python3.8/site-packages (from tensorboard<2.3.0,>=2.2.0->tensorflow==2.2->gahyparopt==0.0.1) (58.0.4)\n",
      "Requirement already satisfied: markdown>=2.6.8 in /opt/anaconda3/envs/gahyparopt/lib/python3.8/site-packages (from tensorboard<2.3.0,>=2.2.0->tensorflow==2.2->gahyparopt==0.0.1) (3.3.4)\n",
      "Requirement already satisfied: google-auth<2,>=1.6.3 in /opt/anaconda3/envs/gahyparopt/lib/python3.8/site-packages (from tensorboard<2.3.0,>=2.2.0->tensorflow==2.2->gahyparopt==0.0.1) (1.33.0)\n",
      "Requirement already satisfied: werkzeug>=0.11.15 in /opt/anaconda3/envs/gahyparopt/lib/python3.8/site-packages (from tensorboard<2.3.0,>=2.2.0->tensorflow==2.2->gahyparopt==0.0.1) (2.0.2)\n",
      "Requirement already satisfied: rsa<5,>=3.1.4 in /opt/anaconda3/envs/gahyparopt/lib/python3.8/site-packages (from google-auth<2,>=1.6.3->tensorboard<2.3.0,>=2.2.0->tensorflow==2.2->gahyparopt==0.0.1) (4.7.2)\n",
      "Requirement already satisfied: pyasn1-modules>=0.2.1 in /opt/anaconda3/envs/gahyparopt/lib/python3.8/site-packages (from google-auth<2,>=1.6.3->tensorboard<2.3.0,>=2.2.0->tensorflow==2.2->gahyparopt==0.0.1) (0.2.8)\n",
      "Requirement already satisfied: cachetools<5.0,>=2.0.0 in /opt/anaconda3/envs/gahyparopt/lib/python3.8/site-packages (from google-auth<2,>=1.6.3->tensorboard<2.3.0,>=2.2.0->tensorflow==2.2->gahyparopt==0.0.1) (4.2.2)\n",
      "Requirement already satisfied: requests-oauthlib>=0.7.0 in /opt/anaconda3/envs/gahyparopt/lib/python3.8/site-packages (from google-auth-oauthlib<0.5,>=0.4.1->tensorboard<2.3.0,>=2.2.0->tensorflow==2.2->gahyparopt==0.0.1) (1.3.0)\n",
      "Requirement already satisfied: pyasn1<0.5.0,>=0.4.6 in /opt/anaconda3/envs/gahyparopt/lib/python3.8/site-packages (from pyasn1-modules>=0.2.1->google-auth<2,>=1.6.3->tensorboard<2.3.0,>=2.2.0->tensorflow==2.2->gahyparopt==0.0.1) (0.4.8)\n",
      "Requirement already satisfied: charset-normalizer~=2.0.0 in /opt/anaconda3/envs/gahyparopt/lib/python3.8/site-packages (from requests<3,>=2.21.0->tensorboard<2.3.0,>=2.2.0->tensorflow==2.2->gahyparopt==0.0.1) (2.0.4)\n",
      "Requirement already satisfied: certifi>=2017.4.17 in /opt/anaconda3/envs/gahyparopt/lib/python3.8/site-packages (from requests<3,>=2.21.0->tensorboard<2.3.0,>=2.2.0->tensorflow==2.2->gahyparopt==0.0.1) (2021.10.8)\n",
      "Requirement already satisfied: urllib3<1.27,>=1.21.1 in /opt/anaconda3/envs/gahyparopt/lib/python3.8/site-packages (from requests<3,>=2.21.0->tensorboard<2.3.0,>=2.2.0->tensorflow==2.2->gahyparopt==0.0.1) (1.26.8)\n",
      "Requirement already satisfied: idna<4,>=2.5 in /opt/anaconda3/envs/gahyparopt/lib/python3.8/site-packages (from requests<3,>=2.21.0->tensorboard<2.3.0,>=2.2.0->tensorflow==2.2->gahyparopt==0.0.1) (3.3)\n",
      "Requirement already satisfied: oauthlib>=3.0.0 in /opt/anaconda3/envs/gahyparopt/lib/python3.8/site-packages (from requests-oauthlib>=0.7.0->google-auth-oauthlib<0.5,>=0.4.1->tensorboard<2.3.0,>=2.2.0->tensorflow==2.2->gahyparopt==0.0.1) (3.2.0)\n",
      "Requirement already satisfied: jupyterlab-widgets>=1.0.0 in /opt/anaconda3/envs/gahyparopt/lib/python3.8/site-packages (from ipywidgets->gahyparopt==0.0.1) (1.0.0)\n",
      "Requirement already satisfied: ipython>=4.0.0 in /opt/anaconda3/envs/gahyparopt/lib/python3.8/site-packages (from ipywidgets->gahyparopt==0.0.1) (7.31.1)\n",
      "Requirement already satisfied: widgetsnbextension~=3.5.0 in /opt/anaconda3/envs/gahyparopt/lib/python3.8/site-packages (from ipywidgets->gahyparopt==0.0.1) (3.5.2)\n",
      "Requirement already satisfied: ipykernel>=4.5.1 in /opt/anaconda3/envs/gahyparopt/lib/python3.8/site-packages (from ipywidgets->gahyparopt==0.0.1) (6.4.1)\n",
      "Requirement already satisfied: traitlets>=4.3.1 in /opt/anaconda3/envs/gahyparopt/lib/python3.8/site-packages (from ipywidgets->gahyparopt==0.0.1) (5.1.1)\n",
      "Requirement already satisfied: ipython-genutils~=0.2.0 in /opt/anaconda3/envs/gahyparopt/lib/python3.8/site-packages (from ipywidgets->gahyparopt==0.0.1) (0.2.0)\n",
      "Requirement already satisfied: nbformat>=4.2.0 in /opt/anaconda3/envs/gahyparopt/lib/python3.8/site-packages (from ipywidgets->gahyparopt==0.0.1) (5.1.3)\n",
      "Requirement already satisfied: debugpy<2.0,>=1.0.0 in /opt/anaconda3/envs/gahyparopt/lib/python3.8/site-packages (from ipykernel>=4.5.1->ipywidgets->gahyparopt==0.0.1) (1.5.1)\n",
      "Requirement already satisfied: jupyter-client<8.0 in /opt/anaconda3/envs/gahyparopt/lib/python3.8/site-packages (from ipykernel>=4.5.1->ipywidgets->gahyparopt==0.0.1) (7.1.2)\n",
      "Requirement already satisfied: matplotlib-inline<0.2.0,>=0.1.0 in /opt/anaconda3/envs/gahyparopt/lib/python3.8/site-packages (from ipykernel>=4.5.1->ipywidgets->gahyparopt==0.0.1) (0.1.2)\n",
      "Requirement already satisfied: tornado<7.0,>=4.2 in /opt/anaconda3/envs/gahyparopt/lib/python3.8/site-packages (from ipykernel>=4.5.1->ipywidgets->gahyparopt==0.0.1) (6.1)\n",
      "Requirement already satisfied: decorator in /opt/anaconda3/envs/gahyparopt/lib/python3.8/site-packages (from ipython>=4.0.0->ipywidgets->gahyparopt==0.0.1) (5.1.1)\n",
      "Requirement already satisfied: backcall in /opt/anaconda3/envs/gahyparopt/lib/python3.8/site-packages (from ipython>=4.0.0->ipywidgets->gahyparopt==0.0.1) (0.2.0)\n",
      "Requirement already satisfied: prompt-toolkit!=3.0.0,!=3.0.1,<3.1.0,>=2.0.0 in /opt/anaconda3/envs/gahyparopt/lib/python3.8/site-packages (from ipython>=4.0.0->ipywidgets->gahyparopt==0.0.1) (3.0.20)\n",
      "Requirement already satisfied: jedi>=0.16 in /opt/anaconda3/envs/gahyparopt/lib/python3.8/site-packages (from ipython>=4.0.0->ipywidgets->gahyparopt==0.0.1) (0.18.1)\n",
      "Requirement already satisfied: pexpect>4.3 in /opt/anaconda3/envs/gahyparopt/lib/python3.8/site-packages (from ipython>=4.0.0->ipywidgets->gahyparopt==0.0.1) (4.8.0)\n",
      "Requirement already satisfied: pickleshare in /opt/anaconda3/envs/gahyparopt/lib/python3.8/site-packages (from ipython>=4.0.0->ipywidgets->gahyparopt==0.0.1) (0.7.5)\n",
      "Requirement already satisfied: pygments in /opt/anaconda3/envs/gahyparopt/lib/python3.8/site-packages (from ipython>=4.0.0->ipywidgets->gahyparopt==0.0.1) (2.11.2)\n",
      "Requirement already satisfied: parso<0.9.0,>=0.8.0 in /opt/anaconda3/envs/gahyparopt/lib/python3.8/site-packages (from jedi>=0.16->ipython>=4.0.0->ipywidgets->gahyparopt==0.0.1) (0.8.3)\n",
      "Requirement already satisfied: entrypoints in /opt/anaconda3/envs/gahyparopt/lib/python3.8/site-packages (from jupyter-client<8.0->ipykernel>=4.5.1->ipywidgets->gahyparopt==0.0.1) (0.3)\n",
      "Requirement already satisfied: nest-asyncio>=1.5 in /opt/anaconda3/envs/gahyparopt/lib/python3.8/site-packages (from jupyter-client<8.0->ipykernel>=4.5.1->ipywidgets->gahyparopt==0.0.1) (1.5.1)\n",
      "Requirement already satisfied: pyzmq>=13 in /opt/anaconda3/envs/gahyparopt/lib/python3.8/site-packages (from jupyter-client<8.0->ipykernel>=4.5.1->ipywidgets->gahyparopt==0.0.1) (22.3.0)\n",
      "Requirement already satisfied: jupyter-core>=4.6.0 in /opt/anaconda3/envs/gahyparopt/lib/python3.8/site-packages (from jupyter-client<8.0->ipykernel>=4.5.1->ipywidgets->gahyparopt==0.0.1) (4.9.1)\n",
      "Requirement already satisfied: python-dateutil>=2.1 in /opt/anaconda3/envs/gahyparopt/lib/python3.8/site-packages (from jupyter-client<8.0->ipykernel>=4.5.1->ipywidgets->gahyparopt==0.0.1) (2.8.2)\n",
      "Requirement already satisfied: jsonschema!=2.5.0,>=2.4 in /opt/anaconda3/envs/gahyparopt/lib/python3.8/site-packages (from nbformat>=4.2.0->ipywidgets->gahyparopt==0.0.1) (3.2.0)\n",
      "Requirement already satisfied: pyrsistent>=0.14.0 in /opt/anaconda3/envs/gahyparopt/lib/python3.8/site-packages (from jsonschema!=2.5.0,>=2.4->nbformat>=4.2.0->ipywidgets->gahyparopt==0.0.1) (0.18.0)\n",
      "Requirement already satisfied: attrs>=17.4.0 in /opt/anaconda3/envs/gahyparopt/lib/python3.8/site-packages (from jsonschema!=2.5.0,>=2.4->nbformat>=4.2.0->ipywidgets->gahyparopt==0.0.1) (21.4.0)\n",
      "Requirement already satisfied: ptyprocess>=0.5 in /opt/anaconda3/envs/gahyparopt/lib/python3.8/site-packages (from pexpect>4.3->ipython>=4.0.0->ipywidgets->gahyparopt==0.0.1) (0.7.0)\n",
      "Requirement already satisfied: wcwidth in /opt/anaconda3/envs/gahyparopt/lib/python3.8/site-packages (from prompt-toolkit!=3.0.0,!=3.0.1,<3.1.0,>=2.0.0->ipython>=4.0.0->ipywidgets->gahyparopt==0.0.1) (0.2.5)\n",
      "Requirement already satisfied: notebook>=4.4.1 in /opt/anaconda3/envs/gahyparopt/lib/python3.8/site-packages (from widgetsnbextension~=3.5.0->ipywidgets->gahyparopt==0.0.1) (6.4.8)\n",
      "Requirement already satisfied: nbconvert in /opt/anaconda3/envs/gahyparopt/lib/python3.8/site-packages (from notebook>=4.4.1->widgetsnbextension~=3.5.0->ipywidgets->gahyparopt==0.0.1) (6.3.0)\n",
      "Requirement already satisfied: terminado>=0.8.3 in /opt/anaconda3/envs/gahyparopt/lib/python3.8/site-packages (from notebook>=4.4.1->widgetsnbextension~=3.5.0->ipywidgets->gahyparopt==0.0.1) (0.13.1)\n",
      "Requirement already satisfied: prometheus-client in /opt/anaconda3/envs/gahyparopt/lib/python3.8/site-packages (from notebook>=4.4.1->widgetsnbextension~=3.5.0->ipywidgets->gahyparopt==0.0.1) (0.13.1)\n",
      "Requirement already satisfied: Send2Trash>=1.8.0 in /opt/anaconda3/envs/gahyparopt/lib/python3.8/site-packages (from notebook>=4.4.1->widgetsnbextension~=3.5.0->ipywidgets->gahyparopt==0.0.1) (1.8.0)\n",
      "Requirement already satisfied: argon2-cffi in /opt/anaconda3/envs/gahyparopt/lib/python3.8/site-packages (from notebook>=4.4.1->widgetsnbextension~=3.5.0->ipywidgets->gahyparopt==0.0.1) (21.3.0)\n",
      "Requirement already satisfied: jinja2 in /opt/anaconda3/envs/gahyparopt/lib/python3.8/site-packages (from notebook>=4.4.1->widgetsnbextension~=3.5.0->ipywidgets->gahyparopt==0.0.1) (3.0.2)\n",
      "Requirement already satisfied: argon2-cffi-bindings in /opt/anaconda3/envs/gahyparopt/lib/python3.8/site-packages (from argon2-cffi->notebook>=4.4.1->widgetsnbextension~=3.5.0->ipywidgets->gahyparopt==0.0.1) (21.2.0)\n",
      "Requirement already satisfied: cffi>=1.0.1 in /opt/anaconda3/envs/gahyparopt/lib/python3.8/site-packages (from argon2-cffi-bindings->argon2-cffi->notebook>=4.4.1->widgetsnbextension~=3.5.0->ipywidgets->gahyparopt==0.0.1) (1.15.0)\n",
      "Requirement already satisfied: pycparser in /opt/anaconda3/envs/gahyparopt/lib/python3.8/site-packages (from cffi>=1.0.1->argon2-cffi-bindings->argon2-cffi->notebook>=4.4.1->widgetsnbextension~=3.5.0->ipywidgets->gahyparopt==0.0.1) (2.21)\n",
      "Requirement already satisfied: MarkupSafe>=2.0 in /opt/anaconda3/envs/gahyparopt/lib/python3.8/site-packages (from jinja2->notebook>=4.4.1->widgetsnbextension~=3.5.0->ipywidgets->gahyparopt==0.0.1) (2.0.1)\n",
      "Requirement already satisfied: pyyaml in /opt/anaconda3/envs/gahyparopt/lib/python3.8/site-packages (from keras->gahyparopt==0.0.1) (6.0)\n",
      "Requirement already satisfied: pyparsing>=2.2.1 in /opt/anaconda3/envs/gahyparopt/lib/python3.8/site-packages (from matplotlib->gahyparopt==0.0.1) (3.0.4)\n",
      "Requirement already satisfied: cycler>=0.10 in /opt/anaconda3/envs/gahyparopt/lib/python3.8/site-packages (from matplotlib->gahyparopt==0.0.1) (0.11.0)\n",
      "Requirement already satisfied: pillow>=6.2.0 in /opt/anaconda3/envs/gahyparopt/lib/python3.8/site-packages (from matplotlib->gahyparopt==0.0.1) (8.4.0)\n",
      "Requirement already satisfied: packaging>=20.0 in /opt/anaconda3/envs/gahyparopt/lib/python3.8/site-packages (from matplotlib->gahyparopt==0.0.1) (21.3)\n",
      "Requirement already satisfied: fonttools>=4.22.0 in /opt/anaconda3/envs/gahyparopt/lib/python3.8/site-packages (from matplotlib->gahyparopt==0.0.1) (4.25.0)\n",
      "Requirement already satisfied: kiwisolver>=1.0.1 in /opt/anaconda3/envs/gahyparopt/lib/python3.8/site-packages (from matplotlib->gahyparopt==0.0.1) (1.3.2)\n",
      "Requirement already satisfied: pandocfilters>=1.4.1 in /opt/anaconda3/envs/gahyparopt/lib/python3.8/site-packages (from nbconvert->notebook>=4.4.1->widgetsnbextension~=3.5.0->ipywidgets->gahyparopt==0.0.1) (1.5.0)\n",
      "Requirement already satisfied: mistune<2,>=0.8.1 in /opt/anaconda3/envs/gahyparopt/lib/python3.8/site-packages (from nbconvert->notebook>=4.4.1->widgetsnbextension~=3.5.0->ipywidgets->gahyparopt==0.0.1) (0.8.4)\n",
      "Requirement already satisfied: jupyterlab-pygments in /opt/anaconda3/envs/gahyparopt/lib/python3.8/site-packages (from nbconvert->notebook>=4.4.1->widgetsnbextension~=3.5.0->ipywidgets->gahyparopt==0.0.1) (0.1.2)\n",
      "Requirement already satisfied: defusedxml in /opt/anaconda3/envs/gahyparopt/lib/python3.8/site-packages (from nbconvert->notebook>=4.4.1->widgetsnbextension~=3.5.0->ipywidgets->gahyparopt==0.0.1) (0.7.1)\n",
      "Requirement already satisfied: nbclient<0.6.0,>=0.5.0 in /opt/anaconda3/envs/gahyparopt/lib/python3.8/site-packages (from nbconvert->notebook>=4.4.1->widgetsnbextension~=3.5.0->ipywidgets->gahyparopt==0.0.1) (0.5.3)\n",
      "Requirement already satisfied: bleach in /opt/anaconda3/envs/gahyparopt/lib/python3.8/site-packages (from nbconvert->notebook>=4.4.1->widgetsnbextension~=3.5.0->ipywidgets->gahyparopt==0.0.1) (4.1.0)\n",
      "Requirement already satisfied: testpath in /opt/anaconda3/envs/gahyparopt/lib/python3.8/site-packages (from nbconvert->notebook>=4.4.1->widgetsnbextension~=3.5.0->ipywidgets->gahyparopt==0.0.1) (0.5.0)\n",
      "Requirement already satisfied: async-generator in /opt/anaconda3/envs/gahyparopt/lib/python3.8/site-packages (from nbclient<0.6.0,>=0.5.0->nbconvert->notebook>=4.4.1->widgetsnbextension~=3.5.0->ipywidgets->gahyparopt==0.0.1) (1.10)\n",
      "Requirement already satisfied: webencodings in /opt/anaconda3/envs/gahyparopt/lib/python3.8/site-packages (from bleach->nbconvert->notebook>=4.4.1->widgetsnbextension~=3.5.0->ipywidgets->gahyparopt==0.0.1) (0.5.1)\n",
      "Requirement already satisfied: pytz>=2020.1 in /opt/anaconda3/envs/gahyparopt/lib/python3.8/site-packages (from pandas->gahyparopt==0.0.1) (2021.3)\n",
      "Note: you may need to restart the kernel to use updated packages.\n"
     ]
    }
   ],
   "source": [
    "pip install --upgrade git+https://github.com/mpievolbio-scicomp/gahyparopt"
   ]
  },
  {
   "cell_type": "code",
   "execution_count": 7,
   "metadata": {},
   "outputs": [],
   "source": [
    "from gahyparopt.widgets import *"
   ]
  },
  {
   "cell_type": "code",
   "execution_count": 8,
   "metadata": {
    "tags": [
     "hide_input"
    ]
   },
   "outputs": [
    {
     "data": {
      "application/vnd.jupyter.widget-view+json": {
       "model_id": "dd89a45787bd4e358d9b09e589a487a5",
       "version_major": 2,
       "version_minor": 0
      },
      "text/plain": [
       "VBox(children=(Button(description='Neues Spiel', style=ButtonStyle()), Button(description='Daten laden', style…"
      ]
     },
     "metadata": {},
     "output_type": "display_data"
    }
   ],
   "source": [
    "children=list(widget_dict.values())\n",
    "if not any([c is None for c in children]):\n",
    "    gui = widgets.VBox(children=children)\n",
    "    \n",
    "    display(gui)\n",
    "else:\n",
    "    print(\"Check widgets\")\n",
    "    print(children)"
   ]
  }
 ],
 "metadata": {
  "kernelspec": {
   "display_name": "GA",
   "language": "python",
   "name": "ga"
  },
  "language_info": {
   "codemirror_mode": {
    "name": "ipython",
    "version": 3
   },
   "file_extension": ".py",
   "mimetype": "text/x-python",
   "name": "python",
   "nbconvert_exporter": "python",
   "pygments_lexer": "ipython3",
   "version": "3.8.12"
  }
 },
 "nbformat": 4,
 "nbformat_minor": 4
}
