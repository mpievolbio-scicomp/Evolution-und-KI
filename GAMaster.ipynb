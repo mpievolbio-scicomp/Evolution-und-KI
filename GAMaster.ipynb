{
 "cells": [
  {
   "cell_type": "code",
   "execution_count": 1,
   "metadata": {},
   "outputs": [],
   "source": [
    "%matplotlib inline"
   ]
  },
  {
   "cell_type": "code",
   "execution_count": 2,
   "metadata": {},
   "outputs": [],
   "source": [
    "%load_ext autoreload"
   ]
  },
  {
   "cell_type": "code",
   "execution_count": 3,
   "metadata": {},
   "outputs": [],
   "source": [
    "%autoreload 2"
   ]
  },
  {
   "cell_type": "code",
   "execution_count": 4,
   "metadata": {},
   "outputs": [],
   "source": [
    "import sys"
   ]
  },
  {
   "cell_type": "code",
   "execution_count": 5,
   "metadata": {},
   "outputs": [],
   "source": [
    "sys.path.insert(0, '../gahyparopt/')\n",
    "sys.path.insert(0, '../evolution-und-ki')"
   ]
  },
  {
   "cell_type": "code",
   "execution_count": 6,
   "metadata": {},
   "outputs": [],
   "source": [
    "from gahyperopt import *"
   ]
  },
  {
   "cell_type": "code",
   "execution_count": 25,
   "metadata": {},
   "outputs": [],
   "source": [
    "import ipywidgets as widgets\n",
    "import os, shutil, shlex\n",
    "import json, io\n",
    "from subprocess import Popen, PIPE, STDOUT\n",
    "from contextlib import redirect_stdout, redirect_stderr\n",
    "from datetime import datetime\n",
    "import tensorflow as tf\n",
    "import pandas\n",
    "from matplotlib import pyplot\n",
    "from ipywidgets.widgets.interaction import show_inline_matplotlib_plots\n",
    "from keras import backend as K\n",
    "import glob\n",
    "from collections import OrderedDict\n",
    "import numpy"
   ]
  },
  {
   "cell_type": "code",
   "execution_count": 8,
   "metadata": {},
   "outputs": [],
   "source": [
    "from GAUtilities import *"
   ]
  },
  {
   "cell_type": "code",
   "execution_count": 9,
   "metadata": {},
   "outputs": [],
   "source": [
    "from parameters import *"
   ]
  },
  {
   "cell_type": "code",
   "execution_count": 10,
   "metadata": {},
   "outputs": [],
   "source": [
    "def load_population():\n",
    "    json_fnames = glob.glob(\"*.json\")\n",
    "    population = []\n",
    "    names = []\n",
    "    for j in json_fnames:\n",
    "        name = j.split(\".\")[0]\n",
    "        names.append(name)\n",
    "        individuum = read_chromosome(j.split('.')[0])\n",
    "        population.append(individuum)\n",
    "        \n",
    "    population = OrderedDict(zip(names, population))\n",
    "    population=OrderedDict(sorted(population.items(),key=lambda x: x[1].accuracy, reverse=True))\n",
    "    return population"
   ]
  },
  {
   "cell_type": "code",
   "execution_count": 11,
   "metadata": {},
   "outputs": [],
   "source": [
    "POPULATION_SIZE=6"
   ]
  },
  {
   "cell_type": "code",
   "execution_count": 12,
   "metadata": {},
   "outputs": [],
   "source": [
    "ga=GADriver(\n",
    "            layer_counts=HIDDEN_LAYER_COUNT,\n",
    "            no_neurons=HIDDEN_LAYER_NEURONS,\n",
    "            rates=HIDDEN_LAYER_RATE,\n",
    "            activations=HIDDEN_LAYER_ACTIVATIONS,\n",
    "            layer_types=HIDDEN_LAYER_TYPE,\n",
    "            optimizers=MODEL_OPTIMIZER,\n",
    "            population_size=POPULATION_SIZE,\n",
    "            best_candidates_count=BEST_CANDIDATES_COUNT,\n",
    "            random_candidates_count=RANDOM_CANDIDATES_COUNT,\n",
    "            optimizer_mutation_probability=OPTIMIZER_MUTATION_PROBABILITY,\n",
    "            layer_mutation_probability=HIDDEN_LAYER_MUTATION_PROBABILITY,\n",
    "        )"
   ]
  },
  {
   "cell_type": "code",
   "execution_count": 13,
   "metadata": {},
   "outputs": [],
   "source": [
    "class model(object):\n",
    "    generation_performance = {}\n",
    "    population=None\n",
    "    generations={0:None}"
   ]
  },
  {
   "cell_type": "code",
   "execution_count": 26,
   "metadata": {},
   "outputs": [],
   "source": [
    "pull_button = widgets.Button(description=\"Generation aktualisieren\")\n",
    "def pull_button_clicked(b):\n",
    "    log_widget.clear_output()\n",
    "    with log_widget:\n",
    "        git_pull(name='all')\n",
    "pull_button.on_click(pull_button_clicked)\n",
    "    \n",
    "generation_count = widgets.BoundedIntText(value=0, min=0, max=0)\n",
    "\n",
    "def on_generation_count_change(change):\n",
    "    log_widget.clear_output()\n",
    "    with log_widget:\n",
    "        df = model.generation_performance[change['new']]\n",
    "        \n",
    "    plot_accuracy_vs_name(df)\n",
    "generation_count.observe(on_generation_count_change, names=['value'])    \n",
    "\n",
    "generation_button = widgets.Button(description=\"Generation laden\")\n",
    "\n",
    "def generation_button_clicked(b):\n",
    "    log_widget.clear_output()\n",
    "    with log_widget:\n",
    "        model.population = load_population()\n",
    "\n",
    "        df = pandas.DataFrame([\n",
    "            {'name': key,\n",
    "             'loss': model.population[key].loss,\n",
    "             'accuracy': model.population[key].accuracy\n",
    "            } for key in model.population.keys()\n",
    "        ])\n",
    "        generation_index = max(model.generations.keys())+1\n",
    "        model.generation_performance[generation_index] = df\n",
    "        model.generations[generation_index] = model.population\n",
    "        generation_count.max = generation_index\n",
    "        generation_count.min = 1\n",
    "        generation_count.value = generation_index\n",
    "    \n",
    "generation_button.on_click(generation_button_clicked)\n",
    "\n",
    "evolve_button = widgets.Button(description=\"Evolution!\")\n",
    "def evolve_button_clicked(b):\n",
    "    log_widget.clear_output()\n",
    "    with log_widget:\n",
    "        new_chromosomes = ga.evolve_population(list(model.population.values()))\n",
    "        model.population = OrderedDict(zip(model.population.keys(), new_chromosomes))\n",
    "evolve_button.on_click(evolve_button_clicked)\n",
    "\n",
    "distribute_button = widgets.Button(description=\"Generation verteilen\")\n",
    "def distribute_button_clicked(b):\n",
    "    log_widget.clear_output()\n",
    "    with log_widget:\n",
    "        for name,individuum in model.population.items():\n",
    "            write_chromosome(name=name,chromosome=individuum)\n",
    "            git_push(name)\n",
    "distribute_button.on_click(distribute_button_clicked)\n",
    "\n",
    "accuracy_plot_widget = widgets.Output(layout={'border': '1px solid black', 'width':'50%', 'height':'500px', 'scroll':'true'})\n",
    "# generation_tree_widget = widgets.Output(layout={'border': '1px solid black', 'width':'80%', 'scroll':'true'})\n",
    "log_widget = widgets.Output(layout={'border': '1px solid black', 'width':'80%', 'scroll':'true'})\n",
    "\n",
    "def plot_accuracy_vs_name(df):\n",
    "    accuracy_plot_widget.clear_output()\n",
    "    with accuracy_plot_widget:\n",
    "        fig, ax = pyplot.subplots(2,1,sharex=True,figsize=(7,8))\n",
    "        df.iloc[::-1,::-1].plot.barh(x='name',y='accuracy', ax=ax[0],grid=True)\n",
    "        df['accuracy'].plot.hist(ax=ax[1],grid=True, bins=numpy.linspace(0.,1.0, 21))\n",
    "        show_inline_matplotlib_plots()\n",
    "\n",
    "def plot_generation_tree():\n",
    "    pass\n",
    "\n",
    "def update_generation_tree(df):\n",
    "    pass\n",
    "\n",
    "gui = widgets.VBox(children=[\n",
    "    widgets.HBox([pull_button, generation_button]),\n",
    "    generation_count,\n",
    "    accuracy_plot_widget,\n",
    "#     generation_tree_widget,\n",
    "    evolve_button,\n",
    "    distribute_button,\n",
    "    log_widget,\n",
    "])"
   ]
  },
  {
   "cell_type": "code",
   "execution_count": 27,
   "metadata": {},
   "outputs": [
    {
     "data": {
      "application/vnd.jupyter.widget-view+json": {
       "model_id": "b019513b6e2e4c778a01a8cd51450b1a",
       "version_major": 2,
       "version_minor": 0
      },
      "text/plain": [
       "VBox(children=(HBox(children=(Button(description='Generation aktualisieren', style=ButtonStyle()), Button(desc…"
      ]
     },
     "metadata": {},
     "output_type": "display_data"
    }
   ],
   "source": [
    "display(gui)"
   ]
  },
  {
   "cell_type": "code",
   "execution_count": 21,
   "metadata": {},
   "outputs": [
    {
     "name": "stdout",
     "output_type": "stream",
     "text": [
      "B hgwnpuljacaw czvlxeyrdbhw njxoeicgvmka\n",
      "E hgwnpuljacaw wjmoexwllspq czvlxeyrdbhw\n",
      "C czvlxeyrdbhw hgwnpuljacaw fnpokbmggqsf\n",
      "F None None hgwnpuljacaw\n",
      "D None None hgwnpuljacaw\n",
      "A hgwnpuljacaw czvlxeyrdbhw vwraqzdepgru\n"
     ]
    }
   ],
   "source": [
    "for pl, ind in model.population.items():\n",
    "    print(pl, ind.parent_a, ind.parent_b, ind.id)\n",
    "    #ind.ml_model.summary()"
   ]
  },
  {
   "cell_type": "code",
   "execution_count": 29,
   "metadata": {},
   "outputs": [],
   "source": [
    "import newick"
   ]
  },
  {
   "cell_type": "code",
   "execution_count": 32,
   "metadata": {},
   "outputs": [],
   "source": [
    "# Generate tree\n",
    "initial_population = model.generations[1]"
   ]
  },
  {
   "cell_type": "code",
   "execution_count": 36,
   "metadata": {},
   "outputs": [],
   "source": [
    "winner = newick.Node.create(name=model.generations[-1], descendants=None)"
   ]
  },
  {
   "cell_type": "code",
   "execution_count": 38,
   "metadata": {},
   "outputs": [
    {
     "ename": "TypeError",
     "evalue": "add_descendant() missing 1 required positional argument: 'node'",
     "output_type": "error",
     "traceback": [
      "\u001b[0;31m---------------------------------------------------------------------------\u001b[0m",
      "\u001b[0;31mTypeError\u001b[0m                                 Traceback (most recent call last)",
      "\u001b[0;32m<ipython-input-38-0c364b82c0e7>\u001b[0m in \u001b[0;36m<module>\u001b[0;34m\u001b[0m\n\u001b[0;32m----> 1\u001b[0;31m \u001b[0mroot\u001b[0m\u001b[0;34m.\u001b[0m\u001b[0madd_descendant\u001b[0m\u001b[0;34m(\u001b[0m\u001b[0;34m)\u001b[0m\u001b[0;34m\u001b[0m\u001b[0;34m\u001b[0m\u001b[0m\n\u001b[0m",
      "\u001b[0;31mTypeError\u001b[0m: add_descendant() missing 1 required positional argument: 'node'"
     ]
    }
   ],
   "source": [
    "for gen, pop in model.generations:\n",
    "    \n",
    "root.add_descendant(newick.Node(name='A'))"
   ]
  },
  {
   "cell_type": "code",
   "execution_count": 48,
   "metadata": {},
   "outputs": [
    {
     "data": {
      "text/plain": [
       "OrderedDict([('B', <gahyperopt.Chromosome at 0x7f2e04767dc0>),\n",
       "             ('E', <gahyperopt.Chromosome at 0x7f2e045494f0>),\n",
       "             ('C', <gahyperopt.Chromosome at 0x7f2e045fbb80>),\n",
       "             ('F', <gahyperopt.Chromosome at 0x7f2de16089a0>),\n",
       "             ('D', <gahyperopt.Chromosome at 0x7f2de15bd280>),\n",
       "             ('A', <gahyperopt.Chromosome at 0x7f2e04635700>)])"
      ]
     },
     "execution_count": 48,
     "metadata": {},
     "output_type": "execute_result"
    }
   ],
   "source": [
    "model.generations[4]"
   ]
  },
  {
   "cell_type": "code",
   "execution_count": 50,
   "metadata": {},
   "outputs": [
    {
     "data": {
      "text/plain": [
       "0"
      ]
     },
     "execution_count": 50,
     "metadata": {},
     "output_type": "execute_result"
    }
   ],
   "source": [
    "generation_count.value"
   ]
  },
  {
   "cell_type": "code",
   "execution_count": 52,
   "metadata": {},
   "outputs": [
    {
     "data": {
      "text/plain": [
       "<gahyperopt.Chromosome at 0x7f2e04767dc0>"
      ]
     },
     "execution_count": 52,
     "metadata": {},
     "output_type": "execute_result"
    }
   ],
   "source": [
    "winner = model.generations[4]['B']; winner"
   ]
  },
  {
   "cell_type": "code",
   "execution_count": null,
   "metadata": {},
   "outputs": [],
   "source": [
    "for gen in range(4,0,-1):\n",
    "    for parent in \n",
    "    winner_node.add_descendant(parent.id)"
   ]
  },
  {
   "cell_type": "code",
   "execution_count": 53,
   "metadata": {},
   "outputs": [],
   "source": [
    "winner_node = newick.Node(name=winner.id)"
   ]
  },
  {
   "cell_type": "code",
   "execution_count": null,
   "metadata": {},
   "outputs": [],
   "source": [
    "def add_parents(node, parent_gen):\n",
    "    gen_dict = model.generations[parent_gen]\n",
    "    chromosomes = list(gen_dict.values())\n",
    "    \n",
    "    parent_ids = \n",
    "    node.add_descendant()\n",
    "    \n",
    "    \n",
    "    "
   ]
  },
  {
   "cell_type": "code",
   "execution_count": 43,
   "metadata": {
    "collapsed": true
   },
   "outputs": [
    {
     "name": "stdout",
     "output_type": "stream",
     "text": [
      "0\n",
      "1\n",
      "hgwnpuljacaw\n",
      "2\n",
      "hgwnpuljacaw\n",
      "3\n",
      "hgwnpuljacaw\n",
      "4\n",
      "hgwnpuljacaw\n"
     ]
    }
   ],
   "source": [
    "for gen, pop in model.generations.items():\n",
    "    print(gen)\n",
    "    if gen>0:\n",
    "        print(pop['D'].id)\n",
    "          "
   ]
  },
  {
   "cell_type": "code",
   "execution_count": null,
   "metadata": {},
   "outputs": [],
   "source": []
  },
  {
   "cell_type": "code",
   "execution_count": 31,
   "metadata": {},
   "outputs": [
    {
     "data": {
      "text/plain": [
       "{0: None,\n",
       " 1: OrderedDict([('D', <gahyperopt.Chromosome at 0x7f2e1c2a2d30>),\n",
       "              ('C', <gahyperopt.Chromosome at 0x7f2e1c233c70>),\n",
       "              ('F', <gahyperopt.Chromosome at 0x7f2e1dd3f340>),\n",
       "              ('E', <gahyperopt.Chromosome at 0x7f2e1c16c040>),\n",
       "              ('B', <gahyperopt.Chromosome at 0x7f2e1c1d4dc0>),\n",
       "              ('A', <gahyperopt.Chromosome at 0x7f2e1c1f2fd0>)]),\n",
       " 2: OrderedDict([('D', <gahyperopt.Chromosome at 0x7f2e142f6820>),\n",
       "              ('C', <gahyperopt.Chromosome at 0x7f2e142b11f0>),\n",
       "              ('A', <gahyperopt.Chromosome at 0x7f2e14265c70>),\n",
       "              ('E', <gahyperopt.Chromosome at 0x7f2e14204eb0>),\n",
       "              ('B', <gahyperopt.Chromosome at 0x7f2e14250a00>),\n",
       "              ('F', <gahyperopt.Chromosome at 0x7f2e142e6670>)]),\n",
       " 3: OrderedDict([('E', <gahyperopt.Chromosome at 0x7f2e04405340>),\n",
       "              ('D', <gahyperopt.Chromosome at 0x7f2e044dccd0>),\n",
       "              ('F', <gahyperopt.Chromosome at 0x7f2e044d2f40>),\n",
       "              ('B', <gahyperopt.Chromosome at 0x7f2e0443ae80>),\n",
       "              ('C', <gahyperopt.Chromosome at 0x7f2e0449fdf0>),\n",
       "              ('A', <gahyperopt.Chromosome at 0x7f2e0444dbb0>)]),\n",
       " 4: OrderedDict([('B', <gahyperopt.Chromosome at 0x7f2e04767dc0>),\n",
       "              ('E', <gahyperopt.Chromosome at 0x7f2e045494f0>),\n",
       "              ('C', <gahyperopt.Chromosome at 0x7f2e045fbb80>),\n",
       "              ('F', <gahyperopt.Chromosome at 0x7f2de16089a0>),\n",
       "              ('D', <gahyperopt.Chromosome at 0x7f2de15bd280>),\n",
       "              ('A', <gahyperopt.Chromosome at 0x7f2e04635700>)])}"
      ]
     },
     "execution_count": 31,
     "metadata": {},
     "output_type": "execute_result"
    }
   ],
   "source": [
    "model.generations"
   ]
  },
  {
   "cell_type": "code",
   "execution_count": null,
   "metadata": {},
   "outputs": [],
   "source": []
  }
 ],
 "metadata": {
  "kernelspec": {
   "display_name": "GAKernel",
   "language": "python",
   "name": "gakernel"
  },
  "language_info": {
   "codemirror_mode": {
    "name": "ipython",
    "version": 3
   },
   "file_extension": ".py",
   "mimetype": "text/x-python",
   "name": "python",
   "nbconvert_exporter": "python",
   "pygments_lexer": "ipython3",
   "version": "3.8.6"
  }
 },
 "nbformat": 4,
 "nbformat_minor": 4
}
