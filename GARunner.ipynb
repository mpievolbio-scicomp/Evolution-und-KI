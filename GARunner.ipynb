{
 "cells": [
  {
   "cell_type": "code",
   "execution_count": 1,
   "metadata": {
    "tags": []
   },
   "outputs": [],
   "source": [
    "%load_ext autoreload\n",
    "%autoreload 2"
   ]
  },
  {
   "cell_type": "code",
   "execution_count": 2,
   "metadata": {
    "tags": [
     "hide_input"
    ]
   },
   "outputs": [],
   "source": [
    "%matplotlib inline"
   ]
  },
  {
   "cell_type": "raw",
   "metadata": {},
   "source": [
    "# Only if multiple GPUs available\n",
    "import os\n",
    "os.environ['CUDA_VISIBLE_DEVICES'] = '4'"
   ]
  },
  {
   "cell_type": "code",
   "execution_count": 3,
   "metadata": {
    "tags": []
   },
   "outputs": [
    {
     "name": "stderr",
     "output_type": "stream",
     "text": [
      "2023-07-04 15:08:41.645719: I tensorflow/core/platform/cpu_feature_guard.cc:193] This TensorFlow binary is optimized with oneAPI Deep Neural Network Library (oneDNN) to use the following CPU instructions in performance-critical operations:  SSE4.1 SSE4.2 AVX AVX2 AVX512F AVX512_VNNI FMA\n",
      "To enable them in other operations, rebuild TensorFlow with the appropriate compiler flags.\n",
      "2023-07-04 15:08:41.723235: I tensorflow/core/util/port.cc:104] oneDNN custom operations are on. You may see slightly different numerical results due to floating-point round-off errors from different computation orders. To turn them off, set the environment variable `TF_ENABLE_ONEDNN_OPTS=0`.\n"
     ]
    }
   ],
   "source": [
    "import tensorflow as tf"
   ]
  },
  {
   "cell_type": "code",
   "execution_count": 4,
   "metadata": {
    "tags": []
   },
   "outputs": [],
   "source": [
    "from tqdm import tqdm"
   ]
  },
  {
   "cell_type": "code",
   "execution_count": 5,
   "metadata": {
    "tags": []
   },
   "outputs": [],
   "source": [
    "from gahyparopt.widgets import *\n",
    "from gahyparopt.GAUtilities import *"
   ]
  },
  {
   "cell_type": "code",
   "execution_count": 6,
   "metadata": {
    "tags": []
   },
   "outputs": [],
   "source": [
    "mnist = load_data()"
   ]
  },
  {
   "cell_type": "code",
   "execution_count": 7,
   "metadata": {
    "tags": []
   },
   "outputs": [],
   "source": [
    "import glob"
   ]
  },
  {
   "cell_type": "code",
   "execution_count": 8,
   "metadata": {
    "tags": []
   },
   "outputs": [],
   "source": [
    "players = [\"player_{0:02d}\".format(i) for i in range(1,8+1)]#[fn.split(\".\")[0] for fn in glob.glob('*.json')]"
   ]
  },
  {
   "cell_type": "code",
   "execution_count": 9,
   "metadata": {
    "tags": []
   },
   "outputs": [
    {
     "data": {
      "text/plain": [
       "['player_01',\n",
       " 'player_02',\n",
       " 'player_03',\n",
       " 'player_04',\n",
       " 'player_05',\n",
       " 'player_06',\n",
       " 'player_07',\n",
       " 'player_08']"
      ]
     },
     "execution_count": 9,
     "metadata": {},
     "output_type": "execute_result"
    }
   ],
   "source": [
    "players"
   ]
  },
  {
   "cell_type": "code",
   "execution_count": 10,
   "metadata": {
    "tags": []
   },
   "outputs": [],
   "source": [
    "game = dict([(p, game_instance(\n",
    "            ga=GADriver(\n",
    "            layer_counts=HIDDEN_LAYER_COUNT,\n",
    "            no_neurons=HIDDEN_LAYER_NEURONS,\n",
    "            rates=HIDDEN_LAYER_RATE,\n",
    "            activations=HIDDEN_LAYER_ACTIVATIONS,\n",
    "            layer_types=HIDDEN_LAYER_TYPE,\n",
    "            optimizers=MODEL_OPTIMIZER,\n",
    "            number_of_epochs=MODEL_EPOCHS,\n",
    "            steps_per_epoch=MODEL_STEPS_PER_EPOCH,\n",
    "            population_size=1,\n",
    "            best_candidates_count=BEST_CANDIDATES_COUNT,\n",
    "            random_candidates_count=RANDOM_CANDIDATES_COUNT,\n",
    "            optimizer_mutation_probability=OPTIMIZER_MUTATION_PROBABILITY,\n",
    "            layer_mutation_probability=HIDDEN_LAYER_MUTATION_PROBABILITY,\n",
    "        ))\n",
    "    ) for p in players])"
   ]
  },
  {
   "cell_type": "code",
   "execution_count": 11,
   "metadata": {
    "tags": []
   },
   "outputs": [
    {
     "name": "stderr",
     "output_type": "stream",
     "text": [
      "2023-07-04 15:08:44.136818: I tensorflow/core/platform/cpu_feature_guard.cc:193] This TensorFlow binary is optimized with oneAPI Deep Neural Network Library (oneDNN) to use the following CPU instructions in performance-critical operations:  SSE4.1 SSE4.2 AVX AVX2 AVX512F AVX512_VNNI FMA\n",
      "To enable them in other operations, rebuild TensorFlow with the appropriate compiler flags.\n",
      "2023-07-04 15:08:47.843264: I tensorflow/core/common_runtime/gpu/gpu_device.cc:1613] Created device /job:localhost/replica:0/task:0/device:GPU:0 with 9671 MB memory:  -> device: 0, name: NVIDIA GeForce RTX 2080 Ti, pci bus id: 0000:1a:00.0, compute capability: 7.5\n",
      "2023-07-04 15:08:47.844493: I tensorflow/core/common_runtime/gpu/gpu_device.cc:1613] Created device /job:localhost/replica:0/task:0/device:GPU:1 with 9671 MB memory:  -> device: 1, name: NVIDIA GeForce RTX 2080 Ti, pci bus id: 0000:1b:00.0, compute capability: 7.5\n",
      "2023-07-04 15:08:47.845642: I tensorflow/core/common_runtime/gpu/gpu_device.cc:1613] Created device /job:localhost/replica:0/task:0/device:GPU:2 with 9671 MB memory:  -> device: 2, name: NVIDIA GeForce RTX 2080 Ti, pci bus id: 0000:3d:00.0, compute capability: 7.5\n",
      "2023-07-04 15:08:47.846738: I tensorflow/core/common_runtime/gpu/gpu_device.cc:1613] Created device /job:localhost/replica:0/task:0/device:GPU:3 with 9671 MB memory:  -> device: 3, name: NVIDIA GeForce RTX 2080 Ti, pci bus id: 0000:3e:00.0, compute capability: 7.5\n",
      "2023-07-04 15:08:47.847756: I tensorflow/core/common_runtime/gpu/gpu_device.cc:1613] Created device /job:localhost/replica:0/task:0/device:GPU:4 with 9671 MB memory:  -> device: 4, name: NVIDIA GeForce RTX 2080 Ti, pci bus id: 0000:88:00.0, compute capability: 7.5\n",
      "2023-07-04 15:08:47.848766: I tensorflow/core/common_runtime/gpu/gpu_device.cc:1613] Created device /job:localhost/replica:0/task:0/device:GPU:5 with 9671 MB memory:  -> device: 5, name: NVIDIA GeForce RTX 2080 Ti, pci bus id: 0000:89:00.0, compute capability: 7.5\n",
      "2023-07-04 15:08:47.849809: I tensorflow/core/common_runtime/gpu/gpu_device.cc:1613] Created device /job:localhost/replica:0/task:0/device:GPU:6 with 9671 MB memory:  -> device: 6, name: NVIDIA GeForce RTX 2080 Ti, pci bus id: 0000:b1:00.0, compute capability: 7.5\n",
      "2023-07-04 15:08:47.850847: I tensorflow/core/common_runtime/gpu/gpu_device.cc:1613] Created device /job:localhost/replica:0/task:0/device:GPU:7 with 9671 MB memory:  -> device: 7, name: NVIDIA GeForce RTX 2080 Ti, pci bus id: 0000:b2:00.0, compute capability: 7.5\n"
     ]
    }
   ],
   "source": [
    "%%capture\n",
    "tf.keras.backend.clear_session\n",
    "# Init all players with data and model.\n",
    "for player, game in tqdm(games.items()):\n",
    "    game.name = player\n",
    "    game.data = mnist\n",
    "    game.individuum = create_start_individuum(game.ga)[0]\n",
    "    game.individuum.id = player\n",
    "    \n",
    "    \n",
    "    \n",
    "    \n",
    "    "
   ]
  },
  {
   "cell_type": "code",
   "execution_count": 16,
   "metadata": {
    "tags": []
   },
   "outputs": [],
   "source": [
    "generation = 0"
   ]
  },
  {
   "cell_type": "code",
   "execution_count": 21,
   "metadata": {
    "tags": []
   },
   "outputs": [],
   "source": [
    "# Training\n",
    "def develop_generation(generation, local_only=True):\n",
    "    for player, game in games.items():\n",
    "        clear_keras_session()\n",
    "        print(\"************ {} ******************\".format(player))\n",
    "        if not local_only:\n",
    "            sync_remote_to_local(game.name)\n",
    "        if generation > 0:\n",
    "            games[player].individuum = read_chromosome(game.name)\n",
    "            games[player].individuum.id = game.name\n",
    "\n",
    "        try:\n",
    "            games[player].history = train_individuum(game.ga, game.data, game.individuum)\n",
    "\n",
    "        except:\n",
    "            games[player].history = None\n",
    "\n",
    "        if games[player].history is not None:\n",
    "            try:\n",
    "                    loss, accuracy = evaluate_model(game.individuum.ml_model, game.data['x_val'], y=game.data['y_val'])\n",
    "            except:\n",
    "                accuracy = 0.0\n",
    "                loss = 100.0\n",
    "\n",
    "        else:\n",
    "            accuracy = 0.0\n",
    "            loss = 100.0\n",
    "\n",
    "        games[player].individuum.loss = loss\n",
    "        games[player].individuum.accuracy = accuracy\n",
    "\n",
    "        write_chromosome(game.name, game.individuum)\n",
    "        \n",
    "        if not local_only:\n",
    "            sync_local_to_remote(game.name)\n",
    "\n",
    "    return (generation + 1)\n",
    "\n",
    "    "
   ]
  },
  {
   "cell_type": "code",
   "execution_count": 32,
   "metadata": {
    "tags": []
   },
   "outputs": [
    {
     "name": "stdout",
     "output_type": "stream",
     "text": [
      "************ player_01 ******************\n",
      "Epoch 1/8\n",
      "100/100 [==============================] - 4s 29ms/step - loss: 0.7206 - accuracy: 0.7859 - val_loss: 0.3586 - val_accuracy: 0.9002\n",
      "Epoch 2/8\n",
      "100/100 [==============================] - 3s 28ms/step - loss: 0.3851 - accuracy: 0.8891 - val_loss: 0.3057 - val_accuracy: 0.9099\n",
      "Epoch 3/8\n",
      "100/100 [==============================] - 3s 27ms/step - loss: 0.3420 - accuracy: 0.9018 - val_loss: 0.2799 - val_accuracy: 0.9189\n",
      "Epoch 4/8\n",
      "100/100 [==============================] - 3s 27ms/step - loss: 0.3139 - accuracy: 0.9084 - val_loss: 0.2707 - val_accuracy: 0.9197\n",
      "Epoch 5/8\n",
      "100/100 [==============================] - 3s 27ms/step - loss: 0.2991 - accuracy: 0.9129 - val_loss: 0.2571 - val_accuracy: 0.9251\n",
      "Epoch 6/8\n",
      "100/100 [==============================] - 3s 28ms/step - loss: 0.2860 - accuracy: 0.9163 - val_loss: 0.2463 - val_accuracy: 0.9281\n",
      "Epoch 7/8\n",
      "100/100 [==============================] - 3s 28ms/step - loss: 0.2740 - accuracy: 0.9203 - val_loss: 0.2393 - val_accuracy: 0.9311\n",
      "Epoch 8/8\n",
      "100/100 [==============================] - 3s 27ms/step - loss: 0.2682 - accuracy: 0.9228 - val_loss: 0.2289 - val_accuracy: 0.9338\n",
      "625/625 [==============================] - 2s 4ms/step - loss: 0.2289 - accuracy: 0.9338\n",
      "************ player_02 ******************\n",
      "Epoch 1/6\n",
      "100/100 [==============================] - 4s 30ms/step - loss: 0.9663 - accuracy: 0.7485 - val_loss: 0.4145 - val_accuracy: 0.8960\n",
      "Epoch 2/6\n",
      "100/100 [==============================] - 3s 29ms/step - loss: 0.3528 - accuracy: 0.9060 - val_loss: 0.2887 - val_accuracy: 0.9179\n",
      "Epoch 3/6\n",
      "100/100 [==============================] - 3s 28ms/step - loss: 0.2676 - accuracy: 0.9243 - val_loss: 0.2404 - val_accuracy: 0.9295\n",
      "Epoch 4/6\n",
      "100/100 [==============================] - 3s 27ms/step - loss: 0.2221 - accuracy: 0.9366 - val_loss: 0.2081 - val_accuracy: 0.9395\n",
      "Epoch 5/6\n",
      "100/100 [==============================] - 3s 28ms/step - loss: 0.1888 - accuracy: 0.9459 - val_loss: 0.1857 - val_accuracy: 0.9455\n",
      "Epoch 6/6\n",
      "100/100 [==============================] - 2s 25ms/step - loss: 0.1622 - accuracy: 0.9526 - val_loss: 0.1676 - val_accuracy: 0.9507\n",
      "625/625 [==============================] - 2s 3ms/step - loss: 0.1676 - accuracy: 0.9507\n",
      "************ player_03 ******************\n",
      "Epoch 1/4\n",
      "100/100 [==============================] - 4s 28ms/step - loss: 1.3119 - accuracy: 0.6000 - val_loss: 0.7173 - val_accuracy: 0.8450\n",
      "Epoch 2/4\n",
      "100/100 [==============================] - 3s 26ms/step - loss: 0.7865 - accuracy: 0.7845 - val_loss: 0.4933 - val_accuracy: 0.8824\n",
      "Epoch 3/4\n",
      "100/100 [==============================] - 3s 27ms/step - loss: 0.6349 - accuracy: 0.8263 - val_loss: 0.4054 - val_accuracy: 0.8967\n",
      "Epoch 4/4\n",
      "100/100 [==============================] - 3s 25ms/step - loss: 0.5630 - accuracy: 0.8439 - val_loss: 0.3572 - val_accuracy: 0.9040\n",
      "625/625 [==============================] - 2s 3ms/step - loss: 0.3572 - accuracy: 0.9040\n",
      "************ player_04 ******************\n",
      "Epoch 1/4\n",
      "100/100 [==============================] - 4s 29ms/step - loss: 1.1259 - accuracy: 0.6582 - val_loss: 0.4437 - val_accuracy: 0.8906\n",
      "Epoch 2/4\n",
      "100/100 [==============================] - 3s 27ms/step - loss: 0.4255 - accuracy: 0.8839 - val_loss: 0.2998 - val_accuracy: 0.9181\n",
      "Epoch 3/4\n",
      "100/100 [==============================] - 3s 26ms/step - loss: 0.3265 - accuracy: 0.9090 - val_loss: 0.2495 - val_accuracy: 0.9280\n",
      "Epoch 4/4\n",
      "100/100 [==============================] - 3s 27ms/step - loss: 0.2711 - accuracy: 0.9244 - val_loss: 0.2196 - val_accuracy: 0.9351\n",
      "625/625 [==============================] - 2s 4ms/step - loss: 0.2196 - accuracy: 0.9351\n",
      "************ player_05 ******************\n",
      "Epoch 1/8\n",
      "100/100 [==============================] - 4s 29ms/step - loss: 0.6534 - accuracy: 0.8148 - val_loss: 0.3387 - val_accuracy: 0.9056\n",
      "Epoch 2/8\n",
      "100/100 [==============================] - 3s 26ms/step - loss: 0.3336 - accuracy: 0.9053 - val_loss: 0.2864 - val_accuracy: 0.9190\n",
      "Epoch 3/8\n",
      "100/100 [==============================] - 2s 24ms/step - loss: 0.2887 - accuracy: 0.9163 - val_loss: 0.2639 - val_accuracy: 0.9247\n",
      "Epoch 4/8\n",
      "100/100 [==============================] - 3s 26ms/step - loss: 0.2613 - accuracy: 0.9245 - val_loss: 0.2411 - val_accuracy: 0.9301\n",
      "Epoch 5/8\n",
      "100/100 [==============================] - 2s 25ms/step - loss: 0.2396 - accuracy: 0.9304 - val_loss: 0.2254 - val_accuracy: 0.9348\n",
      "Epoch 6/8\n",
      "100/100 [==============================] - 2s 24ms/step - loss: 0.2200 - accuracy: 0.9348 - val_loss: 0.2098 - val_accuracy: 0.9398\n",
      "Epoch 7/8\n",
      "100/100 [==============================] - 3s 26ms/step - loss: 0.2065 - accuracy: 0.9395 - val_loss: 0.1978 - val_accuracy: 0.9436\n",
      "Epoch 8/8\n",
      "100/100 [==============================] - 2s 25ms/step - loss: 0.1944 - accuracy: 0.9428 - val_loss: 0.1891 - val_accuracy: 0.9452\n",
      "625/625 [==============================] - 2s 4ms/step - loss: 0.1891 - accuracy: 0.9452\n",
      "************ player_06 ******************\n",
      "Epoch 1/4\n",
      "100/100 [==============================] - 3s 26ms/step - loss: 0.6620 - accuracy: 0.8096 - val_loss: 0.3493 - val_accuracy: 0.9017\n",
      "Epoch 2/4\n",
      "100/100 [==============================] - 2s 24ms/step - loss: 0.3381 - accuracy: 0.9029 - val_loss: 0.2930 - val_accuracy: 0.9155\n",
      "Epoch 3/4\n",
      "100/100 [==============================] - 3s 25ms/step - loss: 0.2915 - accuracy: 0.9160 - val_loss: 0.2631 - val_accuracy: 0.9241\n",
      "Epoch 4/4\n",
      "100/100 [==============================] - 2s 24ms/step - loss: 0.2637 - accuracy: 0.9232 - val_loss: 0.2419 - val_accuracy: 0.9301\n",
      "625/625 [==============================] - 2s 4ms/step - loss: 0.2419 - accuracy: 0.9301\n",
      "************ player_07 ******************\n",
      "Epoch 1/8\n",
      "100/100 [==============================] - 4s 29ms/step - loss: 0.6468 - accuracy: 0.8184 - val_loss: 0.3424 - val_accuracy: 0.9043\n",
      "Epoch 2/8\n",
      "100/100 [==============================] - 3s 26ms/step - loss: 0.3348 - accuracy: 0.9049 - val_loss: 0.2868 - val_accuracy: 0.9178\n",
      "Epoch 3/8\n",
      "100/100 [==============================] - 2s 25ms/step - loss: 0.2882 - accuracy: 0.9171 - val_loss: 0.2593 - val_accuracy: 0.9263\n",
      "Epoch 4/8\n",
      "100/100 [==============================] - 2s 25ms/step - loss: 0.2622 - accuracy: 0.9234 - val_loss: 0.2411 - val_accuracy: 0.9306\n",
      "Epoch 5/8\n",
      "100/100 [==============================] - 3s 27ms/step - loss: 0.2420 - accuracy: 0.9298 - val_loss: 0.2252 - val_accuracy: 0.9348\n",
      "Epoch 6/8\n",
      "100/100 [==============================] - 3s 27ms/step - loss: 0.2227 - accuracy: 0.9338 - val_loss: 0.2157 - val_accuracy: 0.9379\n",
      "Epoch 7/8\n",
      "100/100 [==============================] - 3s 26ms/step - loss: 0.2098 - accuracy: 0.9379 - val_loss: 0.2036 - val_accuracy: 0.9408\n",
      "Epoch 8/8\n",
      "100/100 [==============================] - 3s 27ms/step - loss: 0.1928 - accuracy: 0.9436 - val_loss: 0.1928 - val_accuracy: 0.9441\n",
      "625/625 [==============================] - 2s 4ms/step - loss: 0.1928 - accuracy: 0.9441\n",
      "************ player_08 ******************\n",
      "Epoch 1/8\n",
      "100/100 [==============================] - 4s 28ms/step - loss: 0.6891 - accuracy: 0.8012 - val_loss: 0.3568 - val_accuracy: 0.8992\n",
      "Epoch 2/8\n",
      "100/100 [==============================] - 3s 27ms/step - loss: 0.3411 - accuracy: 0.9039 - val_loss: 0.2948 - val_accuracy: 0.9151\n",
      "Epoch 3/8\n",
      "100/100 [==============================] - 3s 27ms/step - loss: 0.2932 - accuracy: 0.9157 - val_loss: 0.2629 - val_accuracy: 0.9244\n",
      "Epoch 4/8\n",
      "100/100 [==============================] - 3s 26ms/step - loss: 0.2656 - accuracy: 0.9228 - val_loss: 0.2448 - val_accuracy: 0.9280\n",
      "Epoch 5/8\n",
      "100/100 [==============================] - 3s 27ms/step - loss: 0.2458 - accuracy: 0.9287 - val_loss: 0.2277 - val_accuracy: 0.9342\n",
      "Epoch 6/8\n",
      "100/100 [==============================] - 3s 26ms/step - loss: 0.2276 - accuracy: 0.9334 - val_loss: 0.2166 - val_accuracy: 0.9375\n",
      "Epoch 7/8\n",
      "100/100 [==============================] - 2s 24ms/step - loss: 0.2110 - accuracy: 0.9380 - val_loss: 0.2024 - val_accuracy: 0.9420\n",
      "Epoch 8/8\n",
      "100/100 [==============================] - 3s 26ms/step - loss: 0.1985 - accuracy: 0.9417 - val_loss: 0.1921 - val_accuracy: 0.9443\n",
      "625/625 [==============================] - 2s 4ms/step - loss: 0.1921 - accuracy: 0.9443\n"
     ]
    }
   ],
   "source": [
    "generation = develop_generation(generation)"
   ]
  },
  {
   "cell_type": "code",
   "execution_count": 16,
   "metadata": {
    "tags": []
   },
   "outputs": [
    {
     "data": {
      "text/plain": [
       "2"
      ]
     },
     "execution_count": 16,
     "metadata": {},
     "output_type": "execute_result"
    }
   ],
   "source": [
    "generation"
   ]
  },
  {
   "cell_type": "markdown",
   "metadata": {},
   "source": [
    "# Danger zone!!!"
   ]
  },
  {
   "cell_type": "code",
   "execution_count": 15,
   "metadata": {
    "tags": []
   },
   "outputs": [],
   "source": [
    "delete_local()\n",
    "delete_remote()"
   ]
  },
  {
   "cell_type": "code",
   "execution_count": null,
   "metadata": {},
   "outputs": [],
   "source": []
  }
 ],
 "metadata": {
  "kernelspec": {
   "display_name": "Evolution and AI",
   "language": "python",
   "name": "evolai"
  },
  "language_info": {
   "codemirror_mode": {
    "name": "ipython",
    "version": 3
   },
   "file_extension": ".py",
   "mimetype": "text/x-python",
   "name": "python",
   "nbconvert_exporter": "python",
   "pygments_lexer": "ipython3",
   "version": "3.9.16"
  },
  "widgets": {
   "application/vnd.jupyter.widget-state+json": {
    "state": {},
    "version_major": 2,
    "version_minor": 0
   }
  }
 },
 "nbformat": 4,
 "nbformat_minor": 4
}
